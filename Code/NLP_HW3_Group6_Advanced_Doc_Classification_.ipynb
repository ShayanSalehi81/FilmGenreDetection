{
  "nbformat": 4,
  "nbformat_minor": 0,
  "metadata": {
    "colab": {
      "provenance": [],
      "gpuType": "T4",
      "collapsed_sections": [
        "atf0SyzC2zOf",
        "ychgwSGSG3bm",
        "Pn8jBBxb27VH",
        "XBriLAvV2-l_",
        "k4bTLyctw--Y"
      ]
    },
    "kernelspec": {
      "name": "python3",
      "display_name": "Python 3"
    },
    "language_info": {
      "name": "python"
    },
    "accelerator": "GPU"
  },
  "cells": [
    {
      "cell_type": "markdown",
      "source": [
        "# **Init**"
      ],
      "metadata": {
        "id": "QgFIM43e2u7Y"
      }
    },
    {
      "cell_type": "code",
      "source": [
        "!unzip dataset.zip"
      ],
      "metadata": {
        "id": "wegMnYiYAAT3"
      },
      "execution_count": null,
      "outputs": []
    },
    {
      "cell_type": "markdown",
      "source": [
        "Installing Necessary Packages"
      ],
      "metadata": {
        "id": "6WWST4ZjDeAr"
      }
    },
    {
      "cell_type": "code",
      "source": [
        "!pip install pandas\n",
        "!pip install hazm\n",
        "!pip install nltk\n",
        "!pip install scikit-learn matplotlib\n",
        "!pip install datasets"
      ],
      "metadata": {
        "id": "JguY_Ho-Dldb"
      },
      "execution_count": null,
      "outputs": []
    },
    {
      "cell_type": "markdown",
      "source": [
        "# **Data**"
      ],
      "metadata": {
        "id": "atf0SyzC2zOf"
      }
    },
    {
      "cell_type": "code",
      "source": [
        "import pandas as pd\n",
        "\n",
        "file_path = './dataset.csv'\n",
        "df = pd.read_csv(file_path)\n",
        "df = df.dropna(subset=['Content_1', 'Content_2'])\n",
        "df.head()"
      ],
      "metadata": {
        "colab": {
          "base_uri": "https://localhost:8080/",
          "height": 0
        },
        "id": "sbuCitJZCJUF",
        "outputId": "e5f22b59-eb02-4692-92e7-b5b1f11a6e48"
      },
      "execution_count": 2,
      "outputs": [
        {
          "output_type": "execute_result",
          "data": {
            "text/plain": [
              "                                                Link            EN_title  \\\n",
              "0  https://www.imvbox.com/watch-persian-movie-ira...   Local Anaesthetic   \n",
              "1  https://www.imvbox.com/watch-persian-movie-ira...         Disturbance   \n",
              "2  https://www.imvbox.com/watch-persian-movie-ira...           Highlight   \n",
              "3  https://www.imvbox.com/watch-persian-movie-ira...               Gilda   \n",
              "4  https://www.imvbox.com/watch-persian-movie-ira...  Atmosphere Station   \n",
              "\n",
              "     PENGLISH_title   PERSIAN_title  \\\n",
              "0  Bi Hessie Mozeie    بی‌حسی موضعی   \n",
              "1         Ashoftegi        آشفته گی   \n",
              "2           Haylayt         هایلایت   \n",
              "3            Geelda           گیلدا   \n",
              "4  Istgahe Atmosfer  ایستگاه اتمسفر   \n",
              "\n",
              "                                           Content_1  \\\n",
              "0  جلال‌، دانشجوی سابق رشته فلسفه، متوجه می‌شود خ...   \n",
              "1  «آشفته‌گی» رئالیستی و اجتماعی نیست. یک فیلم اس...   \n",
              "2  یک تصادف اتومبیل آدم‌هایی را در تقابل با هم قر...   \n",
              "3  گیلدا ماجرای زنی به نام «گیلدا» را روایت می کن...   \n",
              "4  این فیلم روایت گر داستان زندگی زوج جوانی به اس...   \n",
              "\n",
              "                                           Content_2  Score  Year  Genre Time  \n",
              "0  Jalal, a dropouts philosophy student, realizes...    4.8  2018  Drama   73  \n",
              "1  After the murder of his rich twin brother, Bar...    3.8  2018  Crime   78  \n",
              "2  A man and a woman are have a car accident and ...    4.4  2017  Drama   77  \n",
              "3  Gilda who owns a restaurant has a terrible nig...    3.8  2018  Drama   79  \n",
              "4  Vahid and Marjan are a young couple who have g...    5.6  2017  Drama   85  "
            ],
            "text/html": [
              "\n",
              "  <div id=\"df-cd7c4cea-ba9a-43f1-8429-577701018fe6\" class=\"colab-df-container\">\n",
              "    <div>\n",
              "<style scoped>\n",
              "    .dataframe tbody tr th:only-of-type {\n",
              "        vertical-align: middle;\n",
              "    }\n",
              "\n",
              "    .dataframe tbody tr th {\n",
              "        vertical-align: top;\n",
              "    }\n",
              "\n",
              "    .dataframe thead th {\n",
              "        text-align: right;\n",
              "    }\n",
              "</style>\n",
              "<table border=\"1\" class=\"dataframe\">\n",
              "  <thead>\n",
              "    <tr style=\"text-align: right;\">\n",
              "      <th></th>\n",
              "      <th>Link</th>\n",
              "      <th>EN_title</th>\n",
              "      <th>PENGLISH_title</th>\n",
              "      <th>PERSIAN_title</th>\n",
              "      <th>Content_1</th>\n",
              "      <th>Content_2</th>\n",
              "      <th>Score</th>\n",
              "      <th>Year</th>\n",
              "      <th>Genre</th>\n",
              "      <th>Time</th>\n",
              "    </tr>\n",
              "  </thead>\n",
              "  <tbody>\n",
              "    <tr>\n",
              "      <th>0</th>\n",
              "      <td>https://www.imvbox.com/watch-persian-movie-ira...</td>\n",
              "      <td>Local Anaesthetic</td>\n",
              "      <td>Bi Hessie Mozeie</td>\n",
              "      <td>بی‌حسی موضعی</td>\n",
              "      <td>جلال‌، دانشجوی سابق رشته فلسفه، متوجه می‌شود خ...</td>\n",
              "      <td>Jalal, a dropouts philosophy student, realizes...</td>\n",
              "      <td>4.8</td>\n",
              "      <td>2018</td>\n",
              "      <td>Drama</td>\n",
              "      <td>73</td>\n",
              "    </tr>\n",
              "    <tr>\n",
              "      <th>1</th>\n",
              "      <td>https://www.imvbox.com/watch-persian-movie-ira...</td>\n",
              "      <td>Disturbance</td>\n",
              "      <td>Ashoftegi</td>\n",
              "      <td>آشفته گی</td>\n",
              "      <td>«آشفته‌گی» رئالیستی و اجتماعی نیست. یک فیلم اس...</td>\n",
              "      <td>After the murder of his rich twin brother, Bar...</td>\n",
              "      <td>3.8</td>\n",
              "      <td>2018</td>\n",
              "      <td>Crime</td>\n",
              "      <td>78</td>\n",
              "    </tr>\n",
              "    <tr>\n",
              "      <th>2</th>\n",
              "      <td>https://www.imvbox.com/watch-persian-movie-ira...</td>\n",
              "      <td>Highlight</td>\n",
              "      <td>Haylayt</td>\n",
              "      <td>هایلایت</td>\n",
              "      <td>یک تصادف اتومبیل آدم‌هایی را در تقابل با هم قر...</td>\n",
              "      <td>A man and a woman are have a car accident and ...</td>\n",
              "      <td>4.4</td>\n",
              "      <td>2017</td>\n",
              "      <td>Drama</td>\n",
              "      <td>77</td>\n",
              "    </tr>\n",
              "    <tr>\n",
              "      <th>3</th>\n",
              "      <td>https://www.imvbox.com/watch-persian-movie-ira...</td>\n",
              "      <td>Gilda</td>\n",
              "      <td>Geelda</td>\n",
              "      <td>گیلدا</td>\n",
              "      <td>گیلدا ماجرای زنی به نام «گیلدا» را روایت می کن...</td>\n",
              "      <td>Gilda who owns a restaurant has a terrible nig...</td>\n",
              "      <td>3.8</td>\n",
              "      <td>2018</td>\n",
              "      <td>Drama</td>\n",
              "      <td>79</td>\n",
              "    </tr>\n",
              "    <tr>\n",
              "      <th>4</th>\n",
              "      <td>https://www.imvbox.com/watch-persian-movie-ira...</td>\n",
              "      <td>Atmosphere Station</td>\n",
              "      <td>Istgahe Atmosfer</td>\n",
              "      <td>ایستگاه اتمسفر</td>\n",
              "      <td>این فیلم روایت گر داستان زندگی زوج جوانی به اس...</td>\n",
              "      <td>Vahid and Marjan are a young couple who have g...</td>\n",
              "      <td>5.6</td>\n",
              "      <td>2017</td>\n",
              "      <td>Drama</td>\n",
              "      <td>85</td>\n",
              "    </tr>\n",
              "  </tbody>\n",
              "</table>\n",
              "</div>\n",
              "    <div class=\"colab-df-buttons\">\n",
              "\n",
              "  <div class=\"colab-df-container\">\n",
              "    <button class=\"colab-df-convert\" onclick=\"convertToInteractive('df-cd7c4cea-ba9a-43f1-8429-577701018fe6')\"\n",
              "            title=\"Convert this dataframe to an interactive table.\"\n",
              "            style=\"display:none;\">\n",
              "\n",
              "  <svg xmlns=\"http://www.w3.org/2000/svg\" height=\"24px\" viewBox=\"0 -960 960 960\">\n",
              "    <path d=\"M120-120v-720h720v720H120Zm60-500h600v-160H180v160Zm220 220h160v-160H400v160Zm0 220h160v-160H400v160ZM180-400h160v-160H180v160Zm440 0h160v-160H620v160ZM180-180h160v-160H180v160Zm440 0h160v-160H620v160Z\"/>\n",
              "  </svg>\n",
              "    </button>\n",
              "\n",
              "  <style>\n",
              "    .colab-df-container {\n",
              "      display:flex;\n",
              "      gap: 12px;\n",
              "    }\n",
              "\n",
              "    .colab-df-convert {\n",
              "      background-color: #E8F0FE;\n",
              "      border: none;\n",
              "      border-radius: 50%;\n",
              "      cursor: pointer;\n",
              "      display: none;\n",
              "      fill: #1967D2;\n",
              "      height: 32px;\n",
              "      padding: 0 0 0 0;\n",
              "      width: 32px;\n",
              "    }\n",
              "\n",
              "    .colab-df-convert:hover {\n",
              "      background-color: #E2EBFA;\n",
              "      box-shadow: 0px 1px 2px rgba(60, 64, 67, 0.3), 0px 1px 3px 1px rgba(60, 64, 67, 0.15);\n",
              "      fill: #174EA6;\n",
              "    }\n",
              "\n",
              "    .colab-df-buttons div {\n",
              "      margin-bottom: 4px;\n",
              "    }\n",
              "\n",
              "    [theme=dark] .colab-df-convert {\n",
              "      background-color: #3B4455;\n",
              "      fill: #D2E3FC;\n",
              "    }\n",
              "\n",
              "    [theme=dark] .colab-df-convert:hover {\n",
              "      background-color: #434B5C;\n",
              "      box-shadow: 0px 1px 3px 1px rgba(0, 0, 0, 0.15);\n",
              "      filter: drop-shadow(0px 1px 2px rgba(0, 0, 0, 0.3));\n",
              "      fill: #FFFFFF;\n",
              "    }\n",
              "  </style>\n",
              "\n",
              "    <script>\n",
              "      const buttonEl =\n",
              "        document.querySelector('#df-cd7c4cea-ba9a-43f1-8429-577701018fe6 button.colab-df-convert');\n",
              "      buttonEl.style.display =\n",
              "        google.colab.kernel.accessAllowed ? 'block' : 'none';\n",
              "\n",
              "      async function convertToInteractive(key) {\n",
              "        const element = document.querySelector('#df-cd7c4cea-ba9a-43f1-8429-577701018fe6');\n",
              "        const dataTable =\n",
              "          await google.colab.kernel.invokeFunction('convertToInteractive',\n",
              "                                                    [key], {});\n",
              "        if (!dataTable) return;\n",
              "\n",
              "        const docLinkHtml = 'Like what you see? Visit the ' +\n",
              "          '<a target=\"_blank\" href=https://colab.research.google.com/notebooks/data_table.ipynb>data table notebook</a>'\n",
              "          + ' to learn more about interactive tables.';\n",
              "        element.innerHTML = '';\n",
              "        dataTable['output_type'] = 'display_data';\n",
              "        await google.colab.output.renderOutput(dataTable, element);\n",
              "        const docLink = document.createElement('div');\n",
              "        docLink.innerHTML = docLinkHtml;\n",
              "        element.appendChild(docLink);\n",
              "      }\n",
              "    </script>\n",
              "  </div>\n",
              "\n",
              "\n",
              "<div id=\"df-0b298a69-f5aa-424b-af18-a5ee21432b70\">\n",
              "  <button class=\"colab-df-quickchart\" onclick=\"quickchart('df-0b298a69-f5aa-424b-af18-a5ee21432b70')\"\n",
              "            title=\"Suggest charts\"\n",
              "            style=\"display:none;\">\n",
              "\n",
              "<svg xmlns=\"http://www.w3.org/2000/svg\" height=\"24px\"viewBox=\"0 0 24 24\"\n",
              "     width=\"24px\">\n",
              "    <g>\n",
              "        <path d=\"M19 3H5c-1.1 0-2 .9-2 2v14c0 1.1.9 2 2 2h14c1.1 0 2-.9 2-2V5c0-1.1-.9-2-2-2zM9 17H7v-7h2v7zm4 0h-2V7h2v10zm4 0h-2v-4h2v4z\"/>\n",
              "    </g>\n",
              "</svg>\n",
              "  </button>\n",
              "\n",
              "<style>\n",
              "  .colab-df-quickchart {\n",
              "      --bg-color: #E8F0FE;\n",
              "      --fill-color: #1967D2;\n",
              "      --hover-bg-color: #E2EBFA;\n",
              "      --hover-fill-color: #174EA6;\n",
              "      --disabled-fill-color: #AAA;\n",
              "      --disabled-bg-color: #DDD;\n",
              "  }\n",
              "\n",
              "  [theme=dark] .colab-df-quickchart {\n",
              "      --bg-color: #3B4455;\n",
              "      --fill-color: #D2E3FC;\n",
              "      --hover-bg-color: #434B5C;\n",
              "      --hover-fill-color: #FFFFFF;\n",
              "      --disabled-bg-color: #3B4455;\n",
              "      --disabled-fill-color: #666;\n",
              "  }\n",
              "\n",
              "  .colab-df-quickchart {\n",
              "    background-color: var(--bg-color);\n",
              "    border: none;\n",
              "    border-radius: 50%;\n",
              "    cursor: pointer;\n",
              "    display: none;\n",
              "    fill: var(--fill-color);\n",
              "    height: 32px;\n",
              "    padding: 0;\n",
              "    width: 32px;\n",
              "  }\n",
              "\n",
              "  .colab-df-quickchart:hover {\n",
              "    background-color: var(--hover-bg-color);\n",
              "    box-shadow: 0 1px 2px rgba(60, 64, 67, 0.3), 0 1px 3px 1px rgba(60, 64, 67, 0.15);\n",
              "    fill: var(--button-hover-fill-color);\n",
              "  }\n",
              "\n",
              "  .colab-df-quickchart-complete:disabled,\n",
              "  .colab-df-quickchart-complete:disabled:hover {\n",
              "    background-color: var(--disabled-bg-color);\n",
              "    fill: var(--disabled-fill-color);\n",
              "    box-shadow: none;\n",
              "  }\n",
              "\n",
              "  .colab-df-spinner {\n",
              "    border: 2px solid var(--fill-color);\n",
              "    border-color: transparent;\n",
              "    border-bottom-color: var(--fill-color);\n",
              "    animation:\n",
              "      spin 1s steps(1) infinite;\n",
              "  }\n",
              "\n",
              "  @keyframes spin {\n",
              "    0% {\n",
              "      border-color: transparent;\n",
              "      border-bottom-color: var(--fill-color);\n",
              "      border-left-color: var(--fill-color);\n",
              "    }\n",
              "    20% {\n",
              "      border-color: transparent;\n",
              "      border-left-color: var(--fill-color);\n",
              "      border-top-color: var(--fill-color);\n",
              "    }\n",
              "    30% {\n",
              "      border-color: transparent;\n",
              "      border-left-color: var(--fill-color);\n",
              "      border-top-color: var(--fill-color);\n",
              "      border-right-color: var(--fill-color);\n",
              "    }\n",
              "    40% {\n",
              "      border-color: transparent;\n",
              "      border-right-color: var(--fill-color);\n",
              "      border-top-color: var(--fill-color);\n",
              "    }\n",
              "    60% {\n",
              "      border-color: transparent;\n",
              "      border-right-color: var(--fill-color);\n",
              "    }\n",
              "    80% {\n",
              "      border-color: transparent;\n",
              "      border-right-color: var(--fill-color);\n",
              "      border-bottom-color: var(--fill-color);\n",
              "    }\n",
              "    90% {\n",
              "      border-color: transparent;\n",
              "      border-bottom-color: var(--fill-color);\n",
              "    }\n",
              "  }\n",
              "</style>\n",
              "\n",
              "  <script>\n",
              "    async function quickchart(key) {\n",
              "      const quickchartButtonEl =\n",
              "        document.querySelector('#' + key + ' button');\n",
              "      quickchartButtonEl.disabled = true;  // To prevent multiple clicks.\n",
              "      quickchartButtonEl.classList.add('colab-df-spinner');\n",
              "      try {\n",
              "        const charts = await google.colab.kernel.invokeFunction(\n",
              "            'suggestCharts', [key], {});\n",
              "      } catch (error) {\n",
              "        console.error('Error during call to suggestCharts:', error);\n",
              "      }\n",
              "      quickchartButtonEl.classList.remove('colab-df-spinner');\n",
              "      quickchartButtonEl.classList.add('colab-df-quickchart-complete');\n",
              "    }\n",
              "    (() => {\n",
              "      let quickchartButtonEl =\n",
              "        document.querySelector('#df-0b298a69-f5aa-424b-af18-a5ee21432b70 button');\n",
              "      quickchartButtonEl.style.display =\n",
              "        google.colab.kernel.accessAllowed ? 'block' : 'none';\n",
              "    })();\n",
              "  </script>\n",
              "</div>\n",
              "    </div>\n",
              "  </div>\n"
            ],
            "application/vnd.google.colaboratory.intrinsic+json": {
              "type": "dataframe",
              "variable_name": "df",
              "summary": "{\n  \"name\": \"df\",\n  \"rows\": 932,\n  \"fields\": [\n    {\n      \"column\": \"Link\",\n      \"properties\": {\n        \"dtype\": \"string\",\n        \"num_unique_values\": 932,\n        \"samples\": [\n          \"https://www.imvbox.com/watch-persian-movie-iranian-movies/the-hustler-shetabzadeh\",\n          \"https://www.imvbox.com/watch-persian-movie-iranian-movies/the-pigs-gene-zhene-khook\",\n          \"https://www.imvbox.com/watch-persian-movie-iranian-movies/the-last-queen-of-earth-akharin-malake-zamin\"\n        ],\n        \"semantic_type\": \"\",\n        \"description\": \"\"\n      }\n    },\n    {\n      \"column\": \"EN_title\",\n      \"properties\": {\n        \"dtype\": \"string\",\n        \"num_unique_values\": 928,\n        \"samples\": [\n          \"Red\",\n          \"Tokyo Non\",\n          \"The 23\"\n        ],\n        \"semantic_type\": \"\",\n        \"description\": \"\"\n      }\n    },\n    {\n      \"column\": \"PENGLISH_title\",\n      \"properties\": {\n        \"dtype\": \"string\",\n        \"num_unique_values\": 931,\n        \"samples\": [\n          \"Shetabzadeh\",\n          \"Zhene Khook\",\n          \"Akharin Malake Zamin\"\n        ],\n        \"semantic_type\": \"\",\n        \"description\": \"\"\n      }\n    },\n    {\n      \"column\": \"PERSIAN_title\",\n      \"properties\": {\n        \"dtype\": \"string\",\n        \"num_unique_values\": 932,\n        \"samples\": [\n          \"\\u0634\\u062a\\u0627\\u0628\\u0632\\u062f\\u0647\",\n          \"\\u0698\\u0646 \\u062e\\u0648\\u06a9\",\n          \"\\u0622\\u062e\\u0631\\u06cc\\u0646 \\u0645\\u0644\\u06a9\\u0647 \\u0632\\u0645\\u06cc\\u0646\"\n        ],\n        \"semantic_type\": \"\",\n        \"description\": \"\"\n      }\n    },\n    {\n      \"column\": \"Content_1\",\n      \"properties\": {\n        \"dtype\": \"string\",\n        \"num_unique_values\": 932,\n        \"samples\": [\n          \"\\u062f\\u0648 \\u0646\\u0641\\u0631 \\u0628\\u0627 \\u0633\\u0648\\u0621 \\u0627\\u0633\\u062a\\u0641\\u0627\\u062f\\u0647 \\u0627\\u0632 \\u0634\\u0631\\u0627\\u06cc\\u0637 \\u062e\\u0627\\u0635\\u06cc \\u0643\\u0647 \\u062c\\u0627\\u0645\\u0639\\u0647 \\u062f\\u0631 \\u0628\\u0639\\u062f \\u0627\\u0632 \\u0627\\u0646\\u0642\\u0644\\u0627\\u0628 \\u062f\\u0627\\u0634\\u062a\\u060c \\u0634\\u0631\\u0648\\u0639 \\u0628\\u0647 \\u0645\\u0627\\u0644 \\u0627\\u0646\\u062f\\u0648\\u0632\\u06cc \\u0645\\u06cc \\u0643\\u0646\\u0646\\u062f \\u0648 \\u062f\\u0631 \\u0646\\u0647\\u0627\\u06cc\\u062a \\u0648\\u0642\\u062a\\u06cc \\u0628\\u0647 \\u0647\\u062f\\u0641 \\u062e\\u0648\\u062f \\u0645\\u06cc \\u0631\\u0633\\u0646\\u062f \\u0631\\u0648 \\u062f\\u0631 \\u0631\\u0648\\u06cc \\u0647\\u0645 \\u0642\\u0631\\u0627\\u0631 \\u0645\\u06cc \\u06af\\u06cc\\u0631\\u0646\\u062f \\u0648 \\u0642\\u0635\\u062f \\u0646\\u0627\\u0628\\u0648\\u062f\\u06cc \\u06cc\\u0643\\u062f\\u06cc\\u06af\\u0631 \\u0631\\u0627 \\u0645\\u06cc \\u0643\\u0646\\u0646\\u062f.\",\n          \"\\u062f\\u0648 \\u0632\\u0646\\u062f\\u0627\\u0646\\u06cc \\u0642\\u0635\\u062f \\u062f\\u0627\\u0631\\u0646\\u062f \\u0627\\u0632 \\u0632\\u0646\\u062f\\u0627\\u0646 \\u0641\\u0631\\u0627\\u0631 \\u06a9\\u0646\\u0646\\u062f.\",\n          \"\\u0639\\u0644\\u06cc \\u0628\\u062e\\u0634 \\u062c\\u0648\\u0627\\u0646 \\u0627\\u0641\\u063a\\u0627\\u0646\\u06cc \\u0627\\u0633\\u062a \\u06a9\\u0647 \\u0628\\u0631\\u0627\\u06cc \\u06a9\\u0627\\u0631 \\u0628\\u0647 \\u0627\\u06cc\\u0631\\u0627\\u0646 \\u0622\\u0645\\u062f\\u0647 \\u0648 \\u0645\\u062f\\u062a\\u06cc \\u0627\\u0632 \\u0647\\u0645\\u0633\\u0631\\u0634 \\u0634\\u0627\\u0647 \\u06af\\u0644 \\u0628\\u06cc \\u062e\\u0628\\u0631 \\u0627\\u0633\\u062a. \\u0628\\u0647 \\u062f\\u0644\\u06cc\\u0644 \\u062a\\u0647\\u062f\\u06cc\\u062f \\u062d\\u0645\\u0644\\u0647 \\u0622\\u0645\\u0631\\u06cc\\u06a9\\u0627 \\u0648 \\u0646\\u06af\\u0631\\u0627\\u0646\\u06cc \\u0628\\u0631\\u0627\\u06cc \\u062e\\u0627\\u0646\\u0648\\u0627\\u062f\\u0647 \\u0627\\u0634 \\u0628\\u0647 \\u0627\\u0641\\u063a\\u0627\\u0646\\u0633\\u062a\\u0627\\u0646 \\u0628\\u0627\\u0632 \\u0645\\u06cc \\u06af\\u0631\\u062f\\u062f \\u0648 \\u062f\\u0631 \\u0627\\u06cc\\u0646 \\u0633\\u0641\\u0631 \\u0628\\u0627 \\u0627\\u062a\\u0641\\u0627\\u0642\\u0627\\u062a\\u06cc \\u0631\\u0648\\u0628\\u0631\\u0648 \\u0645\\u06cc \\u0634\\u0648\\u062f.\"\n        ],\n        \"semantic_type\": \"\",\n        \"description\": \"\"\n      }\n    },\n    {\n      \"column\": \"Content_2\",\n      \"properties\": {\n        \"dtype\": \"string\",\n        \"num_unique_values\": 932,\n        \"samples\": [\n          \"Two men misuse the critical situation that was going on after the Islamic revolution and start to accumulate wealth, and eventually, when they reach their goal, they turn against each other and have intentions to kill the other. In this stage, they face death which shows its face. Now, life seems different to them and each one starts to find a way to survive. This film attempts to show, through comedy, the behavior of two self-seekers against death.\",\n          \"The story is about two prisoners Emad Cat and Reza Kishmish who each have their own personal reasons to escape. Reza has a mission to take Emad to his step brothers without him noticing and Emad tries to save his love Mahi.Two prisoners are trying to escape from prison.\",\n          \"Alibakhsh is a young Afghan man working in Iran. Concerned that he hasn't heard from his family or his wife Shahgol in a while, and with the threat of an American attack looming over the region, Alibakhsh decides to make the long trek home. The journey though is fraught with ups and downs, and as Alibakhsh tries to discover the fate of his family, he finds he may just discover something about himself as well.\"\n        ],\n        \"semantic_type\": \"\",\n        \"description\": \"\"\n      }\n    },\n    {\n      \"column\": \"Score\",\n      \"properties\": {\n        \"dtype\": \"number\",\n        \"std\": 1.553614555066883,\n        \"min\": 0.0,\n        \"max\": 10.0,\n        \"num_unique_values\": 71,\n        \"samples\": [\n          5.7,\n          4.8,\n          7.8\n        ],\n        \"semantic_type\": \"\",\n        \"description\": \"\"\n      }\n    },\n    {\n      \"column\": \"Year\",\n      \"properties\": {\n        \"dtype\": \"number\",\n        \"std\": 9,\n        \"min\": 1969,\n        \"max\": 2020,\n        \"num_unique_values\": 48,\n        \"samples\": [\n          1988,\n          1980,\n          1987\n        ],\n        \"semantic_type\": \"\",\n        \"description\": \"\"\n      }\n    },\n    {\n      \"column\": \"Genre\",\n      \"properties\": {\n        \"dtype\": \"category\",\n        \"num_unique_values\": 17,\n        \"samples\": [\n          \"Drama\",\n          \"Crime\",\n          \"Mystery\"\n        ],\n        \"semantic_type\": \"\",\n        \"description\": \"\"\n      }\n    },\n    {\n      \"column\": \"Time\",\n      \"properties\": {\n        \"dtype\": \"category\",\n        \"num_unique_values\": 72,\n        \"samples\": [\n          \"85\",\n          \"113\",\n          \"91\"\n        ],\n        \"semantic_type\": \"\",\n        \"description\": \"\"\n      }\n    }\n  ]\n}"
            }
          },
          "metadata": {},
          "execution_count": 2
        }
      ]
    },
    {
      "cell_type": "code",
      "source": [
        "column_names = df.columns.tolist()\n",
        "\n",
        "print(column_names)"
      ],
      "metadata": {
        "colab": {
          "base_uri": "https://localhost:8080/"
        },
        "id": "a3ZwGMUqFhVt",
        "outputId": "d5915d01-8256-4225-9f62-c7cf8c0ac693"
      },
      "execution_count": 3,
      "outputs": [
        {
          "output_type": "stream",
          "name": "stdout",
          "text": [
            "['Link', 'EN_title', 'PENGLISH_title', 'PERSIAN_title', 'Content_1', 'Content_2', 'Score', 'Year', 'Genre', 'Time']\n"
          ]
        }
      ]
    },
    {
      "cell_type": "markdown",
      "source": [
        "accoring to the dataset explanations Content_1 contains the persian storyline of the movie and Content_2 contains the english storyline of the movie"
      ],
      "metadata": {
        "id": "feeQpQZjGI52"
      }
    },
    {
      "cell_type": "code",
      "source": [
        "unique_genres = set()\n",
        "\n",
        "for genres in df['Genre']:\n",
        "    for genre in genres.split(','):\n",
        "        unique_genres.add(genre.strip())\n",
        "\n",
        "unique_genres_list = list(unique_genres)\n",
        "\n",
        "unique_genres_list.sort()\n",
        "\n",
        "print(unique_genres_list)\n",
        "\n",
        "print(f'number of genres: '+str(len(unique_genres_list)))"
      ],
      "metadata": {
        "colab": {
          "base_uri": "https://localhost:8080/"
        },
        "id": "J-1gbj7DGa3I",
        "outputId": "4a6a015f-48d8-474e-e0a7-d0ef06c326c5"
      },
      "execution_count": 4,
      "outputs": [
        {
          "output_type": "stream",
          "name": "stdout",
          "text": [
            "['Action', 'Adventure', 'Animation', 'Arts & Literature', 'Comedy', 'Crime', 'Drama', 'Experimental', 'Family', 'History', 'Horror', 'Human Interest & Society', 'Mystery', 'Portrait', 'Romance', 'Thriller', 'War']\n",
            "number of genres: 17\n"
          ]
        }
      ]
    },
    {
      "cell_type": "code",
      "source": [
        "genre_counts = df['Genre'].value_counts()\n",
        "\n",
        "print(genre_counts)"
      ],
      "metadata": {
        "colab": {
          "base_uri": "https://localhost:8080/"
        },
        "id": "TA5dXsMbqTEL",
        "outputId": "ba57bd06-5337-4dae-9fcd-5082e20f1d13"
      },
      "execution_count": 5,
      "outputs": [
        {
          "output_type": "stream",
          "name": "stdout",
          "text": [
            "Genre\n",
            "Drama                       540\n",
            "Comedy                      177\n",
            "Action                       57\n",
            "Crime                        46\n",
            "Adventure                    37\n",
            "Family                       18\n",
            "War                          16\n",
            "Human Interest & Society      8\n",
            "Horror                        7\n",
            "History                       7\n",
            "Romance                       6\n",
            "Mystery                       4\n",
            "Arts & Literature             3\n",
            "Thriller                      2\n",
            "Experimental                  2\n",
            "Animation                     1\n",
            "Portrait                      1\n",
            "Name: count, dtype: int64\n"
          ]
        }
      ]
    },
    {
      "cell_type": "code",
      "source": [
        "genre_mapping = {\n",
        "    'Drama': 'Drama & Emotion',\n",
        "    'Romance': 'Drama & Emotion',\n",
        "    'Mystery': 'Drama & Emotion',\n",
        "    'Portrait': 'Drama & Emotion',\n",
        "    'Comedy': 'Comedy & Light-Hearted',\n",
        "    'Family': 'Comedy & Light-Hearted',\n",
        "    'Animation': 'Comedy & Light-Hearted',\n",
        "    'Action': 'Action & Adventure',\n",
        "    'Crime': 'Action & Adventure',\n",
        "    'Adventure': 'Action & Adventure',\n",
        "    'Thriller': 'Action & Adventure',\n",
        "    'War': 'Action & Adventure',\n",
        "    'Horror': 'Action & Adventure',\n",
        "    'Human Interest & Society': 'Culture & Society',\n",
        "    'Culture & Traditions': 'Culture & Society',\n",
        "    'History': 'Culture & Society',\n",
        "    'Architecture & Urbanism': 'Culture & Society',\n",
        "    'Arts & Literature': 'Arts & Nature',\n",
        "    'Music': 'Arts & Nature',\n",
        "    'Nature & Wildlife': 'Arts & Nature',\n",
        "    'Experimental': 'Arts & Nature'\n",
        "}\n",
        "\n",
        "df['Broad_Genre'] = df['Genre'].map(genre_mapping)"
      ],
      "metadata": {
        "id": "mgg9jWo5vn8y"
      },
      "execution_count": 6,
      "outputs": []
    },
    {
      "cell_type": "code",
      "source": [
        "df.head()"
      ],
      "metadata": {
        "colab": {
          "base_uri": "https://localhost:8080/",
          "height": 0
        },
        "id": "wN2g8QT4vvjJ",
        "outputId": "f3ebdfff-1a46-49e3-86d5-cfc7d29b89ed"
      },
      "execution_count": 7,
      "outputs": [
        {
          "output_type": "execute_result",
          "data": {
            "text/plain": [
              "                                                Link            EN_title  \\\n",
              "0  https://www.imvbox.com/watch-persian-movie-ira...   Local Anaesthetic   \n",
              "1  https://www.imvbox.com/watch-persian-movie-ira...         Disturbance   \n",
              "2  https://www.imvbox.com/watch-persian-movie-ira...           Highlight   \n",
              "3  https://www.imvbox.com/watch-persian-movie-ira...               Gilda   \n",
              "4  https://www.imvbox.com/watch-persian-movie-ira...  Atmosphere Station   \n",
              "\n",
              "     PENGLISH_title   PERSIAN_title  \\\n",
              "0  Bi Hessie Mozeie    بی‌حسی موضعی   \n",
              "1         Ashoftegi        آشفته گی   \n",
              "2           Haylayt         هایلایت   \n",
              "3            Geelda           گیلدا   \n",
              "4  Istgahe Atmosfer  ایستگاه اتمسفر   \n",
              "\n",
              "                                           Content_1  \\\n",
              "0  جلال‌، دانشجوی سابق رشته فلسفه، متوجه می‌شود خ...   \n",
              "1  «آشفته‌گی» رئالیستی و اجتماعی نیست. یک فیلم اس...   \n",
              "2  یک تصادف اتومبیل آدم‌هایی را در تقابل با هم قر...   \n",
              "3  گیلدا ماجرای زنی به نام «گیلدا» را روایت می کن...   \n",
              "4  این فیلم روایت گر داستان زندگی زوج جوانی به اس...   \n",
              "\n",
              "                                           Content_2  Score  Year  Genre Time  \\\n",
              "0  Jalal, a dropouts philosophy student, realizes...    4.8  2018  Drama   73   \n",
              "1  After the murder of his rich twin brother, Bar...    3.8  2018  Crime   78   \n",
              "2  A man and a woman are have a car accident and ...    4.4  2017  Drama   77   \n",
              "3  Gilda who owns a restaurant has a terrible nig...    3.8  2018  Drama   79   \n",
              "4  Vahid and Marjan are a young couple who have g...    5.6  2017  Drama   85   \n",
              "\n",
              "          Broad_Genre  \n",
              "0     Drama & Emotion  \n",
              "1  Action & Adventure  \n",
              "2     Drama & Emotion  \n",
              "3     Drama & Emotion  \n",
              "4     Drama & Emotion  "
            ],
            "text/html": [
              "\n",
              "  <div id=\"df-c9293ea0-8f46-4eb1-94e6-977b9ec44800\" class=\"colab-df-container\">\n",
              "    <div>\n",
              "<style scoped>\n",
              "    .dataframe tbody tr th:only-of-type {\n",
              "        vertical-align: middle;\n",
              "    }\n",
              "\n",
              "    .dataframe tbody tr th {\n",
              "        vertical-align: top;\n",
              "    }\n",
              "\n",
              "    .dataframe thead th {\n",
              "        text-align: right;\n",
              "    }\n",
              "</style>\n",
              "<table border=\"1\" class=\"dataframe\">\n",
              "  <thead>\n",
              "    <tr style=\"text-align: right;\">\n",
              "      <th></th>\n",
              "      <th>Link</th>\n",
              "      <th>EN_title</th>\n",
              "      <th>PENGLISH_title</th>\n",
              "      <th>PERSIAN_title</th>\n",
              "      <th>Content_1</th>\n",
              "      <th>Content_2</th>\n",
              "      <th>Score</th>\n",
              "      <th>Year</th>\n",
              "      <th>Genre</th>\n",
              "      <th>Time</th>\n",
              "      <th>Broad_Genre</th>\n",
              "    </tr>\n",
              "  </thead>\n",
              "  <tbody>\n",
              "    <tr>\n",
              "      <th>0</th>\n",
              "      <td>https://www.imvbox.com/watch-persian-movie-ira...</td>\n",
              "      <td>Local Anaesthetic</td>\n",
              "      <td>Bi Hessie Mozeie</td>\n",
              "      <td>بی‌حسی موضعی</td>\n",
              "      <td>جلال‌، دانشجوی سابق رشته فلسفه، متوجه می‌شود خ...</td>\n",
              "      <td>Jalal, a dropouts philosophy student, realizes...</td>\n",
              "      <td>4.8</td>\n",
              "      <td>2018</td>\n",
              "      <td>Drama</td>\n",
              "      <td>73</td>\n",
              "      <td>Drama &amp; Emotion</td>\n",
              "    </tr>\n",
              "    <tr>\n",
              "      <th>1</th>\n",
              "      <td>https://www.imvbox.com/watch-persian-movie-ira...</td>\n",
              "      <td>Disturbance</td>\n",
              "      <td>Ashoftegi</td>\n",
              "      <td>آشفته گی</td>\n",
              "      <td>«آشفته‌گی» رئالیستی و اجتماعی نیست. یک فیلم اس...</td>\n",
              "      <td>After the murder of his rich twin brother, Bar...</td>\n",
              "      <td>3.8</td>\n",
              "      <td>2018</td>\n",
              "      <td>Crime</td>\n",
              "      <td>78</td>\n",
              "      <td>Action &amp; Adventure</td>\n",
              "    </tr>\n",
              "    <tr>\n",
              "      <th>2</th>\n",
              "      <td>https://www.imvbox.com/watch-persian-movie-ira...</td>\n",
              "      <td>Highlight</td>\n",
              "      <td>Haylayt</td>\n",
              "      <td>هایلایت</td>\n",
              "      <td>یک تصادف اتومبیل آدم‌هایی را در تقابل با هم قر...</td>\n",
              "      <td>A man and a woman are have a car accident and ...</td>\n",
              "      <td>4.4</td>\n",
              "      <td>2017</td>\n",
              "      <td>Drama</td>\n",
              "      <td>77</td>\n",
              "      <td>Drama &amp; Emotion</td>\n",
              "    </tr>\n",
              "    <tr>\n",
              "      <th>3</th>\n",
              "      <td>https://www.imvbox.com/watch-persian-movie-ira...</td>\n",
              "      <td>Gilda</td>\n",
              "      <td>Geelda</td>\n",
              "      <td>گیلدا</td>\n",
              "      <td>گیلدا ماجرای زنی به نام «گیلدا» را روایت می کن...</td>\n",
              "      <td>Gilda who owns a restaurant has a terrible nig...</td>\n",
              "      <td>3.8</td>\n",
              "      <td>2018</td>\n",
              "      <td>Drama</td>\n",
              "      <td>79</td>\n",
              "      <td>Drama &amp; Emotion</td>\n",
              "    </tr>\n",
              "    <tr>\n",
              "      <th>4</th>\n",
              "      <td>https://www.imvbox.com/watch-persian-movie-ira...</td>\n",
              "      <td>Atmosphere Station</td>\n",
              "      <td>Istgahe Atmosfer</td>\n",
              "      <td>ایستگاه اتمسفر</td>\n",
              "      <td>این فیلم روایت گر داستان زندگی زوج جوانی به اس...</td>\n",
              "      <td>Vahid and Marjan are a young couple who have g...</td>\n",
              "      <td>5.6</td>\n",
              "      <td>2017</td>\n",
              "      <td>Drama</td>\n",
              "      <td>85</td>\n",
              "      <td>Drama &amp; Emotion</td>\n",
              "    </tr>\n",
              "  </tbody>\n",
              "</table>\n",
              "</div>\n",
              "    <div class=\"colab-df-buttons\">\n",
              "\n",
              "  <div class=\"colab-df-container\">\n",
              "    <button class=\"colab-df-convert\" onclick=\"convertToInteractive('df-c9293ea0-8f46-4eb1-94e6-977b9ec44800')\"\n",
              "            title=\"Convert this dataframe to an interactive table.\"\n",
              "            style=\"display:none;\">\n",
              "\n",
              "  <svg xmlns=\"http://www.w3.org/2000/svg\" height=\"24px\" viewBox=\"0 -960 960 960\">\n",
              "    <path d=\"M120-120v-720h720v720H120Zm60-500h600v-160H180v160Zm220 220h160v-160H400v160Zm0 220h160v-160H400v160ZM180-400h160v-160H180v160Zm440 0h160v-160H620v160ZM180-180h160v-160H180v160Zm440 0h160v-160H620v160Z\"/>\n",
              "  </svg>\n",
              "    </button>\n",
              "\n",
              "  <style>\n",
              "    .colab-df-container {\n",
              "      display:flex;\n",
              "      gap: 12px;\n",
              "    }\n",
              "\n",
              "    .colab-df-convert {\n",
              "      background-color: #E8F0FE;\n",
              "      border: none;\n",
              "      border-radius: 50%;\n",
              "      cursor: pointer;\n",
              "      display: none;\n",
              "      fill: #1967D2;\n",
              "      height: 32px;\n",
              "      padding: 0 0 0 0;\n",
              "      width: 32px;\n",
              "    }\n",
              "\n",
              "    .colab-df-convert:hover {\n",
              "      background-color: #E2EBFA;\n",
              "      box-shadow: 0px 1px 2px rgba(60, 64, 67, 0.3), 0px 1px 3px 1px rgba(60, 64, 67, 0.15);\n",
              "      fill: #174EA6;\n",
              "    }\n",
              "\n",
              "    .colab-df-buttons div {\n",
              "      margin-bottom: 4px;\n",
              "    }\n",
              "\n",
              "    [theme=dark] .colab-df-convert {\n",
              "      background-color: #3B4455;\n",
              "      fill: #D2E3FC;\n",
              "    }\n",
              "\n",
              "    [theme=dark] .colab-df-convert:hover {\n",
              "      background-color: #434B5C;\n",
              "      box-shadow: 0px 1px 3px 1px rgba(0, 0, 0, 0.15);\n",
              "      filter: drop-shadow(0px 1px 2px rgba(0, 0, 0, 0.3));\n",
              "      fill: #FFFFFF;\n",
              "    }\n",
              "  </style>\n",
              "\n",
              "    <script>\n",
              "      const buttonEl =\n",
              "        document.querySelector('#df-c9293ea0-8f46-4eb1-94e6-977b9ec44800 button.colab-df-convert');\n",
              "      buttonEl.style.display =\n",
              "        google.colab.kernel.accessAllowed ? 'block' : 'none';\n",
              "\n",
              "      async function convertToInteractive(key) {\n",
              "        const element = document.querySelector('#df-c9293ea0-8f46-4eb1-94e6-977b9ec44800');\n",
              "        const dataTable =\n",
              "          await google.colab.kernel.invokeFunction('convertToInteractive',\n",
              "                                                    [key], {});\n",
              "        if (!dataTable) return;\n",
              "\n",
              "        const docLinkHtml = 'Like what you see? Visit the ' +\n",
              "          '<a target=\"_blank\" href=https://colab.research.google.com/notebooks/data_table.ipynb>data table notebook</a>'\n",
              "          + ' to learn more about interactive tables.';\n",
              "        element.innerHTML = '';\n",
              "        dataTable['output_type'] = 'display_data';\n",
              "        await google.colab.output.renderOutput(dataTable, element);\n",
              "        const docLink = document.createElement('div');\n",
              "        docLink.innerHTML = docLinkHtml;\n",
              "        element.appendChild(docLink);\n",
              "      }\n",
              "    </script>\n",
              "  </div>\n",
              "\n",
              "\n",
              "<div id=\"df-c60b9712-14e0-4a2c-9def-8955cb2437bd\">\n",
              "  <button class=\"colab-df-quickchart\" onclick=\"quickchart('df-c60b9712-14e0-4a2c-9def-8955cb2437bd')\"\n",
              "            title=\"Suggest charts\"\n",
              "            style=\"display:none;\">\n",
              "\n",
              "<svg xmlns=\"http://www.w3.org/2000/svg\" height=\"24px\"viewBox=\"0 0 24 24\"\n",
              "     width=\"24px\">\n",
              "    <g>\n",
              "        <path d=\"M19 3H5c-1.1 0-2 .9-2 2v14c0 1.1.9 2 2 2h14c1.1 0 2-.9 2-2V5c0-1.1-.9-2-2-2zM9 17H7v-7h2v7zm4 0h-2V7h2v10zm4 0h-2v-4h2v4z\"/>\n",
              "    </g>\n",
              "</svg>\n",
              "  </button>\n",
              "\n",
              "<style>\n",
              "  .colab-df-quickchart {\n",
              "      --bg-color: #E8F0FE;\n",
              "      --fill-color: #1967D2;\n",
              "      --hover-bg-color: #E2EBFA;\n",
              "      --hover-fill-color: #174EA6;\n",
              "      --disabled-fill-color: #AAA;\n",
              "      --disabled-bg-color: #DDD;\n",
              "  }\n",
              "\n",
              "  [theme=dark] .colab-df-quickchart {\n",
              "      --bg-color: #3B4455;\n",
              "      --fill-color: #D2E3FC;\n",
              "      --hover-bg-color: #434B5C;\n",
              "      --hover-fill-color: #FFFFFF;\n",
              "      --disabled-bg-color: #3B4455;\n",
              "      --disabled-fill-color: #666;\n",
              "  }\n",
              "\n",
              "  .colab-df-quickchart {\n",
              "    background-color: var(--bg-color);\n",
              "    border: none;\n",
              "    border-radius: 50%;\n",
              "    cursor: pointer;\n",
              "    display: none;\n",
              "    fill: var(--fill-color);\n",
              "    height: 32px;\n",
              "    padding: 0;\n",
              "    width: 32px;\n",
              "  }\n",
              "\n",
              "  .colab-df-quickchart:hover {\n",
              "    background-color: var(--hover-bg-color);\n",
              "    box-shadow: 0 1px 2px rgba(60, 64, 67, 0.3), 0 1px 3px 1px rgba(60, 64, 67, 0.15);\n",
              "    fill: var(--button-hover-fill-color);\n",
              "  }\n",
              "\n",
              "  .colab-df-quickchart-complete:disabled,\n",
              "  .colab-df-quickchart-complete:disabled:hover {\n",
              "    background-color: var(--disabled-bg-color);\n",
              "    fill: var(--disabled-fill-color);\n",
              "    box-shadow: none;\n",
              "  }\n",
              "\n",
              "  .colab-df-spinner {\n",
              "    border: 2px solid var(--fill-color);\n",
              "    border-color: transparent;\n",
              "    border-bottom-color: var(--fill-color);\n",
              "    animation:\n",
              "      spin 1s steps(1) infinite;\n",
              "  }\n",
              "\n",
              "  @keyframes spin {\n",
              "    0% {\n",
              "      border-color: transparent;\n",
              "      border-bottom-color: var(--fill-color);\n",
              "      border-left-color: var(--fill-color);\n",
              "    }\n",
              "    20% {\n",
              "      border-color: transparent;\n",
              "      border-left-color: var(--fill-color);\n",
              "      border-top-color: var(--fill-color);\n",
              "    }\n",
              "    30% {\n",
              "      border-color: transparent;\n",
              "      border-left-color: var(--fill-color);\n",
              "      border-top-color: var(--fill-color);\n",
              "      border-right-color: var(--fill-color);\n",
              "    }\n",
              "    40% {\n",
              "      border-color: transparent;\n",
              "      border-right-color: var(--fill-color);\n",
              "      border-top-color: var(--fill-color);\n",
              "    }\n",
              "    60% {\n",
              "      border-color: transparent;\n",
              "      border-right-color: var(--fill-color);\n",
              "    }\n",
              "    80% {\n",
              "      border-color: transparent;\n",
              "      border-right-color: var(--fill-color);\n",
              "      border-bottom-color: var(--fill-color);\n",
              "    }\n",
              "    90% {\n",
              "      border-color: transparent;\n",
              "      border-bottom-color: var(--fill-color);\n",
              "    }\n",
              "  }\n",
              "</style>\n",
              "\n",
              "  <script>\n",
              "    async function quickchart(key) {\n",
              "      const quickchartButtonEl =\n",
              "        document.querySelector('#' + key + ' button');\n",
              "      quickchartButtonEl.disabled = true;  // To prevent multiple clicks.\n",
              "      quickchartButtonEl.classList.add('colab-df-spinner');\n",
              "      try {\n",
              "        const charts = await google.colab.kernel.invokeFunction(\n",
              "            'suggestCharts', [key], {});\n",
              "      } catch (error) {\n",
              "        console.error('Error during call to suggestCharts:', error);\n",
              "      }\n",
              "      quickchartButtonEl.classList.remove('colab-df-spinner');\n",
              "      quickchartButtonEl.classList.add('colab-df-quickchart-complete');\n",
              "    }\n",
              "    (() => {\n",
              "      let quickchartButtonEl =\n",
              "        document.querySelector('#df-c60b9712-14e0-4a2c-9def-8955cb2437bd button');\n",
              "      quickchartButtonEl.style.display =\n",
              "        google.colab.kernel.accessAllowed ? 'block' : 'none';\n",
              "    })();\n",
              "  </script>\n",
              "</div>\n",
              "    </div>\n",
              "  </div>\n"
            ],
            "application/vnd.google.colaboratory.intrinsic+json": {
              "type": "dataframe",
              "variable_name": "df",
              "summary": "{\n  \"name\": \"df\",\n  \"rows\": 932,\n  \"fields\": [\n    {\n      \"column\": \"Link\",\n      \"properties\": {\n        \"dtype\": \"string\",\n        \"num_unique_values\": 932,\n        \"samples\": [\n          \"https://www.imvbox.com/watch-persian-movie-iranian-movies/the-hustler-shetabzadeh\",\n          \"https://www.imvbox.com/watch-persian-movie-iranian-movies/the-pigs-gene-zhene-khook\",\n          \"https://www.imvbox.com/watch-persian-movie-iranian-movies/the-last-queen-of-earth-akharin-malake-zamin\"\n        ],\n        \"semantic_type\": \"\",\n        \"description\": \"\"\n      }\n    },\n    {\n      \"column\": \"EN_title\",\n      \"properties\": {\n        \"dtype\": \"string\",\n        \"num_unique_values\": 928,\n        \"samples\": [\n          \"Red\",\n          \"Tokyo Non\",\n          \"The 23\"\n        ],\n        \"semantic_type\": \"\",\n        \"description\": \"\"\n      }\n    },\n    {\n      \"column\": \"PENGLISH_title\",\n      \"properties\": {\n        \"dtype\": \"string\",\n        \"num_unique_values\": 931,\n        \"samples\": [\n          \"Shetabzadeh\",\n          \"Zhene Khook\",\n          \"Akharin Malake Zamin\"\n        ],\n        \"semantic_type\": \"\",\n        \"description\": \"\"\n      }\n    },\n    {\n      \"column\": \"PERSIAN_title\",\n      \"properties\": {\n        \"dtype\": \"string\",\n        \"num_unique_values\": 932,\n        \"samples\": [\n          \"\\u0634\\u062a\\u0627\\u0628\\u0632\\u062f\\u0647\",\n          \"\\u0698\\u0646 \\u062e\\u0648\\u06a9\",\n          \"\\u0622\\u062e\\u0631\\u06cc\\u0646 \\u0645\\u0644\\u06a9\\u0647 \\u0632\\u0645\\u06cc\\u0646\"\n        ],\n        \"semantic_type\": \"\",\n        \"description\": \"\"\n      }\n    },\n    {\n      \"column\": \"Content_1\",\n      \"properties\": {\n        \"dtype\": \"string\",\n        \"num_unique_values\": 932,\n        \"samples\": [\n          \"\\u062f\\u0648 \\u0646\\u0641\\u0631 \\u0628\\u0627 \\u0633\\u0648\\u0621 \\u0627\\u0633\\u062a\\u0641\\u0627\\u062f\\u0647 \\u0627\\u0632 \\u0634\\u0631\\u0627\\u06cc\\u0637 \\u062e\\u0627\\u0635\\u06cc \\u0643\\u0647 \\u062c\\u0627\\u0645\\u0639\\u0647 \\u062f\\u0631 \\u0628\\u0639\\u062f \\u0627\\u0632 \\u0627\\u0646\\u0642\\u0644\\u0627\\u0628 \\u062f\\u0627\\u0634\\u062a\\u060c \\u0634\\u0631\\u0648\\u0639 \\u0628\\u0647 \\u0645\\u0627\\u0644 \\u0627\\u0646\\u062f\\u0648\\u0632\\u06cc \\u0645\\u06cc \\u0643\\u0646\\u0646\\u062f \\u0648 \\u062f\\u0631 \\u0646\\u0647\\u0627\\u06cc\\u062a \\u0648\\u0642\\u062a\\u06cc \\u0628\\u0647 \\u0647\\u062f\\u0641 \\u062e\\u0648\\u062f \\u0645\\u06cc \\u0631\\u0633\\u0646\\u062f \\u0631\\u0648 \\u062f\\u0631 \\u0631\\u0648\\u06cc \\u0647\\u0645 \\u0642\\u0631\\u0627\\u0631 \\u0645\\u06cc \\u06af\\u06cc\\u0631\\u0646\\u062f \\u0648 \\u0642\\u0635\\u062f \\u0646\\u0627\\u0628\\u0648\\u062f\\u06cc \\u06cc\\u0643\\u062f\\u06cc\\u06af\\u0631 \\u0631\\u0627 \\u0645\\u06cc \\u0643\\u0646\\u0646\\u062f.\",\n          \"\\u062f\\u0648 \\u0632\\u0646\\u062f\\u0627\\u0646\\u06cc \\u0642\\u0635\\u062f \\u062f\\u0627\\u0631\\u0646\\u062f \\u0627\\u0632 \\u0632\\u0646\\u062f\\u0627\\u0646 \\u0641\\u0631\\u0627\\u0631 \\u06a9\\u0646\\u0646\\u062f.\",\n          \"\\u0639\\u0644\\u06cc \\u0628\\u062e\\u0634 \\u062c\\u0648\\u0627\\u0646 \\u0627\\u0641\\u063a\\u0627\\u0646\\u06cc \\u0627\\u0633\\u062a \\u06a9\\u0647 \\u0628\\u0631\\u0627\\u06cc \\u06a9\\u0627\\u0631 \\u0628\\u0647 \\u0627\\u06cc\\u0631\\u0627\\u0646 \\u0622\\u0645\\u062f\\u0647 \\u0648 \\u0645\\u062f\\u062a\\u06cc \\u0627\\u0632 \\u0647\\u0645\\u0633\\u0631\\u0634 \\u0634\\u0627\\u0647 \\u06af\\u0644 \\u0628\\u06cc \\u062e\\u0628\\u0631 \\u0627\\u0633\\u062a. \\u0628\\u0647 \\u062f\\u0644\\u06cc\\u0644 \\u062a\\u0647\\u062f\\u06cc\\u062f \\u062d\\u0645\\u0644\\u0647 \\u0622\\u0645\\u0631\\u06cc\\u06a9\\u0627 \\u0648 \\u0646\\u06af\\u0631\\u0627\\u0646\\u06cc \\u0628\\u0631\\u0627\\u06cc \\u062e\\u0627\\u0646\\u0648\\u0627\\u062f\\u0647 \\u0627\\u0634 \\u0628\\u0647 \\u0627\\u0641\\u063a\\u0627\\u0646\\u0633\\u062a\\u0627\\u0646 \\u0628\\u0627\\u0632 \\u0645\\u06cc \\u06af\\u0631\\u062f\\u062f \\u0648 \\u062f\\u0631 \\u0627\\u06cc\\u0646 \\u0633\\u0641\\u0631 \\u0628\\u0627 \\u0627\\u062a\\u0641\\u0627\\u0642\\u0627\\u062a\\u06cc \\u0631\\u0648\\u0628\\u0631\\u0648 \\u0645\\u06cc \\u0634\\u0648\\u062f.\"\n        ],\n        \"semantic_type\": \"\",\n        \"description\": \"\"\n      }\n    },\n    {\n      \"column\": \"Content_2\",\n      \"properties\": {\n        \"dtype\": \"string\",\n        \"num_unique_values\": 932,\n        \"samples\": [\n          \"Two men misuse the critical situation that was going on after the Islamic revolution and start to accumulate wealth, and eventually, when they reach their goal, they turn against each other and have intentions to kill the other. In this stage, they face death which shows its face. Now, life seems different to them and each one starts to find a way to survive. This film attempts to show, through comedy, the behavior of two self-seekers against death.\",\n          \"The story is about two prisoners Emad Cat and Reza Kishmish who each have their own personal reasons to escape. Reza has a mission to take Emad to his step brothers without him noticing and Emad tries to save his love Mahi.Two prisoners are trying to escape from prison.\",\n          \"Alibakhsh is a young Afghan man working in Iran. Concerned that he hasn't heard from his family or his wife Shahgol in a while, and with the threat of an American attack looming over the region, Alibakhsh decides to make the long trek home. The journey though is fraught with ups and downs, and as Alibakhsh tries to discover the fate of his family, he finds he may just discover something about himself as well.\"\n        ],\n        \"semantic_type\": \"\",\n        \"description\": \"\"\n      }\n    },\n    {\n      \"column\": \"Score\",\n      \"properties\": {\n        \"dtype\": \"number\",\n        \"std\": 1.553614555066883,\n        \"min\": 0.0,\n        \"max\": 10.0,\n        \"num_unique_values\": 71,\n        \"samples\": [\n          5.7,\n          4.8,\n          7.8\n        ],\n        \"semantic_type\": \"\",\n        \"description\": \"\"\n      }\n    },\n    {\n      \"column\": \"Year\",\n      \"properties\": {\n        \"dtype\": \"number\",\n        \"std\": 9,\n        \"min\": 1969,\n        \"max\": 2020,\n        \"num_unique_values\": 48,\n        \"samples\": [\n          1988,\n          1980,\n          1987\n        ],\n        \"semantic_type\": \"\",\n        \"description\": \"\"\n      }\n    },\n    {\n      \"column\": \"Genre\",\n      \"properties\": {\n        \"dtype\": \"category\",\n        \"num_unique_values\": 17,\n        \"samples\": [\n          \"Drama\",\n          \"Crime\",\n          \"Mystery\"\n        ],\n        \"semantic_type\": \"\",\n        \"description\": \"\"\n      }\n    },\n    {\n      \"column\": \"Time\",\n      \"properties\": {\n        \"dtype\": \"category\",\n        \"num_unique_values\": 72,\n        \"samples\": [\n          \"85\",\n          \"113\",\n          \"91\"\n        ],\n        \"semantic_type\": \"\",\n        \"description\": \"\"\n      }\n    },\n    {\n      \"column\": \"Broad_Genre\",\n      \"properties\": {\n        \"dtype\": \"category\",\n        \"num_unique_values\": 5,\n        \"samples\": [\n          \"Action & Adventure\",\n          \"Arts & Nature\",\n          \"Culture & Society\"\n        ],\n        \"semantic_type\": \"\",\n        \"description\": \"\"\n      }\n    }\n  ]\n}"
            }
          },
          "metadata": {},
          "execution_count": 7
        }
      ]
    },
    {
      "cell_type": "code",
      "source": [
        "genre_counts = df['Broad_Genre'].value_counts()\n",
        "\n",
        "print(genre_counts)"
      ],
      "metadata": {
        "colab": {
          "base_uri": "https://localhost:8080/"
        },
        "id": "zOOZygbtv1dg",
        "outputId": "0c7c89b3-b168-4a62-eb7f-c9115c93d51f"
      },
      "execution_count": 8,
      "outputs": [
        {
          "output_type": "stream",
          "name": "stdout",
          "text": [
            "Broad_Genre\n",
            "Drama & Emotion           551\n",
            "Comedy & Light-Hearted    196\n",
            "Action & Adventure        165\n",
            "Culture & Society          15\n",
            "Arts & Nature               5\n",
            "Name: count, dtype: int64\n"
          ]
        }
      ]
    },
    {
      "cell_type": "markdown",
      "source": [
        "# **Preprocesses**"
      ],
      "metadata": {
        "id": "ychgwSGSG3bm"
      }
    },
    {
      "cell_type": "markdown",
      "source": [
        "Normalization for persian"
      ],
      "metadata": {
        "id": "1hzu5S70Hc6T"
      }
    },
    {
      "cell_type": "code",
      "source": [
        "persian_stop_words = ['و', 'در', 'به', 'از', 'كه', 'مي', 'اين', 'است', 'را', 'با', 'هاي', 'براي', 'آن', 'يك', 'شود', 'شده', 'خود', 'ها', 'كرد', 'شد', 'اي', 'تا', 'كند', 'بر', 'بود', 'گفت', 'نيز', 'وي', 'هم', 'كنند', 'دارد', 'ما', 'كرده', 'يا', 'اما', 'بايد', 'دو', 'اند', 'هر', 'خواهد', 'او', 'مورد', 'آنها', 'باشد', 'ديگر', 'مردم', 'نمي', 'بين', 'پيش', 'پس', 'اگر', 'همه', 'صورت', 'يكي', 'هستند', 'بي', 'من', 'دهد', 'هزار', 'نيست', 'استفاده', 'داد', 'داشته', 'راه', 'داشت', 'چه', 'همچنين', 'كردند', 'داده', 'بوده', 'دارند', 'همين', 'ميليون', 'سوي', 'شوند', 'بيشتر', 'بسيار', 'روي', 'گرفته', 'هايي', 'تواند', 'اول', 'نام', 'هيچ', 'چند', 'جديد', 'بيش', 'شدن', 'كردن', 'كنيم', 'نشان', 'حتي', 'اينكه', 'ولی', 'توسط', 'چنين', 'برخي', 'نه', 'ديروز', 'دوم', 'درباره', 'بعد', 'مختلف', 'گيرد', 'شما', 'گفته', 'آنان', 'بار', 'طور', 'گرفت', 'دهند', 'گذاري', 'بسياري', 'طي', 'بودند', 'ميليارد', 'بدون', 'تمام', 'كل', 'تر  براساس', 'شدند', 'ترين', 'امروز', 'باشند', 'ندارد', 'چون', 'قابل', 'گويد', 'ديگري', 'همان', 'خواهند', 'قبل', 'آمده', 'اكنون', 'تحت', 'طريق', 'گيري', 'جاي', 'هنوز', 'چرا', 'البته', 'كنيد', 'سازي', 'سوم', 'كنم', 'بلكه', 'زير', 'توانند', 'ضمن', 'فقط', 'بودن', 'حق', 'آيد', 'وقتي', 'اش', 'يابد', 'نخستين', 'مقابل', 'خدمات', 'امسال', 'تاكنون', 'مانند', 'تازه', 'آورد', 'فكر', 'آنچه', 'نخست', 'نشده', 'شايد', 'چهار', 'جريان', 'پنج', 'ساخته', 'زيرا', 'نزديك', 'برداري', 'كسي', 'ريزي', 'رفت', 'گردد', 'مثل', 'آمد', 'ام', 'بهترين', 'دانست', 'كمتر', 'دادن', 'تمامي', 'جلوگيري', 'بيشتري', 'ايم', 'ناشي', 'چيزي', 'آنكه', 'بالا', 'بنابراين', 'ايشان', 'بعضي', 'دادند', 'داشتند', 'برخوردار', 'نخواهد', 'هنگام', 'نبايد', 'غير', 'نبود', 'ديده', 'وگو', 'داريم', 'چگونه', 'بندي', 'خواست', 'فوق', 'ده', 'نوعي', 'هستيم', 'ديگران', 'همچنان', 'سراسر', 'ندارند', 'گروهي', 'سعي', 'روزهاي', 'آنجا', 'يكديگر', 'كردم', 'بيست', 'بروز', 'سپس', 'رفته', 'آورده', 'نمايد', 'باشيم', 'گويند', 'زياد', 'خويش', 'همواره', 'گذاشته', 'شش  نداشته', 'شناسي', 'خواهيم', 'آباد', 'داشتن', 'نظير', 'همچون', 'باره', 'نكرده', 'شان', 'سابق', 'هفت', 'دانند', 'جايي', 'بی', 'جز', 'زیرِ', 'رویِ', 'سریِ', 'تویِ', 'جلویِ', 'پیشِ', 'عقبِ', 'بالایِ', 'خارجِ', 'وسطِ', 'بیرونِ', 'سویِ', 'کنارِ', 'پاعینِ', 'نزدِ', 'نزدیکِ', 'دنبالِ', 'حدودِ', 'برابرِ', 'طبقِ', 'مانندِ', 'ضدِّ', 'هنگامِ', 'برایِ', 'مثلِ', 'بارة', 'اثرِ', 'تولِ', 'علّتِ', 'سمتِ', 'عنوانِ', 'قصدِ', 'روب', 'جدا', 'کی', 'که', 'چیست', 'هست', 'کجا', 'کجاست', 'کَی', 'چطور', 'کدام', 'آیا', 'مگر', 'چندین', 'یک', 'چیزی', 'دیگر', 'کسی', 'بعری', 'هیچ', 'چیز', 'جا', 'کس', 'هرگز', 'یا', 'تنها', 'بلکه', 'خیاه', 'بله', 'بلی', 'آره', 'آری', 'مرسی', 'البتّه', 'لطفاً', 'ّه', 'انکه', 'وقتیکه', 'همین', 'پیش', 'مدّتی', 'هنگامی', 'مان', 'تان']"
      ],
      "metadata": {
        "id": "irS1fck0vqIe"
      },
      "execution_count": 9,
      "outputs": []
    },
    {
      "cell_type": "code",
      "source": [
        "def remove_stopwords_persian(text):\n",
        "    return ' '.join([word for word in text.split() if word not in persian_stop_words])"
      ],
      "metadata": {
        "id": "FrM0_iyowFdQ"
      },
      "execution_count": 10,
      "outputs": []
    },
    {
      "cell_type": "code",
      "source": [
        "import re\n",
        "import unicodedata\n",
        "\n",
        "def normalize_unicode(text):\n",
        "    return unicodedata.normalize('NFC', text)\n",
        "\n",
        "def normalize_arabic_persian_characters(text):\n",
        "    arabic_to_persian = {\n",
        "        'ك': 'ک',\n",
        "        'ي': 'ی',\n",
        "        'ى': 'ی',\n",
        "        'ة': 'ه',\n",
        "        'ؤ': 'و',\n",
        "        'إ': 'ا',\n",
        "        'أ': 'ا',\n",
        "        'ٱ': 'ا',\n",
        "    }\n",
        "    for arabic_char, persian_char in arabic_to_persian.items():\n",
        "        text = text.replace(arabic_char, persian_char)\n",
        "    return text\n",
        "\n",
        "def normalize_digits(text):\n",
        "    arabic_digits = '۰۱۲۳۴۵۶۷۸۹'\n",
        "    persian_digits = '۰۱۲۳۴۵۶۷۸۹'\n",
        "    english_digits = '0123456789'\n",
        "    digit_mapping = str.maketrans(arabic_digits + persian_digits, english_digits * 2)\n",
        "    return text.translate(digit_mapping)\n",
        "\n",
        "def strip_extra_whitespace(text):\n",
        "    return re.sub(r'\\s+', ' ', text).strip()\n",
        "\n",
        "def initial_normalization_persian(text,\n",
        "                           normalize_unicode_flag=True,\n",
        "                           normalize_arabic_persian_characters_flag=True,\n",
        "                           normalize_digits_flag=True,\n",
        "                           strip_extra_whitespace_flag=True):\n",
        "    if normalize_unicode_flag:\n",
        "        text = normalize_unicode(text)\n",
        "    if normalize_arabic_persian_characters_flag:\n",
        "        text = normalize_arabic_persian_characters(text)\n",
        "    if normalize_digits_flag:\n",
        "        text = normalize_digits(text)\n",
        "    if strip_extra_whitespace_flag:\n",
        "        text = strip_extra_whitespace(text)\n",
        "    return text\n",
        "\n",
        "example_text = \"كتاب‌هاي خوبی هستند! ۱۲۳\"\n",
        "normalized_text = initial_normalization_persian(example_text,\n",
        "                                         normalize_unicode_flag=True,\n",
        "                                         normalize_arabic_persian_characters_flag=True,\n",
        "                                         normalize_digits_flag=True,\n",
        "                                         strip_extra_whitespace_flag=True)\n",
        "print(normalized_text)  # Output: \"کتابهای خوبی هستند 123\"\n",
        "\n"
      ],
      "metadata": {
        "colab": {
          "base_uri": "https://localhost:8080/"
        },
        "id": "2tEovWm6G78I",
        "outputId": "62dc5ff7-237f-4531-c868-29103dc11a3d"
      },
      "execution_count": 11,
      "outputs": [
        {
          "output_type": "stream",
          "name": "stdout",
          "text": [
            "کتاب‌های خوبی هستند! 123\n"
          ]
        }
      ]
    },
    {
      "cell_type": "code",
      "source": [
        "from hazm import Stemmer, Lemmatizer\n",
        "\n",
        "def final_normalization_persian(text,\n",
        "                           stem_flag=False,\n",
        "                           lemmatize_flag=False,\n",
        "                           handle_suffixes_and_prefixes_flag=False):\n",
        "    stemmer = Stemmer()\n",
        "    lemmatizer = Lemmatizer()\n",
        "\n",
        "    if stem_flag:\n",
        "        text = ' '.join(stemmer.stem(word) for word in text.split())\n",
        "\n",
        "    if lemmatize_flag:\n",
        "        text = ' '.join(lemmatizer.lemmatize(word) for word in text.split())\n",
        "\n",
        "    if handle_suffixes_and_prefixes_flag:\n",
        "        pass\n",
        "\n",
        "    return text\n",
        "\n",
        "example_text = \"کتاب‌ها گذشته‌اند و من می‌خواهم خواندنش را\"\n",
        "normalized_text = final_normalization_persian(example_text,\n",
        "                                          stem_flag=True,\n",
        "                                          lemmatize_flag=True,\n",
        "                                          handle_suffixes_and_prefixes_flag=False)\n",
        "print(normalized_text)"
      ],
      "metadata": {
        "colab": {
          "base_uri": "https://localhost:8080/"
        },
        "id": "vrU2iE8djkMo",
        "outputId": "1738be12-38ad-4bcb-841b-2664108f22a4"
      },
      "execution_count": 12,
      "outputs": [
        {
          "output_type": "stream",
          "name": "stdout",
          "text": [
            "کتاب گذشت#گذر و من می‌خواه خواندن را\n"
          ]
        }
      ]
    },
    {
      "cell_type": "markdown",
      "source": [
        "normalize for English"
      ],
      "metadata": {
        "id": "60CMYnBAWlcc"
      }
    },
    {
      "cell_type": "code",
      "source": [
        "import re\n",
        "import string\n",
        "import unicodedata\n",
        "from nltk.corpus import stopwords\n",
        "\n",
        "import nltk\n",
        "nltk.download('stopwords')\n",
        "\n",
        "def normalize_unicode(text):\n",
        "    return unicodedata.normalize('NFKC', text)\n",
        "\n",
        "def to_lowercase(text):\n",
        "    return text.lower()\n",
        "\n",
        "def remove_punctuation(text):\n",
        "    return text.translate(str.maketrans('', '', string.punctuation))\n",
        "\n",
        "def remove_digits(text):\n",
        "    return re.sub(r'\\d+', '', text)\n",
        "\n",
        "def remove_extra_whitespace(text):\n",
        "    return re.sub(r'\\s+', ' ', text).strip()\n",
        "\n",
        "def remove_stopwords(text):\n",
        "    stop_words = set(stopwords.words('english'))\n",
        "    return ' '.join([word for word in text.split() if word not in stop_words])\n",
        "\n",
        "def initial_normalization_english(text,\n",
        "                           normalize_unicode_flag=True,\n",
        "                           to_lowercase_flag=True,\n",
        "                           remove_punctuation_flag=True,\n",
        "                           remove_digits_flag=True,\n",
        "                           remove_extra_whitespace_flag=True,\n",
        "                           remove_stopwords_flag=False):\n",
        "    if normalize_unicode_flag:\n",
        "        text = normalize_unicode(text)\n",
        "    if to_lowercase_flag:\n",
        "        text = to_lowercase(text)\n",
        "    if remove_punctuation_flag:\n",
        "        text = remove_punctuation(text)\n",
        "    if remove_digits_flag:\n",
        "        text = remove_digits(text)\n",
        "    if remove_extra_whitespace_flag:\n",
        "        text = remove_extra_whitespace(text)\n",
        "    if remove_stopwords_flag:\n",
        "        text = remove_stopwords(text)\n",
        "    return text\n",
        "\n",
        "example_text = \"This is an Example! Text, with some punctuation. And numbers 12345.\"\n",
        "normalized_text = initial_normalization_english(example_text,\n",
        "                                         normalize_unicode_flag=True,\n",
        "                                         to_lowercase_flag=True,\n",
        "                                         remove_punctuation_flag=True,\n",
        "                                         remove_digits_flag=True,\n",
        "                                         remove_extra_whitespace_flag=True,\n",
        "                                         remove_stopwords_flag=True)\n",
        "print(normalized_text)  # Output: \"example text punctuation numbers\""
      ],
      "metadata": {
        "colab": {
          "base_uri": "https://localhost:8080/"
        },
        "id": "aaRSr7IKUAv-",
        "outputId": "88f4993d-4a26-4ee2-e751-22311817f159"
      },
      "execution_count": 13,
      "outputs": [
        {
          "output_type": "stream",
          "name": "stdout",
          "text": [
            "example text punctuation numbers\n"
          ]
        },
        {
          "output_type": "stream",
          "name": "stderr",
          "text": [
            "[nltk_data] Downloading package stopwords to /root/nltk_data...\n",
            "[nltk_data]   Unzipping corpora/stopwords.zip.\n"
          ]
        }
      ]
    },
    {
      "cell_type": "code",
      "source": [
        "import re\n",
        "import string\n",
        "import unicodedata\n",
        "from nltk.corpus import stopwords\n",
        "from nltk.stem import PorterStemmer, WordNetLemmatizer\n",
        "from bs4 import BeautifulSoup\n",
        "\n",
        "import nltk\n",
        "nltk.download('stopwords')\n",
        "nltk.download('wordnet')\n",
        "\n",
        "def remove_urls(text):\n",
        "    return re.sub(r'http\\S+', '', text)\n",
        "\n",
        "def remove_html_tags(text):\n",
        "    return BeautifulSoup(text, \"html.parser\").get_text()\n",
        "\n",
        "def remove_special_characters(text):\n",
        "    return re.sub(r'[^\\w\\s]', '', text)\n",
        "\n",
        "def remove_accented_characters(text):\n",
        "    return unicodedata.normalize('NFKD', text).encode('ascii', 'ignore').decode('utf-8', 'ignore')\n",
        "\n",
        "def final_normalization_english(text,\n",
        "                           normalize_unicode_flag=True,\n",
        "                           to_lowercase_flag=True,\n",
        "                           remove_punctuation_flag=True,\n",
        "                           remove_digits_flag=True,\n",
        "                           remove_extra_whitespace_flag=True,\n",
        "                           remove_stopwords_flag=False,\n",
        "                           remove_urls_flag=False,\n",
        "                           remove_html_tags_flag=False,\n",
        "                           remove_special_characters_flag=False,\n",
        "                           remove_accented_characters_flag=False,\n",
        "                           stem_flag=False,\n",
        "                           lemmatize_flag=False):\n",
        "    if remove_urls_flag:\n",
        "        text = remove_urls(text)\n",
        "    if remove_html_tags_flag:\n",
        "        text = remove_html_tags(text)\n",
        "    if remove_special_characters_flag:\n",
        "        text = remove_special_characters(text)\n",
        "    if remove_accented_characters_flag:\n",
        "        text = remove_accented_characters(text)\n",
        "    if normalize_unicode_flag:\n",
        "        text = unicodedata.normalize('NFKC', text)\n",
        "    if to_lowercase_flag:\n",
        "        text = text.lower()\n",
        "    if remove_punctuation_flag:\n",
        "        text = text.translate(str.maketrans('', '', string.punctuation))\n",
        "    if remove_digits_flag:\n",
        "        text = re.sub(r'\\d+', '', text)\n",
        "    if remove_extra_whitespace_flag:\n",
        "        text = re.sub(r'\\s+', ' ', text).strip()\n",
        "    if remove_stopwords_flag:\n",
        "        stop_words = set(stopwords.words('english'))\n",
        "        text = ' '.join([word for word in text.split() if word not in stop_words])\n",
        "    if stem_flag:\n",
        "        stemmer = PorterStemmer()\n",
        "        text = ' '.join(stemmer.stem(word) for word in text.split())\n",
        "    if lemmatize_flag:\n",
        "        lemmatizer = WordNetLemmatizer()\n",
        "        text = ' '.join(lemmatizer.lemmatize(word) for word in text.split())\n",
        "    return text\n",
        "\n",
        "example_text = \"This is an Example! Text, with some punctuation. And numbers 12345. Visit https://example.com\"\n",
        "normalized_text = final_normalization_english(example_text,\n",
        "                                         normalize_unicode_flag=True,\n",
        "                                         to_lowercase_flag=True,\n",
        "                                         remove_punctuation_flag=True,\n",
        "                                         remove_digits_flag=True,\n",
        "                                         remove_extra_whitespace_flag=True,\n",
        "                                         remove_stopwords_flag=True,\n",
        "                                         remove_urls_flag=True,\n",
        "                                         remove_html_tags_flag=True,\n",
        "                                         remove_special_characters_flag=True,\n",
        "                                         remove_accented_characters_flag=True,\n",
        "                                         stem_flag=True,\n",
        "                                         lemmatize_flag=True)\n",
        "print(normalized_text)  # Output: \"exampl text punctuation number visit\""
      ],
      "metadata": {
        "colab": {
          "base_uri": "https://localhost:8080/"
        },
        "id": "zISxh3V7kSEL",
        "outputId": "72997c82-8057-4cd1-e7c1-524fb3349725"
      },
      "execution_count": 14,
      "outputs": [
        {
          "output_type": "stream",
          "name": "stderr",
          "text": [
            "[nltk_data] Downloading package stopwords to /root/nltk_data...\n",
            "[nltk_data]   Package stopwords is already up-to-date!\n",
            "[nltk_data] Downloading package wordnet to /root/nltk_data...\n"
          ]
        },
        {
          "output_type": "stream",
          "name": "stdout",
          "text": [
            "exampl text punctuat number visit\n"
          ]
        }
      ]
    },
    {
      "cell_type": "markdown",
      "source": [
        "# **Split**"
      ],
      "metadata": {
        "id": "Pn8jBBxb27VH"
      }
    },
    {
      "cell_type": "code",
      "source": [
        "import pandas as pd\n",
        "\n",
        "def create_filtered_datasets(df):\n",
        "\n",
        "    persian_df = df.drop(columns=['Content_2']).rename(columns={'Content_1': 'Description'})\n",
        "\n",
        "    english_df = df.drop(columns=['Content_1']).rename(columns={'Content_2': 'Description'})\n",
        "\n",
        "    return persian_df, english_df\n",
        "\n",
        "persian_df, english_df = create_filtered_datasets(df)\n",
        "\n",
        "print(\"Persian Descriptions Dataset:\")\n",
        "print(persian_df.head())\n",
        "\n",
        "print(\"English Descriptions Dataset:\")\n",
        "print(english_df.head())"
      ],
      "metadata": {
        "colab": {
          "base_uri": "https://localhost:8080/"
        },
        "id": "LBya0iYTHWtD",
        "outputId": "d587f977-951f-4787-9928-647a58073d04"
      },
      "execution_count": 15,
      "outputs": [
        {
          "output_type": "stream",
          "name": "stdout",
          "text": [
            "Persian Descriptions Dataset:\n",
            "                                                Link            EN_title  \\\n",
            "0  https://www.imvbox.com/watch-persian-movie-ira...   Local Anaesthetic   \n",
            "1  https://www.imvbox.com/watch-persian-movie-ira...         Disturbance   \n",
            "2  https://www.imvbox.com/watch-persian-movie-ira...           Highlight   \n",
            "3  https://www.imvbox.com/watch-persian-movie-ira...               Gilda   \n",
            "4  https://www.imvbox.com/watch-persian-movie-ira...  Atmosphere Station   \n",
            "\n",
            "     PENGLISH_title   PERSIAN_title  \\\n",
            "0  Bi Hessie Mozeie    بی‌حسی موضعی   \n",
            "1         Ashoftegi        آشفته گی   \n",
            "2           Haylayt         هایلایت   \n",
            "3            Geelda           گیلدا   \n",
            "4  Istgahe Atmosfer  ایستگاه اتمسفر   \n",
            "\n",
            "                                         Description  Score  Year  Genre Time  \\\n",
            "0  جلال‌، دانشجوی سابق رشته فلسفه، متوجه می‌شود خ...    4.8  2018  Drama   73   \n",
            "1  «آشفته‌گی» رئالیستی و اجتماعی نیست. یک فیلم اس...    3.8  2018  Crime   78   \n",
            "2  یک تصادف اتومبیل آدم‌هایی را در تقابل با هم قر...    4.4  2017  Drama   77   \n",
            "3  گیلدا ماجرای زنی به نام «گیلدا» را روایت می کن...    3.8  2018  Drama   79   \n",
            "4  این فیلم روایت گر داستان زندگی زوج جوانی به اس...    5.6  2017  Drama   85   \n",
            "\n",
            "          Broad_Genre  \n",
            "0     Drama & Emotion  \n",
            "1  Action & Adventure  \n",
            "2     Drama & Emotion  \n",
            "3     Drama & Emotion  \n",
            "4     Drama & Emotion  \n",
            "English Descriptions Dataset:\n",
            "                                                Link            EN_title  \\\n",
            "0  https://www.imvbox.com/watch-persian-movie-ira...   Local Anaesthetic   \n",
            "1  https://www.imvbox.com/watch-persian-movie-ira...         Disturbance   \n",
            "2  https://www.imvbox.com/watch-persian-movie-ira...           Highlight   \n",
            "3  https://www.imvbox.com/watch-persian-movie-ira...               Gilda   \n",
            "4  https://www.imvbox.com/watch-persian-movie-ira...  Atmosphere Station   \n",
            "\n",
            "     PENGLISH_title   PERSIAN_title  \\\n",
            "0  Bi Hessie Mozeie    بی‌حسی موضعی   \n",
            "1         Ashoftegi        آشفته گی   \n",
            "2           Haylayt         هایلایت   \n",
            "3            Geelda           گیلدا   \n",
            "4  Istgahe Atmosfer  ایستگاه اتمسفر   \n",
            "\n",
            "                                         Description  Score  Year  Genre Time  \\\n",
            "0  Jalal, a dropouts philosophy student, realizes...    4.8  2018  Drama   73   \n",
            "1  After the murder of his rich twin brother, Bar...    3.8  2018  Crime   78   \n",
            "2  A man and a woman are have a car accident and ...    4.4  2017  Drama   77   \n",
            "3  Gilda who owns a restaurant has a terrible nig...    3.8  2018  Drama   79   \n",
            "4  Vahid and Marjan are a young couple who have g...    5.6  2017  Drama   85   \n",
            "\n",
            "          Broad_Genre  \n",
            "0     Drama & Emotion  \n",
            "1  Action & Adventure  \n",
            "2     Drama & Emotion  \n",
            "3     Drama & Emotion  \n",
            "4     Drama & Emotion  \n"
          ]
        }
      ]
    },
    {
      "cell_type": "markdown",
      "source": [
        "Split Datasets"
      ],
      "metadata": {
        "id": "gUTpKYfxJnjD"
      }
    },
    {
      "cell_type": "code",
      "source": [
        "import pandas as pd\n",
        "from sklearn.model_selection import train_test_split, KFold\n",
        "\n",
        "\n",
        "def split_80_10_10(df):\n",
        "    train_df, temp_df = train_test_split(df, test_size=0.2, random_state=42)\n",
        "    val_df, test_df = train_test_split(temp_df, test_size=0.5, random_state=42)\n",
        "\n",
        "    return train_df, val_df, test_df\n",
        "\n",
        "\n",
        "\n",
        "persian_train_df_80, persian_val_df_10, persian_test_df_10 = split_80_10_10(persian_df)\n",
        "\n",
        "english_train_df_80, english_val_df_10, english_test_df_10 = split_80_10_10(english_df)"
      ],
      "metadata": {
        "id": "FjIntyL8JrmP"
      },
      "execution_count": 16,
      "outputs": []
    },
    {
      "cell_type": "markdown",
      "source": [
        "you can access folds of cross validation using these four variables  <br></br>\n",
        "persian_train_folds_90_10 <br></br>\n",
        "persian_test_folds_90_10  <br></br>\n",
        "english_folds_90_10 <br></br>\n",
        "english_test_folds_90_10"
      ],
      "metadata": {
        "id": "M5Pu1X5892-p"
      }
    },
    {
      "cell_type": "markdown",
      "source": [
        "# **Metrics**"
      ],
      "metadata": {
        "id": "XBriLAvV2-l_"
      }
    },
    {
      "cell_type": "markdown",
      "source": [
        "Functions to calculate all necessary metrics for multiclass classification and aggregating metrics in cross validation"
      ],
      "metadata": {
        "id": "NffXsR6xoANn"
      }
    },
    {
      "cell_type": "code",
      "source": [
        "import numpy as np\n",
        "import pandas as pd\n",
        "import matplotlib.pyplot as plt\n",
        "from sklearn.metrics import f1_score, accuracy_score, precision_score, recall_score, confusion_matrix\n",
        "import seaborn as sns\n",
        "import math\n",
        "\n",
        "\n",
        "def calculate_average(numbers):\n",
        "    if not numbers:\n",
        "        return None\n",
        "    return sum(numbers) / len(numbers)\n",
        "\n",
        "\n",
        "def calculate_standard_deviation(numbers):\n",
        "    if not numbers:\n",
        "        return None\n",
        "    avg = calculate_average(numbers)\n",
        "    variance = sum((x - avg) ** 2 for x in numbers) / len(numbers)\n",
        "    return math.sqrt(variance)\n",
        "\n",
        "\n",
        "\n",
        "def f1_macro(true_labels, predicted_labels):\n",
        "    return f1_score(true_labels, predicted_labels, average='macro')\n",
        "\n",
        "def f1_micro(true_labels, predicted_labels):\n",
        "    return f1_score(true_labels, predicted_labels, average='micro')\n",
        "\n",
        "def accuracy_metric(true_labels, predicted_labels):\n",
        "    return accuracy_score(true_labels, predicted_labels)\n",
        "\n",
        "def precision(true_labels, predicted_labels):\n",
        "    return precision_score(true_labels, predicted_labels, average='macro')\n",
        "\n",
        "def recall(true_labels, predicted_labels):\n",
        "    return recall_score(true_labels, predicted_labels, average='macro')\n",
        "\n",
        "def plot_confusion_matrix(true_labels, predicted_labels, class_names):\n",
        "    cm = confusion_matrix(true_labels, predicted_labels)\n",
        "    plt.figure(figsize=(10, 7))\n",
        "    sns.heatmap(cm, annot=True, fmt='d', cmap='Blues', xticklabels=class_names, yticklabels=class_names)\n",
        "    plt.xlabel('Predicted Labels')\n",
        "    plt.ylabel('True Labels')\n",
        "    plt.title('Confusion Matrix')\n",
        "    plt.show()\n",
        "\n",
        "if __name__ == \"__main__\":\n",
        "    true_labels = [0, 1, 2, 0, 1, 2]\n",
        "    predicted_labels = [0, 2, 1, 0, 0, 1]\n",
        "    class_names = ['Class 0', 'Class 1', 'Class 2']\n",
        "\n",
        "    print(\"F1 Macro:\", f1_macro(true_labels, predicted_labels))\n",
        "    print(\"F1 Micro:\", f1_micro(true_labels, predicted_labels))\n",
        "    print(\"Accuracy:\", accuracy_metric(true_labels, predicted_labels))\n",
        "    print(\"Precision:\", precision(true_labels, predicted_labels))\n",
        "    print(\"Recall:\", recall(true_labels, predicted_labels))\n",
        "\n",
        "    plot_confusion_matrix(true_labels, predicted_labels, class_names)"
      ],
      "metadata": {
        "colab": {
          "base_uri": "https://localhost:8080/",
          "height": 0
        },
        "id": "1t_KQ0syn0uG",
        "outputId": "c9b2249c-b66d-4c21-9147-994ef422f060"
      },
      "execution_count": 17,
      "outputs": [
        {
          "output_type": "stream",
          "name": "stdout",
          "text": [
            "F1 Macro: 0.26666666666666666\n",
            "F1 Micro: 0.3333333333333333\n",
            "Accuracy: 0.3333333333333333\n",
            "Precision: 0.2222222222222222\n",
            "Recall: 0.3333333333333333\n"
          ]
        },
        {
          "output_type": "display_data",
          "data": {
            "text/plain": [
              "<Figure size 1000x700 with 2 Axes>"
            ],
            "image/png": "[encoded data removed]"
          },
          "metadata": {}
        }
      ]
    },
    {
      "cell_type": "markdown",
      "source": [
        "# **English Doc Classification**"
      ],
      "metadata": {
        "id": "fdPSFxDl3AwY"
      }
    },
    {
      "cell_type": "markdown",
      "source": [
        "**import libraries**"
      ],
      "metadata": {
        "id": "emvjgSxX6i4A"
      }
    },
    {
      "cell_type": "code",
      "source": [
        "!pip install open_clip_torch"
      ],
      "metadata": {
        "id": "gYI5o3HaCuJ4"
      },
      "execution_count": null,
      "outputs": []
    },
    {
      "cell_type": "code",
      "source": [
        "model_type = \"xlm-roberta-large-ViT-H-14\"\n",
        "pretrained_from = \"frozen_laion5b_s13b_b90k\""
      ],
      "metadata": {
        "id": "10ggfhDjCie2"
      },
      "execution_count": 19,
      "outputs": []
    },
    {
      "cell_type": "code",
      "source": [
        "import torch\n",
        "import open_clip\n",
        "from torch.utils.data.dataloader import DataLoader\n",
        "from torch.utils.data import Dataset\n",
        "import torch.nn as nn\n",
        "import torch.nn.functional as F\n",
        "import matplotlib\n",
        "import matplotlib.pyplot as plt\n",
        "from tqdm import tqdm\n",
        "%matplotlib inline\n",
        "matplotlib.rcParams['figure.facecolor'] = '#ffffff'"
      ],
      "metadata": {
        "id": "XWLgKOt-3Czm"
      },
      "execution_count": 20,
      "outputs": []
    },
    {
      "cell_type": "code",
      "source": [
        "random_seed = 42\n",
        "torch.manual_seed(random_seed)"
      ],
      "metadata": {
        "id": "5tTQkhWF6eKu"
      },
      "execution_count": null,
      "outputs": []
    },
    {
      "cell_type": "markdown",
      "source": [
        "**device**"
      ],
      "metadata": {
        "id": "Tjy9BNG16oZI"
      }
    },
    {
      "cell_type": "code",
      "source": [
        "def get_default_device():\n",
        "    if torch.cuda.is_available():\n",
        "        return torch.device('cuda')\n",
        "    else:\n",
        "        return torch.device('cpu')\n",
        "\n",
        "def to_device(data, device):\n",
        "    if isinstance(data, (list,tuple)):\n",
        "        return [to_device(x, device) for x in data]\n",
        "    return data.to(device, non_blocking=True)\n",
        "\n",
        "class DeviceDataLoader():\n",
        "    def __init__(self, dl, device):\n",
        "        self.dl = dl\n",
        "        self.device = device\n",
        "\n",
        "    def __iter__(self):\n",
        "        for b in self.dl:\n",
        "            yield to_device(b, self.device)\n",
        "\n",
        "    def __len__(self):\n",
        "        return len(self.dl)"
      ],
      "metadata": {
        "id": "6Ey4orL66hqJ"
      },
      "execution_count": 22,
      "outputs": []
    },
    {
      "cell_type": "code",
      "source": [
        "device = get_default_device()\n",
        "device"
      ],
      "metadata": {
        "id": "Nl_ip-8g6q_U"
      },
      "execution_count": null,
      "outputs": []
    },
    {
      "cell_type": "markdown",
      "source": [
        "**model**"
      ],
      "metadata": {
        "id": "M28wmoxn6uF_"
      }
    },
    {
      "cell_type": "code",
      "source": [
        "clip_model, _, clip_preprocess = open_clip.create_model_and_transforms(model_type, pretrained=pretrained_from)\n",
        "clip_model.eval()\n",
        "tokenizer = open_clip.get_tokenizer(model_type)"
      ],
      "metadata": {
        "id": "MoMHC1jr6r_J"
      },
      "execution_count": null,
      "outputs": []
    },
    {
      "cell_type": "markdown",
      "source": [
        "**dataloader**"
      ],
      "metadata": {
        "id": "ZeS_XnCl64Po"
      }
    },
    {
      "cell_type": "code",
      "source": [
        "unique_values = english_df['Broad_Genre'].unique()\n",
        "print(unique_values)"
      ],
      "metadata": {
        "colab": {
          "base_uri": "https://localhost:8080/"
        },
        "id": "fga_eVMd6zWd",
        "outputId": "9729fe4e-f55d-4c31-fb54-f051c258d534"
      },
      "execution_count": 25,
      "outputs": [
        {
          "output_type": "stream",
          "name": "stdout",
          "text": [
            "['Drama & Emotion' 'Action & Adventure' 'Culture & Society'\n",
            " 'Comedy & Light-Hearted' 'Arts & Nature']\n"
          ]
        }
      ]
    },
    {
      "cell_type": "code",
      "source": [
        "variable2label = dict()\n",
        "\n",
        "for i, var in enumerate(unique_values):\n",
        "    variable2label[var] = i\n",
        "\n",
        "variable2label"
      ],
      "metadata": {
        "colab": {
          "base_uri": "https://localhost:8080/"
        },
        "id": "5YZ7GLKY7fKx",
        "outputId": "b6655071-58b9-4a8c-c173-a92daf90f331"
      },
      "execution_count": 26,
      "outputs": [
        {
          "output_type": "execute_result",
          "data": {
            "text/plain": [
              "{'Drama & Emotion': 0,\n",
              " 'Action & Adventure': 1,\n",
              " 'Culture & Society': 2,\n",
              " 'Comedy & Light-Hearted': 3,\n",
              " 'Arts & Nature': 4}"
            ]
          },
          "metadata": {},
          "execution_count": 26
        }
      ]
    },
    {
      "cell_type": "code",
      "source": [
        "all_pairs_train = list()\n",
        "\n",
        "for _, row in english_train_df_80.iterrows():\n",
        "    all_pairs_train.append((row['Description'], variable2label[row['Broad_Genre']]))"
      ],
      "metadata": {
        "id": "5d5wI-0Z7m_V"
      },
      "execution_count": 27,
      "outputs": []
    },
    {
      "cell_type": "code",
      "source": [
        "all_pairs_valid = list()\n",
        "\n",
        "for _, row in english_val_df_10.iterrows():\n",
        "    all_pairs_valid.append((row['Description'], variable2label[row['Broad_Genre']]))"
      ],
      "metadata": {
        "id": "lWxtSOc58ccF"
      },
      "execution_count": 28,
      "outputs": []
    },
    {
      "cell_type": "code",
      "source": [
        "all_pairs_test = list()\n",
        "\n",
        "for _, row in english_test_df_10.iterrows():\n",
        "    all_pairs_test.append((row['Description'], variable2label[row['Broad_Genre']]))"
      ],
      "metadata": {
        "id": "9FaeZgua9Hc7"
      },
      "execution_count": 29,
      "outputs": []
    },
    {
      "cell_type": "code",
      "source": [
        "len(all_pairs_train), len(all_pairs_valid), len(all_pairs_test)"
      ],
      "metadata": {
        "colab": {
          "base_uri": "https://localhost:8080/"
        },
        "id": "1LVGHFh-9SBg",
        "outputId": "aa5c3454-c68b-49ad-a279-5ebe1869989f"
      },
      "execution_count": 30,
      "outputs": [
        {
          "output_type": "execute_result",
          "data": {
            "text/plain": [
              "(745, 93, 94)"
            ]
          },
          "metadata": {},
          "execution_count": 30
        }
      ]
    },
    {
      "cell_type": "code",
      "source": [
        "class CustomDataset(Dataset):\n",
        "    def __init__(self, sentence_pairs, tokenizer):\n",
        "        self.sentence_pairs = sentence_pairs\n",
        "        self.tokenizer = tokenizer\n",
        "\n",
        "    def __len__(self):\n",
        "        return len(self.sentence_pairs)\n",
        "\n",
        "    def __getitem__(self, idx):\n",
        "        current_pair = self.sentence_pairs[idx]\n",
        "        tokenized_sentence = self.tokenizer([remove_stopwords(current_pair[0])])\n",
        "        return tokenized_sentence.squeeze(), current_pair[1]"
      ],
      "metadata": {
        "id": "2n7Hx7ak9WPV"
      },
      "execution_count": 31,
      "outputs": []
    },
    {
      "cell_type": "code",
      "source": [
        "train_ds = CustomDataset(all_pairs_train, tokenizer)\n",
        "val_ds = CustomDataset(all_pairs_valid, tokenizer)\n",
        "test_ds = CustomDataset(all_pairs_test, tokenizer)"
      ],
      "metadata": {
        "id": "DPuPertc9v_D"
      },
      "execution_count": 32,
      "outputs": []
    },
    {
      "cell_type": "code",
      "source": [
        "batch_size=32\n",
        "train_dl = DataLoader(train_ds, batch_size, shuffle=True)\n",
        "val_dl = DataLoader(val_ds, batch_size*2)\n",
        "test_dl = DataLoader(test_ds, batch_size*2)"
      ],
      "metadata": {
        "id": "P3WVfxcn-GwY"
      },
      "execution_count": 33,
      "outputs": []
    },
    {
      "cell_type": "markdown",
      "source": [
        "**custom model**"
      ],
      "metadata": {
        "id": "UfyrA78K-N7w"
      }
    },
    {
      "cell_type": "code",
      "source": [
        "all_unique_labels = len(unique_values)\n",
        "all_unique_labels"
      ],
      "metadata": {
        "colab": {
          "base_uri": "https://localhost:8080/"
        },
        "id": "0n4ayo7j-MTy",
        "outputId": "ac583620-3aa6-4daf-c4ef-a3df062d0895"
      },
      "execution_count": 34,
      "outputs": [
        {
          "output_type": "execute_result",
          "data": {
            "text/plain": [
              "5"
            ]
          },
          "metadata": {},
          "execution_count": 34
        }
      ]
    },
    {
      "cell_type": "code",
      "source": [
        "@torch.no_grad()\n",
        "def evaluate(model, val_loader):\n",
        "    global clip_model\n",
        "    model.eval()\n",
        "    outputs = list()\n",
        "    for batch in val_loader:\n",
        "        clip_model.eval()\n",
        "        with torch.no_grad(), torch.cuda.amp.autocast():\n",
        "            text_features = clip_model.encode_text(batch[0])\n",
        "            text_features /= text_features.norm(dim=-1, keepdim=True)\n",
        "        out = model.validation_step((text_features.type(torch.float), batch[1]))\n",
        "        outputs.append(out)\n",
        "    return model.validation_epoch_end(outputs)\n",
        "\n",
        "def fit(epochs, lr, model, train_loader, val_loader, opt_func=torch.optim.SGD):\n",
        "    global clip_model\n",
        "    history = []\n",
        "    optimizer = opt_func(model.parameters(), lr)\n",
        "    for epoch in range(epochs):\n",
        "        model.train()\n",
        "        train_losses = []\n",
        "        for batch in tqdm(train_loader):\n",
        "            clip_model.eval()\n",
        "            with torch.no_grad(), torch.cuda.amp.autocast():\n",
        "                text_features = clip_model.encode_text(batch[0])\n",
        "                text_features /= text_features.norm(dim=-1, keepdim=True)\n",
        "            loss = model.training_step((text_features.type(torch.float), batch[1]))\n",
        "            train_losses.append(loss)\n",
        "            loss.backward()\n",
        "            optimizer.step()\n",
        "            optimizer.zero_grad()\n",
        "        result = evaluate(model, val_loader)\n",
        "        result['train_loss'] = torch.stack(train_losses).mean().item()\n",
        "        model.epoch_end(epoch, result)\n",
        "        history.append(result)\n",
        "    return history"
      ],
      "metadata": {
        "id": "_DMrSZtM-Rrb"
      },
      "execution_count": 35,
      "outputs": []
    },
    {
      "cell_type": "code",
      "source": [
        "class ClassificationBase(nn.Module):\n",
        "    def training_step(self, batch):\n",
        "        images, labels = batch\n",
        "        out = self(images)\n",
        "        loss = F.cross_entropy(out, labels)\n",
        "        return loss\n",
        "\n",
        "    def validation_step(self, batch):\n",
        "        images, labels = batch\n",
        "        out = self(images)\n",
        "        loss = F.cross_entropy(out, labels)\n",
        "        acc = accuracy(out, labels)\n",
        "        return {'val_loss': loss.detach(), 'val_acc': acc}\n",
        "\n",
        "    def validation_epoch_end(self, outputs):\n",
        "        batch_losses = [x['val_loss'] for x in outputs]\n",
        "        epoch_loss = torch.stack(batch_losses).mean()\n",
        "        batch_accs = [x['val_acc'] for x in outputs]\n",
        "        epoch_acc = torch.stack(batch_accs).mean()\n",
        "        return {'val_loss': epoch_loss.item(), 'val_acc': epoch_acc.item()}\n",
        "\n",
        "    def epoch_end(self, epoch, result):\n",
        "        print(\"Epoch [{}], train_loss: {:.4f}, val_loss: {:.4f}, val_acc: {:.4f}\".format(\n",
        "            epoch, result['train_loss'], result['val_loss'], result['val_acc']))\n",
        "\n",
        "def accuracy(outputs, labels):\n",
        "    _, preds = torch.max(outputs, dim=1)\n",
        "    return torch.tensor(torch.sum(preds == labels).item() / len(preds))"
      ],
      "metadata": {
        "id": "-M_YiHeh-T5U"
      },
      "execution_count": 36,
      "outputs": []
    },
    {
      "cell_type": "code",
      "source": [
        "class MovieClassifier(ClassificationBase):\n",
        "    def __init__(self, number_of_classes):\n",
        "        super().__init__()\n",
        "        global embed_size\n",
        "        self.network = nn.Sequential(\n",
        "            nn.Linear(1024, 512),\n",
        "            nn.Dropout(0.5),\n",
        "            nn.ReLU(),\n",
        "            nn.Linear(512, 256),\n",
        "            nn.Dropout(0.25),\n",
        "            nn.ReLU(),\n",
        "            nn.Linear(256, number_of_classes)\n",
        "        )\n",
        "\n",
        "    def forward(self, xb):\n",
        "        return self.network(xb)"
      ],
      "metadata": {
        "id": "fPo1CR0C-VwH"
      },
      "execution_count": 37,
      "outputs": []
    },
    {
      "cell_type": "code",
      "source": [
        "model = MovieClassifier(all_unique_labels)\n",
        "model"
      ],
      "metadata": {
        "id": "5zYDgqS2-fFZ"
      },
      "execution_count": null,
      "outputs": []
    },
    {
      "cell_type": "code",
      "source": [
        "train_dl = DeviceDataLoader(train_dl, device)\n",
        "val_dl = DeviceDataLoader(val_dl, device)\n",
        "to_device(model, device)"
      ],
      "metadata": {
        "id": "uq1ocW5f-oBW"
      },
      "execution_count": null,
      "outputs": []
    },
    {
      "cell_type": "code",
      "source": [
        "to_device(clip_model, device)"
      ],
      "metadata": {
        "id": "hm7jcYhf-tz5"
      },
      "execution_count": null,
      "outputs": []
    },
    {
      "cell_type": "markdown",
      "source": [
        "**train**"
      ],
      "metadata": {
        "id": "5OnQipom-xrx"
      }
    },
    {
      "cell_type": "code",
      "source": [
        "num_epochs = 10\n",
        "opt_func = torch.optim.Adam\n",
        "lr = 0.001"
      ],
      "metadata": {
        "id": "5s3TtpR5-wEn"
      },
      "execution_count": 41,
      "outputs": []
    },
    {
      "cell_type": "code",
      "source": [
        "history = fit(num_epochs, lr, model, train_dl, val_dl, opt_func)"
      ],
      "metadata": {
        "colab": {
          "base_uri": "https://localhost:8080/"
        },
        "id": "yDERUoDg-zXB",
        "outputId": "5c837cdf-030c-419d-f4da-06dee44491f5"
      },
      "execution_count": 42,
      "outputs": [
        {
          "output_type": "stream",
          "name": "stderr",
          "text": [
            "100%|██████████| 24/24 [00:04<00:00,  5.84it/s]\n"
          ]
        },
        {
          "output_type": "stream",
          "name": "stdout",
          "text": [
            "Epoch [0], train_loss: 1.2055, val_loss: 1.1240, val_acc: 0.5805\n"
          ]
        },
        {
          "output_type": "stream",
          "name": "stderr",
          "text": [
            "100%|██████████| 24/24 [00:02<00:00, 10.09it/s]\n"
          ]
        },
        {
          "output_type": "stream",
          "name": "stdout",
          "text": [
            "Epoch [1], train_loss: 1.0118, val_loss: 1.1061, val_acc: 0.5805\n"
          ]
        },
        {
          "output_type": "stream",
          "name": "stderr",
          "text": [
            "100%|██████████| 24/24 [00:02<00:00, 10.05it/s]\n"
          ]
        },
        {
          "output_type": "stream",
          "name": "stdout",
          "text": [
            "Epoch [2], train_loss: 0.9721, val_loss: 1.0478, val_acc: 0.5805\n"
          ]
        },
        {
          "output_type": "stream",
          "name": "stderr",
          "text": [
            "100%|██████████| 24/24 [00:02<00:00,  9.98it/s]\n"
          ]
        },
        {
          "output_type": "stream",
          "name": "stdout",
          "text": [
            "Epoch [3], train_loss: 0.9320, val_loss: 1.0081, val_acc: 0.5962\n"
          ]
        },
        {
          "output_type": "stream",
          "name": "stderr",
          "text": [
            "100%|██████████| 24/24 [00:02<00:00, 10.01it/s]\n"
          ]
        },
        {
          "output_type": "stream",
          "name": "stdout",
          "text": [
            "Epoch [4], train_loss: 0.8756, val_loss: 0.9693, val_acc: 0.5523\n"
          ]
        },
        {
          "output_type": "stream",
          "name": "stderr",
          "text": [
            "100%|██████████| 24/24 [00:02<00:00,  9.95it/s]\n"
          ]
        },
        {
          "output_type": "stream",
          "name": "stdout",
          "text": [
            "Epoch [5], train_loss: 0.8084, val_loss: 0.9597, val_acc: 0.6463\n"
          ]
        },
        {
          "output_type": "stream",
          "name": "stderr",
          "text": [
            "100%|██████████| 24/24 [00:02<00:00,  9.92it/s]\n"
          ]
        },
        {
          "output_type": "stream",
          "name": "stdout",
          "text": [
            "Epoch [6], train_loss: 0.7463, val_loss: 0.9373, val_acc: 0.6730\n"
          ]
        },
        {
          "output_type": "stream",
          "name": "stderr",
          "text": [
            "100%|██████████| 24/24 [00:02<00:00,  9.88it/s]\n"
          ]
        },
        {
          "output_type": "stream",
          "name": "stdout",
          "text": [
            "Epoch [7], train_loss: 0.7296, val_loss: 0.9740, val_acc: 0.6463\n"
          ]
        },
        {
          "output_type": "stream",
          "name": "stderr",
          "text": [
            "100%|██████████| 24/24 [00:02<00:00,  9.85it/s]\n"
          ]
        },
        {
          "output_type": "stream",
          "name": "stdout",
          "text": [
            "Epoch [8], train_loss: 0.6791, val_loss: 0.9732, val_acc: 0.6056\n"
          ]
        },
        {
          "output_type": "stream",
          "name": "stderr",
          "text": [
            "100%|██████████| 24/24 [00:02<00:00,  9.83it/s]\n"
          ]
        },
        {
          "output_type": "stream",
          "name": "stdout",
          "text": [
            "Epoch [9], train_loss: 0.6160, val_loss: 1.0748, val_acc: 0.6730\n"
          ]
        }
      ]
    },
    {
      "cell_type": "markdown",
      "source": [
        "**plot**"
      ],
      "metadata": {
        "id": "hb4MREFBArn_"
      }
    },
    {
      "cell_type": "code",
      "source": [
        "def plot_accuracies(history):\n",
        "    accuracies = [x['val_acc'] for x in history]\n",
        "    plt.plot(accuracies, '-x')\n",
        "    plt.xlabel('epoch')\n",
        "    plt.ylabel('accuracy')\n",
        "    plt.title('Accuracy vs. No. of epochs')\n",
        "\n",
        "plot_accuracies(history)"
      ],
      "metadata": {
        "colab": {
          "base_uri": "https://localhost:8080/",
          "height": 472
        },
        "id": "DwI_uszs-0uh",
        "outputId": "51b3f57b-3369-46e6-d502-5d1d7cba8992"
      },
      "execution_count": 43,
      "outputs": [
        {
          "output_type": "display_data",
          "data": {
            "text/plain": [
              "<Figure size 640x480 with 1 Axes>"
            ],
            "image/png": "[encoded data removed]"
          },
          "metadata": {}
        }
      ]
    },
    {
      "cell_type": "code",
      "source": [
        "def plot_losses(history):\n",
        "    train_losses = [x.get('train_loss') for x in history]\n",
        "    val_losses = [x['val_loss'] for x in history]\n",
        "    plt.plot(train_losses, '-bx')\n",
        "    plt.plot(val_losses, '-rx')\n",
        "    plt.xlabel('epoch')\n",
        "    plt.ylabel('loss')\n",
        "    plt.legend(['Training', 'Validation'])\n",
        "    plt.title('Loss vs. No. of epochs')\n",
        "\n",
        "plot_losses(history)"
      ],
      "metadata": {
        "colab": {
          "base_uri": "https://localhost:8080/",
          "height": 472
        },
        "id": "Dw_59Ml8AurQ",
        "outputId": "c9e9b6ec-5963-4f8d-8fed-13fe63199b19"
      },
      "execution_count": 44,
      "outputs": [
        {
          "output_type": "display_data",
          "data": {
            "text/plain": [
              "<Figure size 640x480 with 1 Axes>"
            ],
            "image/png": "[encoded data removed]"
          },
          "metadata": {}
        }
      ]
    },
    {
      "cell_type": "markdown",
      "source": [
        "**test**"
      ],
      "metadata": {
        "id": "grgIshOgAx1B"
      }
    },
    {
      "cell_type": "code",
      "source": [
        "@torch.no_grad()\n",
        "def evaluate(model, val_loader):\n",
        "    actual = list()\n",
        "    predicted = list()\n",
        "    global clip_model\n",
        "    model.eval()\n",
        "    for batch in val_loader:\n",
        "        clip_model.eval()\n",
        "        with torch.no_grad(), torch.cuda.amp.autocast():\n",
        "            text_features = clip_model.encode_text(batch[0])\n",
        "            text_features /= text_features.norm(dim=-1, keepdim=True)\n",
        "        out = model(text_features.type(torch.float))\n",
        "        _, preds = torch.max(out, dim=1)\n",
        "        actual += batch[1].detach().cpu().tolist()\n",
        "        predicted += preds.detach().cpu().tolist()\n",
        "    return actual, predicted"
      ],
      "metadata": {
        "id": "I9E9DLQy7uQA"
      },
      "execution_count": 45,
      "outputs": []
    },
    {
      "cell_type": "code",
      "source": [
        "test_dl = DeviceDataLoader(test_dl, device)\n",
        "actual, predicted = evaluate(model, test_dl)"
      ],
      "metadata": {
        "id": "NUHtyw71Aym_"
      },
      "execution_count": 46,
      "outputs": []
    },
    {
      "cell_type": "code",
      "source": [
        "class_names = list()\n",
        "\n",
        "for i in range(len(variable2label)):\n",
        "    for key, value in variable2label.items():\n",
        "        if i == value:\n",
        "            class_names.append(key)\n",
        "            break"
      ],
      "metadata": {
        "id": "NYw9hAUT-4JS"
      },
      "execution_count": 47,
      "outputs": []
    },
    {
      "cell_type": "code",
      "source": [
        "true_labels = actual\n",
        "predicted_labels = predicted\n",
        "\n",
        "print(\"F1 Macro:\", f1_macro(true_labels, predicted_labels))\n",
        "print(\"F1 Micro:\", f1_micro(true_labels, predicted_labels))\n",
        "print(\"Accuracy:\", accuracy_metric(true_labels, predicted_labels))\n",
        "print(\"Precision:\", precision(true_labels, predicted_labels))\n",
        "print(\"Recall:\", recall(true_labels, predicted_labels))\n",
        "\n",
        "plot_confusion_matrix(true_labels, predicted_labels, class_names)"
      ],
      "metadata": {
        "colab": {
          "base_uri": "https://localhost:8080/",
          "height": 941
        },
        "id": "LoXOEBhX-qBQ",
        "outputId": "30aaaa84-d10f-4c84-ef03-a1becbe4a7f5"
      },
      "execution_count": 48,
      "outputs": [
        {
          "output_type": "stream",
          "name": "stdout",
          "text": [
            "F1 Macro: 0.33617886178861783\n",
            "F1 Micro: 0.6595744680851063\n",
            "Accuracy: 0.6595744680851063\n",
            "Precision: 0.3681086519114688\n",
            "Recall: 0.33606334841628954\n"
          ]
        },
        {
          "output_type": "stream",
          "name": "stderr",
          "text": [
            "/usr/local/lib/python3.10/dist-packages/sklearn/metrics/_classification.py:1344: UndefinedMetricWarning: Precision is ill-defined and being set to 0.0 in labels with no predicted samples. Use `zero_division` parameter to control this behavior.\n",
            "  _warn_prf(average, modifier, msg_start, len(result))\n"
          ]
        },
        {
          "output_type": "display_data",
          "data": {
            "text/plain": [
              "<Figure size 1000x700 with 2 Axes>"
            ],
            "image/png": "[encoded data removed]"
          },
          "metadata": {}
        }
      ]
    },
    {
      "cell_type": "markdown",
      "source": [
        "OOD check"
      ],
      "metadata": {
        "id": "SLpifmuExe2n"
      }
    },
    {
      "cell_type": "code",
      "source": [
        "drama_movies = [\n",
        "    \"A young girl battles terminal illness while her family struggles to come to terms with their impending loss.\",\n",
        "    \"An aging boxer seeks redemption as he trains a young protégé, facing his own past failures along the way.\",\n",
        "    \"A musician grapples with deafness, discovering the resilience to pursue his passion despite overwhelming odds.\",\n",
        "    \"A single mother sacrifices everything to ensure her daughter’s future, navigating love, loss, and perseverance.\",\n",
        "    \"A disillusioned writer returns to his hometown, confronting old wounds and rekindling lost relationships.\",\n",
        "    \"A teacher in an inner-city school fights to inspire hope in her students amidst violence and poverty.\",\n",
        "    \"A talented chef faces a personal and professional crisis, finding solace in a rekindled family bond.\",\n",
        "    \"A teenager with a troubled past finds solace and direction through the mentorship of an unlikely friend.\",\n",
        "    \"A high-powered lawyer rethinks his life choices when he reconnects with an old flame in his rural hometown.\",\n",
        "    \"A man battles with guilt and forgiveness after a tragic accident alters his family forever.\",\n",
        "    \"A father and daughter navigate the challenges of life on the margins of society, relying on each other for survival.\",\n",
        "    \"A young athlete overcomes societal and familial expectations to follow his true passion.\",\n",
        "    \"A soldier returns home with PTSD, struggling to reintegrate into civilian life and reconnect with loved ones.\",\n",
        "    \"A woman re-evaluates her life after an unexpected diagnosis, finding new purpose and meaning.\",\n",
        "    \"A family confronts their patriarch’s hidden past when a long-lost relative appears out of the blue.\",\n",
        "    \"A young couple deals with the fallout of an unexpected pregnancy while balancing their dreams and responsibilities.\",\n",
        "    \"A once-famous actor battles alcoholism and attempts a comeback, reflecting on his tumultuous career.\",\n",
        "    \"A man searches for his biological parents, uncovering secrets that change his understanding of family.\",\n",
        "    \"A gifted pianist faces the pressures of competition and the demands of a perfectionist father.\",\n",
        "    \"A woman rebuilds her life after escaping an abusive relationship, finding strength in unexpected places.\",\n",
        "    \"A passionate activist fights for social justice, facing personal and political challenges along the way.\",\n",
        "    \"A novelist deals with writer’s block and the pressures of fame while coping with personal demons.\",\n",
        "    \"A doctor wrestles with the ethics of her profession after a controversial decision affects a patient’s life.\",\n",
        "    \"A troubled teen finds redemption and purpose through a community service program.\",\n",
        "    \"A family’s secrets unravel during a tense Thanksgiving reunion, forcing them to confront their past.\",\n",
        "    \"A promising football player struggles with the impact of a career-ending injury and finding a new path.\",\n",
        "    \"A woman rediscovers her identity after the death of her husband, embarking on a journey of self-discovery.\",\n",
        "    \"A struggling artist finds unexpected inspiration in an unlikely muse, changing both their lives.\",\n",
        "    \"A man reconnects with his estranged brother after their father’s death, uncovering old resentments and new understandings.\",\n",
        "    \"A college student balances academic pressures and familial expectations while pursuing her own dreams.\",\n",
        "    \"A couple faces the trials of infertility, exploring the depths of their relationship and hope.\",\n",
        "    \"A journalist uncovers corruption in her hometown, risking her career and personal safety.\",\n",
        "    \"A former child prodigy returns home to care for her ailing mother, rediscovering her passion and purpose.\",\n",
        "    \"A prisoner on death row finds redemption through an unexpected friendship with a prison guard.\",\n",
        "    \"A devoted teacher helps a struggling student unlock his potential, changing both their lives forever.\"\n",
        "]\n",
        "comedy_movies = [\n",
        "    \"A bumbling detective hilariously stumbles his way through a major case, accidentally solving it despite his constant mishaps.\",\n",
        "    \"Two clueless friends start a dog-walking business, leading to a series of comedic disasters and unexpected adventures.\",\n",
        "    \"A quirky family must navigate the hilarity of living together again when their eccentric grandmother moves in.\",\n",
        "    \"A hopeless romantic's awkward attempts at dating lead to laugh-out-loud moments and unexpected romance.\",\n",
        "    \"A group of college misfits hatch a series of outlandish schemes to save their beloved campus hangout from closure.\",\n",
        "    \"A down-on-his-luck magician’s ridiculous tricks accidentally turn him into a viral sensation overnight.\",\n",
        "    \"An over-the-top wedding planner faces a comical series of disasters while trying to pull off the perfect wedding.\",\n",
        "    \"A man’s attempts to impress his in-laws with his cooking skills result in a kitchen catastrophe and side-splitting chaos.\",\n",
        "    \"A group of mismatched co-workers must band together to win a hilarious office competition and save their jobs.\",\n",
        "    \"A novice ghost hunter’s bungling efforts lead to uproarious encounters with not-so-spooky spirits.\"\n",
        "]\n",
        "war_action_movies = [\n",
        "    \"A fearless commando leads a daring raid behind enemy lines, unleashing a whirlwind of explosive action and intense combat.\",\n",
        "    \"A skilled fighter pilot battles enemy forces in high-octane dogfights, navigating a sky filled with bullets and missiles.\",\n",
        "    \"A group of elite soldiers embarks on a covert mission to rescue hostages, facing relentless gunfire and deadly ambushes.\",\n",
        "    \"A seasoned warrior returns to the battlefield, orchestrating a strategic assault that culminates in an epic showdown.\",\n",
        "    \"A squad of determined marines fights their way through a war-torn city, engaging in brutal hand-to-hand combat and tactical warfare.\"\n",
        "]\n",
        "\n",
        "final_ood_movies = drama_movies + comedy_movies + war_action_movies\n",
        "final_ood_labels = [0] * 35 + [3] * 10 + [1] * 5"
      ],
      "metadata": {
        "id": "U6tzwPkYxg28"
      },
      "execution_count": 49,
      "outputs": []
    },
    {
      "cell_type": "code",
      "source": [
        "ood_list = list()\n",
        "\n",
        "for i in range(len(final_ood_movies)):\n",
        "    ood_list.append((final_ood_movies[i], final_ood_labels[i]))"
      ],
      "metadata": {
        "id": "OvKQCJUVzOYc"
      },
      "execution_count": 51,
      "outputs": []
    },
    {
      "cell_type": "code",
      "source": [
        "ood_ds = CustomDataset(ood_list, tokenizer)\n",
        "ood_dl = DataLoader(ood_ds, batch_size*2)"
      ],
      "metadata": {
        "id": "XIxy8E0Azcmd"
      },
      "execution_count": 52,
      "outputs": []
    },
    {
      "cell_type": "code",
      "source": [
        "ood_dl = DeviceDataLoader(ood_dl, device)\n",
        "actual, predicted = evaluate(model, ood_dl)"
      ],
      "metadata": {
        "id": "4m4N5wlJzmc5"
      },
      "execution_count": 55,
      "outputs": []
    },
    {
      "cell_type": "code",
      "source": [
        "true_labels = actual\n",
        "predicted_labels = predicted\n",
        "class_names = [\"Drama & Emotion\", \"Action\", \"Comedy\"]\n",
        "\n",
        "print(\"F1 Macro:\", f1_macro(true_labels, predicted_labels))\n",
        "print(\"F1 Micro:\", f1_micro(true_labels, predicted_labels))\n",
        "print(\"Accuracy:\", accuracy_metric(true_labels, predicted_labels))\n",
        "print(\"Precision:\", precision(true_labels, predicted_labels))\n",
        "print(\"Recall:\", recall(true_labels, predicted_labels))\n",
        "\n",
        "plot_confusion_matrix(true_labels, predicted_labels, class_names)"
      ],
      "metadata": {
        "colab": {
          "base_uri": "https://localhost:8080/",
          "height": 728
        },
        "id": "sdgHL4HWzrkQ",
        "outputId": "2d8f1c74-082c-4000-9960-8d8718881dd9"
      },
      "execution_count": 57,
      "outputs": [
        {
          "output_type": "stream",
          "name": "stdout",
          "text": [
            "F1 Macro: 0.8215809794757165\n",
            "F1 Micro: 0.92\n",
            "Accuracy: 0.92\n",
            "Precision: 0.9658119658119658\n",
            "Recall: 0.7666666666666666\n"
          ]
        },
        {
          "output_type": "display_data",
          "data": {
            "text/plain": [
              "<Figure size 1000x700 with 2 Axes>"
            ],
            "image/png": "[encoded data removed]"
          },
          "metadata": {}
        }
      ]
    },
    {
      "cell_type": "markdown",
      "source": [
        "# **Persian Doc Classification**"
      ],
      "metadata": {
        "id": "k4bTLyctw--Y"
      }
    },
    {
      "cell_type": "markdown",
      "source": [
        "**import libraries**"
      ],
      "metadata": {
        "id": "J7BKo-dvw--Y"
      }
    },
    {
      "cell_type": "code",
      "source": [
        "import torch\n",
        "from transformers import AutoConfig, AutoTokenizer, AutoModel, TFAutoModel\n",
        "from transformers import BertTokenizer, BertModel\n",
        "from torch.utils.data.dataloader import DataLoader\n",
        "from torch.utils.data import Dataset\n",
        "import torch.nn as nn\n",
        "import torch.nn.functional as F\n",
        "import matplotlib\n",
        "import matplotlib.pyplot as plt\n",
        "from tqdm import tqdm\n",
        "%matplotlib inline\n",
        "matplotlib.rcParams['figure.facecolor'] = '#ffffff'"
      ],
      "metadata": {
        "id": "mKd1Lu47w--Z"
      },
      "execution_count": null,
      "outputs": []
    },
    {
      "cell_type": "code",
      "source": [
        "random_seed = 42\n",
        "torch.manual_seed(random_seed)"
      ],
      "metadata": {
        "id": "Y8yUX51kw--Z"
      },
      "execution_count": null,
      "outputs": []
    },
    {
      "cell_type": "markdown",
      "source": [
        "**device**"
      ],
      "metadata": {
        "id": "TzZMs_Jlw--Z"
      }
    },
    {
      "cell_type": "code",
      "source": [
        "def get_default_device():\n",
        "    if torch.cuda.is_available():\n",
        "        return torch.device('cuda')\n",
        "    else:\n",
        "        return torch.device('cpu')\n",
        "\n",
        "def to_device(data, device):\n",
        "    if isinstance(data, (list,tuple)):\n",
        "        return [to_device(x, device) for x in data]\n",
        "    return data.to(device, non_blocking=True)\n",
        "\n",
        "class DeviceDataLoader():\n",
        "    def __init__(self, dl, device):\n",
        "        self.dl = dl\n",
        "        self.device = device\n",
        "\n",
        "    def __iter__(self):\n",
        "        for b in self.dl:\n",
        "            yield to_device(b, self.device)\n",
        "\n",
        "    def __len__(self):\n",
        "        return len(self.dl)"
      ],
      "metadata": {
        "id": "Ttm8VmIXw--Z"
      },
      "execution_count": null,
      "outputs": []
    },
    {
      "cell_type": "code",
      "source": [
        "device = get_default_device()\n",
        "device"
      ],
      "metadata": {
        "id": "xssnVPmdw--Z"
      },
      "execution_count": null,
      "outputs": []
    },
    {
      "cell_type": "markdown",
      "source": [
        "**model**"
      ],
      "metadata": {
        "id": "_Yp9augaw--a"
      }
    },
    {
      "cell_type": "code",
      "source": [
        "bert_tokenizer = BertTokenizer.from_pretrained('HooshvareLab/bert-base-parsbert-uncased')\n",
        "bert_model = BertModel.from_pretrained('HooshvareLab/bert-base-parsbert-uncased')\n",
        "to_device(bert_model, device)"
      ],
      "metadata": {
        "id": "2sbUbxOGw--a"
      },
      "execution_count": null,
      "outputs": []
    },
    {
      "cell_type": "markdown",
      "source": [
        "**dataloader**"
      ],
      "metadata": {
        "id": "B-D6m0Gnw--a"
      }
    },
    {
      "cell_type": "code",
      "source": [
        "unique_values = persian_df['Broad_Genre'].unique()\n",
        "print(unique_values)"
      ],
      "metadata": {
        "colab": {
          "base_uri": "https://localhost:8080/"
        },
        "outputId": "3d09cde3-d8d3-4d4e-d111-b7f3f08b52af",
        "id": "sKo3Wsqbw--a"
      },
      "execution_count": null,
      "outputs": [
        {
          "output_type": "stream",
          "name": "stdout",
          "text": [
            "['Drama & Emotion' 'Action & Adventure' 'Culture & Society'\n",
            " 'Comedy & Light-Hearted' 'Arts & Nature']\n"
          ]
        }
      ]
    },
    {
      "cell_type": "code",
      "source": [
        "variable2label = dict()\n",
        "\n",
        "for i, var in enumerate(unique_values):\n",
        "    variable2label[var] = i\n",
        "\n",
        "variable2label"
      ],
      "metadata": {
        "colab": {
          "base_uri": "https://localhost:8080/"
        },
        "outputId": "528a7914-6e88-4e1b-d038-66d5b0ab622a",
        "id": "KffZbgBJw--a"
      },
      "execution_count": null,
      "outputs": [
        {
          "output_type": "execute_result",
          "data": {
            "text/plain": [
              "{'Drama & Emotion': 0,\n",
              " 'Action & Adventure': 1,\n",
              " 'Culture & Society': 2,\n",
              " 'Comedy & Light-Hearted': 3,\n",
              " 'Arts & Nature': 4}"
            ]
          },
          "metadata": {},
          "execution_count": 68
        }
      ]
    },
    {
      "cell_type": "code",
      "source": [
        "all_pairs_train = list()\n",
        "\n",
        "for _, row in persian_train_df_80.iterrows():\n",
        "    all_pairs_train.append((row['Description'], variable2label[row['Broad_Genre']]))"
      ],
      "metadata": {
        "id": "KRdJXg6Aw--b"
      },
      "execution_count": null,
      "outputs": []
    },
    {
      "cell_type": "code",
      "source": [
        "all_pairs_valid = list()\n",
        "\n",
        "for _, row in persian_val_df_10.iterrows():\n",
        "    all_pairs_valid.append((row['Description'], variable2label[row['Broad_Genre']]))"
      ],
      "metadata": {
        "id": "lNbtk8oLw--b"
      },
      "execution_count": null,
      "outputs": []
    },
    {
      "cell_type": "code",
      "source": [
        "all_pairs_test = list()\n",
        "\n",
        "for _, row in persian_test_df_10.iterrows():\n",
        "    all_pairs_test.append((row['Description'], variable2label[row['Broad_Genre']]))"
      ],
      "metadata": {
        "id": "tsdcUT80w--b"
      },
      "execution_count": null,
      "outputs": []
    },
    {
      "cell_type": "code",
      "source": [
        "len(all_pairs_train), len(all_pairs_valid), len(all_pairs_test)"
      ],
      "metadata": {
        "colab": {
          "base_uri": "https://localhost:8080/"
        },
        "outputId": "176b859d-85ac-481f-97d2-8209b523450b",
        "id": "OnYBYsbyw--b"
      },
      "execution_count": null,
      "outputs": [
        {
          "output_type": "execute_result",
          "data": {
            "text/plain": [
              "(745, 93, 94)"
            ]
          },
          "metadata": {},
          "execution_count": 72
        }
      ]
    },
    {
      "cell_type": "code",
      "source": [
        "class CustomDataset(Dataset):\n",
        "    def __init__(self, sentence_pairs):\n",
        "        self.sentence_pairs = sentence_pairs\n",
        "\n",
        "    def __len__(self):\n",
        "        return len(self.sentence_pairs)\n",
        "\n",
        "    def __getitem__(self, idx):\n",
        "        current_pair = self.sentence_pairs[idx]\n",
        "\n",
        "        inputs = bert_tokenizer(remove_stopwords_persian(current_pair[0]), return_tensors='pt', padding=True, truncation=True, max_length=512).to(device)\n",
        "        outputs = bert_model(**inputs)\n",
        "        output = outputs.last_hidden_state.mean(dim=1).squeeze()\n",
        "\n",
        "        return output, current_pair[1]"
      ],
      "metadata": {
        "id": "DIKuN2K-w--b"
      },
      "execution_count": null,
      "outputs": []
    },
    {
      "cell_type": "code",
      "source": [
        "train_ds = CustomDataset(all_pairs_train)\n",
        "val_ds = CustomDataset(all_pairs_valid)\n",
        "test_ds = CustomDataset(all_pairs_test)"
      ],
      "metadata": {
        "id": "KCqJ2xqfw--c"
      },
      "execution_count": null,
      "outputs": []
    },
    {
      "cell_type": "code",
      "source": [
        "batch_size=32\n",
        "train_dl = DataLoader(train_ds, batch_size, shuffle=True)\n",
        "val_dl = DataLoader(val_ds, batch_size*2)\n",
        "test_dl = DataLoader(test_ds, batch_size*2)"
      ],
      "metadata": {
        "id": "lFwsZlaiw--c"
      },
      "execution_count": null,
      "outputs": []
    },
    {
      "cell_type": "markdown",
      "source": [
        "**custom model**"
      ],
      "metadata": {
        "id": "KOO-gct0w--c"
      }
    },
    {
      "cell_type": "code",
      "source": [
        "all_unique_labels = len(unique_values)\n",
        "all_unique_labels"
      ],
      "metadata": {
        "colab": {
          "base_uri": "https://localhost:8080/"
        },
        "outputId": "1634ba71-45ea-4b63-f7f3-96f5160b3592",
        "id": "BIMDj-ldw--c"
      },
      "execution_count": null,
      "outputs": [
        {
          "output_type": "execute_result",
          "data": {
            "text/plain": [
              "5"
            ]
          },
          "metadata": {},
          "execution_count": 76
        }
      ]
    },
    {
      "cell_type": "code",
      "source": [
        "@torch.no_grad()\n",
        "def evaluate(model, val_loader):\n",
        "    model.eval()\n",
        "    outputs = list()\n",
        "    for batch in val_loader:\n",
        "        out = model.validation_step(batch)\n",
        "        outputs.append(out)\n",
        "    return model.validation_epoch_end(outputs)\n",
        "\n",
        "def fit(epochs, lr, model, train_loader, val_loader, opt_func=torch.optim.SGD):\n",
        "    history = []\n",
        "    optimizer = opt_func(model.parameters(), lr)\n",
        "    for epoch in range(epochs):\n",
        "        model.train()\n",
        "        train_losses = []\n",
        "        for batch in tqdm(train_loader):\n",
        "            loss = model.training_step(batch)\n",
        "            train_losses.append(loss)\n",
        "            loss.backward()\n",
        "            optimizer.step()\n",
        "            optimizer.zero_grad()\n",
        "        result = evaluate(model, val_loader)\n",
        "        result['train_loss'] = torch.stack(train_losses).mean().item()\n",
        "        model.epoch_end(epoch, result)\n",
        "        history.append(result)\n",
        "    return history"
      ],
      "metadata": {
        "id": "i_ch_MfFw--c"
      },
      "execution_count": null,
      "outputs": []
    },
    {
      "cell_type": "code",
      "source": [
        "class ClassificationBase(nn.Module):\n",
        "    def training_step(self, batch):\n",
        "        images, labels = batch\n",
        "        out = self(images)\n",
        "        loss = F.cross_entropy(out, labels)\n",
        "        return loss\n",
        "\n",
        "    def validation_step(self, batch):\n",
        "        images, labels = batch\n",
        "        out = self(images)\n",
        "        loss = F.cross_entropy(out, labels)\n",
        "        acc = accuracy(out, labels)\n",
        "        return {'val_loss': loss.detach(), 'val_acc': acc}\n",
        "\n",
        "    def validation_epoch_end(self, outputs):\n",
        "        batch_losses = [x['val_loss'] for x in outputs]\n",
        "        epoch_loss = torch.stack(batch_losses).mean()\n",
        "        batch_accs = [x['val_acc'] for x in outputs]\n",
        "        epoch_acc = torch.stack(batch_accs).mean()\n",
        "        return {'val_loss': epoch_loss.item(), 'val_acc': epoch_acc.item()}\n",
        "\n",
        "    def epoch_end(self, epoch, result):\n",
        "        print(\"Epoch [{}], train_loss: {:.4f}, val_loss: {:.4f}, val_acc: {:.4f}\".format(\n",
        "            epoch, result['train_loss'], result['val_loss'], result['val_acc']))\n",
        "\n",
        "def accuracy(outputs, labels):\n",
        "    _, preds = torch.max(outputs, dim=1)\n",
        "    return torch.tensor(torch.sum(preds == labels).item() / len(preds))"
      ],
      "metadata": {
        "id": "hoJb_4Lnw--d"
      },
      "execution_count": null,
      "outputs": []
    },
    {
      "cell_type": "code",
      "source": [
        "class MovieClassifier(ClassificationBase):\n",
        "    def __init__(self, number_of_classes):\n",
        "        super().__init__()\n",
        "        global embed_size\n",
        "        self.network = nn.Sequential(\n",
        "            nn.Linear(768, 512),\n",
        "            nn.Dropout(0.5),\n",
        "            nn.ReLU(),\n",
        "            nn.Linear(512, 256),\n",
        "            nn.Dropout(0.25),\n",
        "            nn.ReLU(),\n",
        "            nn.Linear(256, number_of_classes)\n",
        "        )\n",
        "\n",
        "    def forward(self, xb):\n",
        "        return self.network(xb)"
      ],
      "metadata": {
        "id": "QcqfFUREw--d"
      },
      "execution_count": null,
      "outputs": []
    },
    {
      "cell_type": "code",
      "source": [
        "model = MovieClassifier(all_unique_labels)\n",
        "model"
      ],
      "metadata": {
        "id": "LDedxLVOw--d"
      },
      "execution_count": null,
      "outputs": []
    },
    {
      "cell_type": "code",
      "source": [
        "train_dl = DeviceDataLoader(train_dl, device)\n",
        "val_dl = DeviceDataLoader(val_dl, device)\n",
        "to_device(model, device)"
      ],
      "metadata": {
        "id": "mY6uo1Vhw--d"
      },
      "execution_count": null,
      "outputs": []
    },
    {
      "cell_type": "markdown",
      "source": [
        "**train**"
      ],
      "metadata": {
        "id": "jTxDWb2mw--e"
      }
    },
    {
      "cell_type": "code",
      "source": [
        "num_epochs = 10\n",
        "opt_func = torch.optim.Adam\n",
        "lr = 0.001"
      ],
      "metadata": {
        "id": "zhvTVyXjw--e"
      },
      "execution_count": null,
      "outputs": []
    },
    {
      "cell_type": "code",
      "source": [
        "history = fit(num_epochs, lr, model, train_dl, val_dl, opt_func)"
      ],
      "metadata": {
        "colab": {
          "base_uri": "https://localhost:8080/"
        },
        "outputId": "da4f0ed3-6792-4208-d6be-faa5d2de3f08",
        "id": "3XVCNGxnw--e"
      },
      "execution_count": null,
      "outputs": [
        {
          "output_type": "stream",
          "name": "stderr",
          "text": [
            "100%|██████████| 24/24 [00:25<00:00,  1.04s/it]\n"
          ]
        },
        {
          "output_type": "stream",
          "name": "stdout",
          "text": [
            "Epoch [0], train_loss: 1.1291, val_loss: 1.1250, val_acc: 0.5805\n"
          ]
        },
        {
          "output_type": "stream",
          "name": "stderr",
          "text": [
            "100%|██████████| 24/24 [00:25<00:00,  1.04s/it]\n"
          ]
        },
        {
          "output_type": "stream",
          "name": "stdout",
          "text": [
            "Epoch [1], train_loss: 0.9837, val_loss: 1.0754, val_acc: 0.5789\n"
          ]
        },
        {
          "output_type": "stream",
          "name": "stderr",
          "text": [
            "100%|██████████| 24/24 [00:25<00:00,  1.05s/it]\n"
          ]
        },
        {
          "output_type": "stream",
          "name": "stdout",
          "text": [
            "Epoch [2], train_loss: 0.9289, val_loss: 1.0571, val_acc: 0.5867\n"
          ]
        },
        {
          "output_type": "stream",
          "name": "stderr",
          "text": [
            "100%|██████████| 24/24 [00:24<00:00,  1.04s/it]\n"
          ]
        },
        {
          "output_type": "stream",
          "name": "stdout",
          "text": [
            "Epoch [3], train_loss: 0.8535, val_loss: 1.0719, val_acc: 0.5539\n"
          ]
        },
        {
          "output_type": "stream",
          "name": "stderr",
          "text": [
            "100%|██████████| 24/24 [00:25<00:00,  1.04s/it]\n"
          ]
        },
        {
          "output_type": "stream",
          "name": "stdout",
          "text": [
            "Epoch [4], train_loss: 0.8347, val_loss: 1.0761, val_acc: 0.5242\n"
          ]
        },
        {
          "output_type": "stream",
          "name": "stderr",
          "text": [
            "100%|██████████| 24/24 [00:24<00:00,  1.04s/it]\n"
          ]
        },
        {
          "output_type": "stream",
          "name": "stdout",
          "text": [
            "Epoch [5], train_loss: 0.8154, val_loss: 1.1562, val_acc: 0.5633\n"
          ]
        },
        {
          "output_type": "stream",
          "name": "stderr",
          "text": [
            "100%|██████████| 24/24 [00:24<00:00,  1.03s/it]\n"
          ]
        },
        {
          "output_type": "stream",
          "name": "stdout",
          "text": [
            "Epoch [6], train_loss: 0.7734, val_loss: 1.1340, val_acc: 0.5867\n"
          ]
        },
        {
          "output_type": "stream",
          "name": "stderr",
          "text": [
            "100%|██████████| 24/24 [00:24<00:00,  1.04s/it]\n"
          ]
        },
        {
          "output_type": "stream",
          "name": "stdout",
          "text": [
            "Epoch [7], train_loss: 0.7451, val_loss: 1.1804, val_acc: 0.5867\n"
          ]
        },
        {
          "output_type": "stream",
          "name": "stderr",
          "text": [
            "100%|██████████| 24/24 [00:24<00:00,  1.04s/it]\n"
          ]
        },
        {
          "output_type": "stream",
          "name": "stdout",
          "text": [
            "Epoch [8], train_loss: 0.7163, val_loss: 1.1500, val_acc: 0.5946\n"
          ]
        },
        {
          "output_type": "stream",
          "name": "stderr",
          "text": [
            "100%|██████████| 24/24 [00:25<00:00,  1.04s/it]\n"
          ]
        },
        {
          "output_type": "stream",
          "name": "stdout",
          "text": [
            "Epoch [9], train_loss: 0.6804, val_loss: 1.2532, val_acc: 0.5962\n"
          ]
        }
      ]
    },
    {
      "cell_type": "markdown",
      "source": [
        "**plot**"
      ],
      "metadata": {
        "id": "88GM9_4Uw--e"
      }
    },
    {
      "cell_type": "code",
      "source": [
        "def plot_accuracies(history):\n",
        "    accuracies = [x['val_acc'] for x in history]\n",
        "    plt.plot(accuracies, '-x')\n",
        "    plt.xlabel('epoch')\n",
        "    plt.ylabel('accuracy')\n",
        "    plt.title('Accuracy vs. No. of epochs')\n",
        "\n",
        "plot_accuracies(history)"
      ],
      "metadata": {
        "colab": {
          "base_uri": "https://localhost:8080/",
          "height": 472
        },
        "outputId": "f76b6ff0-9003-441b-c0b0-163e7ab4f82c",
        "id": "r2mshHmow--e"
      },
      "execution_count": null,
      "outputs": [
        {
          "output_type": "display_data",
          "data": {
            "text/plain": [
              "<Figure size 640x480 with 1 Axes>"
            ],
            "image/png": "[encoded data removed]"
          },
          "metadata": {}
        }
      ]
    },
    {
      "cell_type": "code",
      "source": [
        "def plot_losses(history):\n",
        "    train_losses = [x.get('train_loss') for x in history]\n",
        "    val_losses = [x['val_loss'] for x in history]\n",
        "    plt.plot(train_losses, '-bx')\n",
        "    plt.plot(val_losses, '-rx')\n",
        "    plt.xlabel('epoch')\n",
        "    plt.ylabel('loss')\n",
        "    plt.legend(['Training', 'Validation'])\n",
        "    plt.title('Loss vs. No. of epochs')\n",
        "\n",
        "plot_losses(history)"
      ],
      "metadata": {
        "colab": {
          "base_uri": "https://localhost:8080/",
          "height": 472
        },
        "outputId": "5e032136-2908-4186-b070-d35e6281b089",
        "id": "3QKEX1bIw--f"
      },
      "execution_count": null,
      "outputs": [
        {
          "output_type": "display_data",
          "data": {
            "text/plain": [
              "<Figure size 640x480 with 1 Axes>"
            ],
            "image/png": "[encoded data removed]"
          },
          "metadata": {}
        }
      ]
    },
    {
      "cell_type": "markdown",
      "source": [
        "**test**"
      ],
      "metadata": {
        "id": "Wj3jLi8ow--f"
      }
    },
    {
      "cell_type": "code",
      "source": [
        "def evaluate(model, val_loader):\n",
        "    actual = list()\n",
        "    predicted = list()\n",
        "    model.eval()\n",
        "    for batch in val_loader:\n",
        "        out = model(batch[0])\n",
        "        _, preds = torch.max(out, dim=1)\n",
        "        actual += batch[1].detach().cpu().tolist()\n",
        "        predicted += preds.detach().cpu().tolist()\n",
        "    return actual, predicted"
      ],
      "metadata": {
        "id": "c0olyG7JBfsg"
      },
      "execution_count": null,
      "outputs": []
    },
    {
      "cell_type": "code",
      "source": [
        "test_dl = DeviceDataLoader(test_dl, device)\n",
        "actual, predicted = evaluate(model, test_dl)"
      ],
      "metadata": {
        "id": "EsncPEwYAZcI"
      },
      "execution_count": null,
      "outputs": []
    },
    {
      "cell_type": "code",
      "source": [
        "class_names = list()\n",
        "\n",
        "for i in range(len(variable2label)):\n",
        "    for key, value in variable2label.items():\n",
        "        if i == value:\n",
        "            class_names.append(key)\n",
        "            break"
      ],
      "metadata": {
        "id": "ArhCeNuqAZcI"
      },
      "execution_count": null,
      "outputs": []
    },
    {
      "cell_type": "code",
      "source": [
        "true_labels = actual\n",
        "predicted_labels = predicted\n",
        "\n",
        "print(\"F1 Macro:\", f1_macro(true_labels, predicted_labels))\n",
        "print(\"F1 Micro:\", f1_micro(true_labels, predicted_labels))\n",
        "print(\"Accuracy:\", accuracy_metric(true_labels, predicted_labels))\n",
        "print(\"Precision:\", precision(true_labels, predicted_labels))\n",
        "print(\"Recall:\", recall(true_labels, predicted_labels))\n",
        "\n",
        "plot_confusion_matrix(true_labels, predicted_labels, class_names)"
      ],
      "metadata": {
        "colab": {
          "base_uri": "https://localhost:8080/",
          "height": 941
        },
        "outputId": "b3be5a38-9d67-4b10-f6c4-e21e2d32e5da",
        "id": "LeGY8XKfAZcI"
      },
      "execution_count": null,
      "outputs": [
        {
          "output_type": "stream",
          "name": "stdout",
          "text": [
            "F1 Macro: 0.2508577772182611\n",
            "F1 Micro: 0.574468085106383\n",
            "Accuracy: 0.574468085106383\n",
            "Precision: 0.3078762306610408\n",
            "Recall: 0.2560633484162896\n"
          ]
        },
        {
          "output_type": "stream",
          "name": "stderr",
          "text": [
            "/usr/local/lib/python3.10/dist-packages/sklearn/metrics/_classification.py:1344: UndefinedMetricWarning: Precision is ill-defined and being set to 0.0 in labels with no predicted samples. Use `zero_division` parameter to control this behavior.\n",
            "  _warn_prf(average, modifier, msg_start, len(result))\n"
          ]
        },
        {
          "output_type": "display_data",
          "data": {
            "text/plain": [
              "<Figure size 1000x700 with 2 Axes>"
            ],
            "image/png": "[encoded data removed]"
          },
          "metadata": {}
        }
      ]
    }
  ]
}