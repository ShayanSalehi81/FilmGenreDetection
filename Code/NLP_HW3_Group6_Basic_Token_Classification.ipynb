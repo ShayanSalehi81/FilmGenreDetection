{
  "nbformat": 4,
  "nbformat_minor": 0,
  "metadata": {
    "colab": {
      "provenance": [],
      "collapsed_sections": [
        "ychgwSGSG3bm",
        "gUTpKYfxJnjD",
        "Jcw4JVl6o6r2",
        "BN1x-iTviEhh",
        "GR5HNJ9QvoHI"
      ]
    },
    "kernelspec": {
      "name": "python3",
      "display_name": "Python 3"
    },
    "language_info": {
      "name": "python"
    }
  },
  "cells": [
    {
      "cell_type": "markdown",
      "source": [
        "Installing Necessary Packages"
      ],
      "metadata": {
        "id": "6WWST4ZjDeAr"
      }
    },
    {
      "cell_type": "code",
      "source": [
        "!pip install pandas\n",
        "!pip install hazm\n",
        "!pip install nltk\n",
        "!pip install scikit-learn matplotlib\n",
        "!pip install datasets"
      ],
      "metadata": {
        "id": "JguY_Ho-Dldb"
      },
      "execution_count": null,
      "outputs": []
    },
    {
      "cell_type": "markdown",
      "source": [
        "# **Preprocesses**"
      ],
      "metadata": {
        "id": "ychgwSGSG3bm"
      }
    },
    {
      "cell_type": "markdown",
      "source": [
        "Normalization for persian"
      ],
      "metadata": {
        "id": "1hzu5S70Hc6T"
      }
    },
    {
      "cell_type": "code",
      "source": [
        "import re\n",
        "import unicodedata\n",
        "\n",
        "def normalize_unicode(text):\n",
        "    return unicodedata.normalize('NFC', text)\n",
        "\n",
        "def normalize_arabic_persian_characters(text):\n",
        "    arabic_to_persian = {\n",
        "        'ك': 'ک',\n",
        "        'ي': 'ی',\n",
        "        'ى': 'ی',\n",
        "        'ة': 'ه',\n",
        "        'ؤ': 'و',\n",
        "        'إ': 'ا',\n",
        "        'أ': 'ا',\n",
        "        'ٱ': 'ا',\n",
        "    }\n",
        "    for arabic_char, persian_char in arabic_to_persian.items():\n",
        "        text = text.replace(arabic_char, persian_char)\n",
        "    return text\n",
        "\n",
        "def normalize_digits(text):\n",
        "    arabic_digits = '۰۱۲۳۴۵۶۷۸۹'\n",
        "    persian_digits = '۰۱۲۳۴۵۶۷۸۹'\n",
        "    english_digits = '0123456789'\n",
        "    digit_mapping = str.maketrans(arabic_digits + persian_digits, english_digits * 2)\n",
        "    return text.translate(digit_mapping)\n",
        "\n",
        "def strip_extra_whitespace(text):\n",
        "    return re.sub(r'\\s+', ' ', text).strip()\n",
        "\n",
        "def initial_normalization_persian(text,\n",
        "                           normalize_unicode_flag=True,\n",
        "                           normalize_arabic_persian_characters_flag=True,\n",
        "                           normalize_digits_flag=True,\n",
        "                           strip_extra_whitespace_flag=True):\n",
        "    if normalize_unicode_flag:\n",
        "        text = normalize_unicode(text)\n",
        "    if normalize_arabic_persian_characters_flag:\n",
        "        text = normalize_arabic_persian_characters(text)\n",
        "    if normalize_digits_flag:\n",
        "        text = normalize_digits(text)\n",
        "    if strip_extra_whitespace_flag:\n",
        "        text = strip_extra_whitespace(text)\n",
        "    return text\n",
        "\n",
        "example_text = \"كتاب‌هاي خوبی هستند! ۱۲۳\"\n",
        "normalized_text = initial_normalization_persian(example_text,\n",
        "                                         normalize_unicode_flag=True,\n",
        "                                         normalize_arabic_persian_characters_flag=True,\n",
        "                                         normalize_digits_flag=True,\n",
        "                                         strip_extra_whitespace_flag=True)\n",
        "print(normalized_text)  # Output: \"کتابهای خوبی هستند 123\"\n",
        "\n"
      ],
      "metadata": {
        "colab": {
          "base_uri": "https://localhost:8080/"
        },
        "id": "2tEovWm6G78I",
        "outputId": "5e2132a8-0282-428e-9889-60617fce16ce"
      },
      "execution_count": 2,
      "outputs": [
        {
          "output_type": "stream",
          "name": "stdout",
          "text": [
            "کتاب‌های خوبی هستند! 123\n"
          ]
        }
      ]
    },
    {
      "cell_type": "code",
      "source": [
        "from hazm import Stemmer, Lemmatizer\n",
        "\n",
        "def final_normalization_persian(text,\n",
        "                           stem_flag=False,\n",
        "                           lemmatize_flag=False,\n",
        "                           handle_suffixes_and_prefixes_flag=False):\n",
        "    stemmer = Stemmer()\n",
        "    lemmatizer = Lemmatizer()\n",
        "\n",
        "    if stem_flag:\n",
        "        text = ' '.join(stemmer.stem(word) for word in text.split())\n",
        "\n",
        "    if lemmatize_flag:\n",
        "        text = ' '.join(lemmatizer.lemmatize(word) for word in text.split())\n",
        "\n",
        "    if handle_suffixes_and_prefixes_flag:\n",
        "        pass\n",
        "\n",
        "    return text\n",
        "\n",
        "example_text = \"کتاب‌ها گذشته‌اند و من می‌خواهم خواندنش را\"\n",
        "normalized_text = final_normalization_persian(example_text,\n",
        "                                          stem_flag=True,\n",
        "                                          lemmatize_flag=True,\n",
        "                                          handle_suffixes_and_prefixes_flag=False)\n",
        "print(normalized_text)"
      ],
      "metadata": {
        "colab": {
          "base_uri": "https://localhost:8080/"
        },
        "id": "vrU2iE8djkMo",
        "outputId": "6171417f-3e90-44b4-a06d-f5d6ce32a3fa"
      },
      "execution_count": 3,
      "outputs": [
        {
          "output_type": "stream",
          "name": "stdout",
          "text": [
            "کتاب گذشت#گذر و من می‌خواه خواندن را\n"
          ]
        }
      ]
    },
    {
      "cell_type": "markdown",
      "source": [
        "normalize for English"
      ],
      "metadata": {
        "id": "60CMYnBAWlcc"
      }
    },
    {
      "cell_type": "code",
      "source": [
        "import re\n",
        "import string\n",
        "import unicodedata\n",
        "from nltk.corpus import stopwords\n",
        "\n",
        "import nltk\n",
        "nltk.download('stopwords')\n",
        "\n",
        "def normalize_unicode(text):\n",
        "    return unicodedata.normalize('NFKC', text)\n",
        "\n",
        "def to_lowercase(text):\n",
        "    return text.lower()\n",
        "\n",
        "def remove_punctuation(text):\n",
        "    return text.translate(str.maketrans('', '', string.punctuation))\n",
        "\n",
        "def remove_digits(text):\n",
        "    return re.sub(r'\\d+', '', text)\n",
        "\n",
        "def remove_extra_whitespace(text):\n",
        "    return re.sub(r'\\s+', ' ', text).strip()\n",
        "\n",
        "def remove_stopwords(text):\n",
        "    stop_words = set(stopwords.words('english'))\n",
        "    return ' '.join([word for word in text.split() if word not in stop_words])\n",
        "\n",
        "def initial_normalization_english(text,\n",
        "                           normalize_unicode_flag=True,\n",
        "                           to_lowercase_flag=True,\n",
        "                           remove_punctuation_flag=True,\n",
        "                           remove_digits_flag=True,\n",
        "                           remove_extra_whitespace_flag=True,\n",
        "                           remove_stopwords_flag=False):\n",
        "    if normalize_unicode_flag:\n",
        "        text = normalize_unicode(text)\n",
        "    if to_lowercase_flag:\n",
        "        text = to_lowercase(text)\n",
        "    if remove_punctuation_flag:\n",
        "        text = remove_punctuation(text)\n",
        "    if remove_digits_flag:\n",
        "        text = remove_digits(text)\n",
        "    if remove_extra_whitespace_flag:\n",
        "        text = remove_extra_whitespace(text)\n",
        "    if remove_stopwords_flag:\n",
        "        text = remove_stopwords(text)\n",
        "    return text\n",
        "\n",
        "example_text = \"This is an Example! Text, with some punctuation. And numbers 12345.\"\n",
        "normalized_text = initial_normalization_english(example_text,\n",
        "                                         normalize_unicode_flag=True,\n",
        "                                         to_lowercase_flag=True,\n",
        "                                         remove_punctuation_flag=True,\n",
        "                                         remove_digits_flag=True,\n",
        "                                         remove_extra_whitespace_flag=True,\n",
        "                                         remove_stopwords_flag=True)\n",
        "print(normalized_text)  # Output: \"example text punctuation numbers\""
      ],
      "metadata": {
        "colab": {
          "base_uri": "https://localhost:8080/"
        },
        "id": "aaRSr7IKUAv-",
        "outputId": "c2408e58-ea07-4653-db46-3bfeec46a449"
      },
      "execution_count": 4,
      "outputs": [
        {
          "output_type": "stream",
          "name": "stdout",
          "text": [
            "example text punctuation numbers\n"
          ]
        },
        {
          "output_type": "stream",
          "name": "stderr",
          "text": [
            "[nltk_data] Downloading package stopwords to /root/nltk_data...\n",
            "[nltk_data]   Unzipping corpora/stopwords.zip.\n"
          ]
        }
      ]
    },
    {
      "cell_type": "code",
      "source": [
        "import re\n",
        "import string\n",
        "import unicodedata\n",
        "from nltk.corpus import stopwords\n",
        "from nltk.stem import PorterStemmer, WordNetLemmatizer\n",
        "from bs4 import BeautifulSoup\n",
        "\n",
        "import nltk\n",
        "nltk.download('stopwords')\n",
        "nltk.download('wordnet')\n",
        "\n",
        "def remove_urls(text):\n",
        "    return re.sub(r'http\\S+', '', text)\n",
        "\n",
        "def remove_html_tags(text):\n",
        "    return BeautifulSoup(text, \"html.parser\").get_text()\n",
        "\n",
        "def remove_special_characters(text):\n",
        "    return re.sub(r'[^\\w\\s]', '', text)\n",
        "\n",
        "def remove_accented_characters(text):\n",
        "    return unicodedata.normalize('NFKD', text).encode('ascii', 'ignore').decode('utf-8', 'ignore')\n",
        "\n",
        "def final_normalization_english(text,\n",
        "                           normalize_unicode_flag=True,\n",
        "                           to_lowercase_flag=True,\n",
        "                           remove_punctuation_flag=True,\n",
        "                           remove_digits_flag=True,\n",
        "                           remove_extra_whitespace_flag=True,\n",
        "                           remove_stopwords_flag=False,\n",
        "                           remove_urls_flag=False,\n",
        "                           remove_html_tags_flag=False,\n",
        "                           remove_special_characters_flag=False,\n",
        "                           remove_accented_characters_flag=False,\n",
        "                           stem_flag=False,\n",
        "                           lemmatize_flag=False):\n",
        "    if remove_urls_flag:\n",
        "        text = remove_urls(text)\n",
        "    if remove_html_tags_flag:\n",
        "        text = remove_html_tags(text)\n",
        "    if remove_special_characters_flag:\n",
        "        text = remove_special_characters(text)\n",
        "    if remove_accented_characters_flag:\n",
        "        text = remove_accented_characters(text)\n",
        "    if normalize_unicode_flag:\n",
        "        text = unicodedata.normalize('NFKC', text)\n",
        "    if to_lowercase_flag:\n",
        "        text = text.lower()\n",
        "    if remove_punctuation_flag:\n",
        "        text = text.translate(str.maketrans('', '', string.punctuation))\n",
        "    if remove_digits_flag:\n",
        "        text = re.sub(r'\\d+', '', text)\n",
        "    if remove_extra_whitespace_flag:\n",
        "        text = re.sub(r'\\s+', ' ', text).strip()\n",
        "    if remove_stopwords_flag:\n",
        "        stop_words = set(stopwords.words('english'))\n",
        "        text = ' '.join([word for word in text.split() if word not in stop_words])\n",
        "    if stem_flag:\n",
        "        stemmer = PorterStemmer()\n",
        "        text = ' '.join(stemmer.stem(word) for word in text.split())\n",
        "    if lemmatize_flag:\n",
        "        lemmatizer = WordNetLemmatizer()\n",
        "        text = ' '.join(lemmatizer.lemmatize(word) for word in text.split())\n",
        "    return text\n",
        "\n",
        "example_text = \"This is an Example! Text, with some punctuation. And numbers 12345. Visit https://example.com\"\n",
        "normalized_text = final_normalization_english(example_text,\n",
        "                                         normalize_unicode_flag=True,\n",
        "                                         to_lowercase_flag=True,\n",
        "                                         remove_punctuation_flag=True,\n",
        "                                         remove_digits_flag=True,\n",
        "                                         remove_extra_whitespace_flag=True,\n",
        "                                         remove_stopwords_flag=True,\n",
        "                                         remove_urls_flag=True,\n",
        "                                         remove_html_tags_flag=True,\n",
        "                                         remove_special_characters_flag=True,\n",
        "                                         remove_accented_characters_flag=True,\n",
        "                                         stem_flag=True,\n",
        "                                         lemmatize_flag=True)\n",
        "print(normalized_text)  # Output: \"exampl text punctuation number visit\""
      ],
      "metadata": {
        "colab": {
          "base_uri": "https://localhost:8080/"
        },
        "id": "zISxh3V7kSEL",
        "outputId": "aaeb621c-d7f4-42f8-f9e4-a53c3a893bb1"
      },
      "execution_count": 5,
      "outputs": [
        {
          "output_type": "stream",
          "name": "stderr",
          "text": [
            "[nltk_data] Downloading package stopwords to /root/nltk_data...\n",
            "[nltk_data]   Package stopwords is already up-to-date!\n",
            "[nltk_data] Downloading package wordnet to /root/nltk_data...\n"
          ]
        },
        {
          "output_type": "stream",
          "name": "stdout",
          "text": [
            "exampl text punctuat number visit\n"
          ]
        }
      ]
    },
    {
      "cell_type": "markdown",
      "source": [
        "# **Metrics**"
      ],
      "metadata": {
        "id": "gUTpKYfxJnjD"
      }
    },
    {
      "cell_type": "markdown",
      "source": [
        "Functions to calculate all necessary metrics for multiclass classification and aggregating metrics in cross validation"
      ],
      "metadata": {
        "id": "NffXsR6xoANn"
      }
    },
    {
      "cell_type": "code",
      "source": [
        "import numpy as np\n",
        "import pandas as pd\n",
        "import matplotlib.pyplot as plt\n",
        "from sklearn.metrics import f1_score, accuracy_score, precision_score, recall_score, confusion_matrix\n",
        "import seaborn as sns\n",
        "import math\n",
        "\n",
        "\n",
        "def calculate_average(numbers):\n",
        "    if not numbers:\n",
        "        return None\n",
        "    return sum(numbers) / len(numbers)\n",
        "\n",
        "\n",
        "def calculate_standard_deviation(numbers):\n",
        "    if not numbers:\n",
        "        return None\n",
        "    avg = calculate_average(numbers)\n",
        "    variance = sum((x - avg) ** 2 for x in numbers) / len(numbers)\n",
        "    return math.sqrt(variance)\n",
        "\n",
        "\n",
        "\n",
        "def f1_macro(true_labels, predicted_labels):\n",
        "    return f1_score(true_labels, predicted_labels, average='macro')\n",
        "\n",
        "def f1_micro(true_labels, predicted_labels):\n",
        "    return f1_score(true_labels, predicted_labels, average='micro')\n",
        "\n",
        "def accuracy(true_labels, predicted_labels):\n",
        "    return accuracy_score(true_labels, predicted_labels)\n",
        "\n",
        "def precision(true_labels, predicted_labels):\n",
        "    return precision_score(true_labels, predicted_labels, average='macro')\n",
        "\n",
        "def recall(true_labels, predicted_labels):\n",
        "    return recall_score(true_labels, predicted_labels, average='macro')\n",
        "\n",
        "def plot_confusion_matrix(true_labels, predicted_labels, class_names):\n",
        "    cm = confusion_matrix(true_labels, predicted_labels)\n",
        "    plt.figure(figsize=(10, 7))\n",
        "    sns.heatmap(cm, annot=True, fmt='d', cmap='Blues', xticklabels=class_names, yticklabels=class_names)\n",
        "    plt.xlabel('Predicted Labels')\n",
        "    plt.ylabel('True Labels')\n",
        "    plt.title('Confusion Matrix')\n",
        "    plt.show()\n",
        "\n",
        "if __name__ == \"__main__\":\n",
        "    true_labels = [0, 1, 2, 0, 1, 2]\n",
        "    predicted_labels = [0, 2, 1, 0, 0, 1]\n",
        "    class_names = ['Class 0', 'Class 1', 'Class 2']\n",
        "\n",
        "    print(\"F1 Macro:\", f1_macro(true_labels, predicted_labels))\n",
        "    print(\"F1 Micro:\", f1_micro(true_labels, predicted_labels))\n",
        "    print(\"Accuracy:\", accuracy(true_labels, predicted_labels))\n",
        "    print(\"Precision:\", precision(true_labels, predicted_labels))\n",
        "    print(\"Recall:\", recall(true_labels, predicted_labels))\n",
        "\n",
        "    plot_confusion_matrix(true_labels, predicted_labels, class_names)"
      ],
      "metadata": {
        "colab": {
          "base_uri": "https://localhost:8080/",
          "height": 0
        },
        "id": "1t_KQ0syn0uG",
        "outputId": "3ae07edf-7cd4-4707-99e3-a7deee5a28bd"
      },
      "execution_count": 6,
      "outputs": [
        {
          "output_type": "stream",
          "name": "stdout",
          "text": [
            "F1 Macro: 0.26666666666666666\n",
            "F1 Micro: 0.3333333333333333\n",
            "Accuracy: 0.3333333333333333\n",
            "Precision: 0.2222222222222222\n",
            "Recall: 0.3333333333333333\n"
          ]
        },
        {
          "output_type": "display_data",
          "data": {
            "text/plain": [
              "<Figure size 1000x700 with 2 Axes>"
            ],
            "image/png": "[encoded data removed]"
          },
          "metadata": {}
        }
      ]
    },
    {
      "cell_type": "markdown",
      "source": [
        "# **Token Classification English Data Preparation**"
      ],
      "metadata": {
        "id": "Jcw4JVl6o6r2"
      }
    },
    {
      "cell_type": "code",
      "source": [
        "from datasets import load_dataset\n",
        "\n",
        "dataset = load_dataset('conll2003')\n",
        "label_names = dataset['train'].features['ner_tags'].feature.names\n",
        "\n",
        "train_dataset = dataset['train']\n",
        "val_dataset = dataset['validation']\n",
        "test_dataset = dataset['test']\n",
        "\n",
        "total_len= len(train_dataset) + len(val_dataset) + len(test_dataset)\n",
        "\n",
        "train_percentage = (len(train_dataset) / total_len ) * 100\n",
        "val_percentage = (len(val_dataset) / total_len ) * 100\n",
        "test_percentage = (len(test_dataset) / total_len ) * 100\n",
        "\n",
        "print(f\"Train Percentage: {train_percentage:.2f}%\")\n",
        "print(f\"Validation Percentage: {val_percentage:.2f}%\")\n",
        "print(f\"Test Percentage: {test_percentage:.2f}%\")"
      ],
      "metadata": {
        "colab": {
          "base_uri": "https://localhost:8080/"
        },
        "id": "_AcEj2vVqk8n",
        "outputId": "95e70af8-7d27-4e30-9208-fbf761e5b85e"
      },
      "execution_count": 8,
      "outputs": [
        {
          "output_type": "stream",
          "name": "stdout",
          "text": [
            "Train Percentage: 67.69%\n",
            "Validation Percentage: 15.67%\n",
            "Test Percentage: 16.65%\n"
          ]
        }
      ]
    },
    {
      "cell_type": "code",
      "source": [
        "label_names"
      ],
      "metadata": {
        "colab": {
          "base_uri": "https://localhost:8080/"
        },
        "id": "YxU01IXOQ0hL",
        "outputId": "54de21e4-acb5-42c8-b36a-e27c605c4b91"
      },
      "execution_count": 9,
      "outputs": [
        {
          "output_type": "execute_result",
          "data": {
            "text/plain": [
              "['O', 'B-PER', 'I-PER', 'B-ORG', 'I-ORG', 'B-LOC', 'I-LOC', 'B-MISC', 'I-MISC']"
            ]
          },
          "metadata": {},
          "execution_count": 9
        }
      ]
    },
    {
      "cell_type": "code",
      "source": [
        "def prepare_conll_data(dataset):\n",
        "    sentences = [example['tokens'] for example in dataset]\n",
        "    labels = [example['ner_tags'] for example in dataset]\n",
        "    return sentences, labels\n",
        "\n",
        "\n",
        "train_sentences, train_labels = prepare_conll_data(train_dataset)\n",
        "valid_sentences, valid_labels = prepare_conll_data(val_dataset)\n",
        "test_sentences, test_labels = prepare_conll_data(test_dataset)\n",
        "\n",
        "print(\"Training sentences:\", train_sentences[:3])\n",
        "print(\"Training labels:\", train_labels[:3])"
      ],
      "metadata": {
        "colab": {
          "base_uri": "https://localhost:8080/"
        },
        "id": "rtEBM2qys1yt",
        "outputId": "5a565a27-80ea-42d6-ea7c-effe3cf0c481"
      },
      "execution_count": 10,
      "outputs": [
        {
          "output_type": "stream",
          "name": "stdout",
          "text": [
            "Training sentences: [['EU', 'rejects', 'German', 'call', 'to', 'boycott', 'British', 'lamb', '.'], ['Peter', 'Blackburn'], ['BRUSSELS', '1996-08-22']]\n",
            "Training labels: [[3, 0, 7, 0, 0, 0, 7, 0, 0], [1, 2], [5, 0]]\n"
          ]
        }
      ]
    },
    {
      "cell_type": "code",
      "source": [
        "counter_dict = {}\n",
        "stop_words = set(stopwords.words('english'))\n",
        "\n",
        "def ner_statistics(sentences_list, label_list):\n",
        "    global counter_dict, stop_words\n",
        "    for i in range(len(label_list)):\n",
        "        current_sentence = sentences_list[i]\n",
        "        current_label_list = label_list[i]\n",
        "        for j in range(len(current_label_list)):\n",
        "            current_token = current_sentence[j]\n",
        "            current_label = current_label_list[j]\n",
        "            if current_token not in stop_words and current_token not in string.punctuation:\n",
        "                if current_label not in counter_dict.keys():\n",
        "                    counter_dict[current_label] = 0\n",
        "                counter_dict[current_label] += 1\n",
        "\n",
        "ner_statistics(train_sentences, train_labels)\n",
        "ner_statistics(valid_sentences, valid_labels)\n",
        "ner_statistics(test_sentences, test_labels)\n",
        "print(counter_dict)"
      ],
      "metadata": {
        "colab": {
          "base_uri": "https://localhost:8080/"
        },
        "id": "69NN5M0QJi1U",
        "outputId": "80e9e7d8-c7af-498e-f91c-3d9b6a096bd2"
      },
      "execution_count": 11,
      "outputs": [
        {
          "output_type": "stream",
          "name": "stdout",
          "text": [
            "{3: 9322, 0: 139920, 7: 5062, 1: 10057, 2: 6974, 5: 10645, 4: 4877, 8: 1627, 6: 1639}\n"
          ]
        }
      ]
    },
    {
      "cell_type": "code",
      "source": [
        "stop_words = set(stopwords.words('english'))\n",
        "\n",
        "def delete_stopwords_and_punctuations(sentences_list, label_list):\n",
        "    global stop_words\n",
        "    new_sentence_list = list()\n",
        "    new_label_list = list()\n",
        "    for i in range(len(label_list)):\n",
        "        current_sentence = sentences_list[i]\n",
        "        current_label_list = label_list[i]\n",
        "        new_current_sentence = list()\n",
        "        new_current_label_list = list()\n",
        "        for j in range(len(current_label_list)):\n",
        "            current_token = current_sentence[j]\n",
        "            current_label = current_label_list[j]\n",
        "            if current_token not in stop_words and current_token not in string.punctuation:\n",
        "                new_current_sentence.append(current_token.lower())\n",
        "                new_current_label_list.append(current_label)\n",
        "        new_sentence_list.append(new_current_sentence)\n",
        "        new_label_list.append(new_current_label_list)\n",
        "    return new_sentence_list, new_label_list\n",
        "\n",
        "new_train_sentences, new_train_labels = delete_stopwords_and_punctuations(train_sentences, train_labels)\n",
        "new_valid_sentences, new_valid_labels = delete_stopwords_and_punctuations(valid_sentences, valid_labels)\n",
        "new_test_sentences, new_test_labels = delete_stopwords_and_punctuations(test_sentences, test_labels)"
      ],
      "metadata": {
        "id": "2Q1IpdyYUpDS"
      },
      "execution_count": 12,
      "outputs": []
    },
    {
      "cell_type": "code",
      "source": [
        "print(\"Training sentences:\", new_train_sentences[:3])\n",
        "print(\"Training labels:\", new_train_labels[:3])"
      ],
      "metadata": {
        "colab": {
          "base_uri": "https://localhost:8080/"
        },
        "id": "43ZDcXKUVvqS",
        "outputId": "f39f5a32-e421-4e62-d974-69f733295985"
      },
      "execution_count": 13,
      "outputs": [
        {
          "output_type": "stream",
          "name": "stdout",
          "text": [
            "Training sentences: [['eu', 'rejects', 'german', 'call', 'boycott', 'british', 'lamb'], ['peter', 'blackburn'], ['brussels', '1996-08-22']]\n",
            "Training labels: [[3, 0, 7, 0, 0, 7, 0], [1, 2], [5, 0]]\n"
          ]
        }
      ]
    },
    {
      "cell_type": "markdown",
      "source": [
        "# **English Token Classification**"
      ],
      "metadata": {
        "id": "BN1x-iTviEhh"
      }
    },
    {
      "cell_type": "code",
      "source": [
        "import pandas as pd\n",
        "from tensorflow import keras\n",
        "import numpy as np"
      ],
      "metadata": {
        "id": "8Auq4gdfiG74"
      },
      "execution_count": 14,
      "outputs": []
    },
    {
      "cell_type": "code",
      "source": [
        "sentences = [item for sublist in new_train_sentences for item in sublist]\n",
        "labels = [label_names[item] for sublist in new_train_labels for item in sublist]\n",
        "\n",
        "sentence_markers = []\n",
        "sentence_counter = 1\n",
        "for sublist in new_train_sentences:\n",
        "    if len(sublist) != len([f\"Sentence: {sentence_counter}\"] + [np.nan] * (len(sublist) - 1)):\n",
        "        continue\n",
        "    sentence_markers.extend([f\"Sentence: {sentence_counter}\"] + [np.nan] * (len(sublist) - 1))\n",
        "    sentence_counter += 1\n",
        "\n",
        "df = pd.DataFrame({\n",
        "    'Sentence #': sentence_markers,\n",
        "    'Word': sentences,\n",
        "    'POS': [np.nan] * len(sentences),\n",
        "    'Tag': labels\n",
        "})\n",
        "\n",
        "print(df)"
      ],
      "metadata": {
        "colab": {
          "base_uri": "https://localhost:8080/"
        },
        "id": "C7s7ly9_pPVJ",
        "outputId": "68e7e762-e6d7-43db-927a-cca07223bbb1"
      },
      "execution_count": 15,
      "outputs": [
        {
          "output_type": "stream",
          "name": "stdout",
          "text": [
            "             Sentence #     Word  POS     Tag\n",
            "0           Sentence: 1       eu  NaN   B-ORG\n",
            "1                   NaN  rejects  NaN       O\n",
            "2                   NaN   german  NaN  B-MISC\n",
            "3                   NaN     call  NaN       O\n",
            "4                   NaN  boycott  NaN       O\n",
            "...                 ...      ...  ...     ...\n",
            "128217              NaN    three  NaN       O\n",
            "128218  Sentence: 14018  swansea  NaN   B-ORG\n",
            "128219              NaN        1  NaN       O\n",
            "128220              NaN  lincoln  NaN   B-ORG\n",
            "128221              NaN        2  NaN       O\n",
            "\n",
            "[128222 rows x 4 columns]\n"
          ]
        }
      ]
    },
    {
      "cell_type": "code",
      "source": [
        "tags = df.Tag.unique()\n",
        "tags"
      ],
      "metadata": {
        "colab": {
          "base_uri": "https://localhost:8080/"
        },
        "id": "dv3B15XjsmvX",
        "outputId": "d713ad3c-2051-4612-94fa-e5e53eeb4258"
      },
      "execution_count": 16,
      "outputs": [
        {
          "output_type": "execute_result",
          "data": {
            "text/plain": [
              "array(['B-ORG', 'O', 'B-MISC', 'B-PER', 'I-PER', 'B-LOC', 'I-ORG',\n",
              "       'I-MISC', 'I-LOC'], dtype=object)"
            ]
          },
          "metadata": {},
          "execution_count": 16
        }
      ]
    },
    {
      "cell_type": "code",
      "source": [
        "id2tag = dict(enumerate(tags))\n",
        "tag2id = { v : k for k,v in id2tag.items() }\n",
        "\n",
        "id2tag[0]"
      ],
      "metadata": {
        "colab": {
          "base_uri": "https://localhost:8080/",
          "height": 36
        },
        "id": "42MJsN_Oso3A",
        "outputId": "a11d5db3-341f-4d89-b571-66e8fc00b93c"
      },
      "execution_count": 17,
      "outputs": [
        {
          "output_type": "execute_result",
          "data": {
            "text/plain": [
              "'B-ORG'"
            ],
            "application/vnd.google.colaboratory.intrinsic+json": {
              "type": "string"
            }
          },
          "metadata": {},
          "execution_count": 17
        }
      ]
    },
    {
      "cell_type": "code",
      "source": [
        "vocab = set(df['Word'].apply(lambda x: x.lower()))\n",
        "id2word = { i+1 : v for i,v in enumerate(vocab) }\n",
        "id2word[0] = '<UNK>'\n",
        "vocab.add('<UNK>')\n",
        "word2id = { v : k for k,v in id2word.items() }"
      ],
      "metadata": {
        "id": "hgdQFNPEsyZv"
      },
      "execution_count": 18,
      "outputs": []
    },
    {
      "cell_type": "code",
      "source": [
        "X,Y = [],[]\n",
        "s,t = [],[]\n",
        "for i,row in df[['Sentence #','Word','Tag']].iterrows():\n",
        "    if pd.isna(row['Sentence #']):\n",
        "        s.append(row['Word'])\n",
        "        t.append(row['Tag'])\n",
        "    else:\n",
        "        if len(s)>0:\n",
        "            X.append(s)\n",
        "            Y.append(t)\n",
        "        s,t = [row['Word']],[row['Tag']]\n",
        "X.append(s)\n",
        "Y.append(t)"
      ],
      "metadata": {
        "id": "8npYQcHLs7mP"
      },
      "execution_count": 19,
      "outputs": []
    },
    {
      "cell_type": "code",
      "source": [
        "def vectorize(seq):\n",
        "    return [word2id[x.lower()] for x in seq]\n",
        "\n",
        "def tagify(seq):\n",
        "    return [tag2id[x] for x in seq]\n",
        "\n",
        "Xv = list(map(vectorize,X))\n",
        "Yv = list(map(tagify,Y))\n",
        "\n",
        "Xv[0], Yv[0]"
      ],
      "metadata": {
        "colab": {
          "base_uri": "https://localhost:8080/"
        },
        "id": "FH3BYJKUusl3",
        "outputId": "c0bf9049-c374-4615-d8b8-71c78d606714"
      },
      "execution_count": 20,
      "outputs": [
        {
          "output_type": "execute_result",
          "data": {
            "text/plain": [
              "([10445, 2764, 14429, 17907, 13538, 13281, 12816], [0, 1, 2, 1, 1, 2, 1])"
            ]
          },
          "metadata": {},
          "execution_count": 20
        }
      ]
    },
    {
      "cell_type": "code",
      "source": [
        "X_data = keras.preprocessing.sequence.pad_sequences(Xv,padding='post')\n",
        "Y_data = keras.preprocessing.sequence.pad_sequences(Yv,padding='post')"
      ],
      "metadata": {
        "id": "skeKsXG6u3lX"
      },
      "execution_count": 21,
      "outputs": []
    },
    {
      "cell_type": "code",
      "source": [
        "maxlen = X_data.shape[1]\n",
        "vocab_size = len(vocab)\n",
        "num_tags = len(tags)\n",
        "model = keras.models.Sequential([\n",
        "    keras.layers.Embedding(vocab_size, 300, input_length=maxlen),\n",
        "    keras.layers.Bidirectional(keras.layers.LSTM(units=100, activation='tanh', return_sequences=True)),\n",
        "    keras.layers.Bidirectional(keras.layers.LSTM(units=100, activation='tanh', return_sequences=True)),\n",
        "    keras.layers.TimeDistributed(keras.layers.Dense(num_tags, activation='softmax'))\n",
        "])\n",
        "model.compile(loss='sparse_categorical_crossentropy',optimizer='adam',metrics=['acc'])\n",
        "model.summary()"
      ],
      "metadata": {
        "colab": {
          "base_uri": "https://localhost:8080/"
        },
        "id": "Xp6jnXhxu5zW",
        "outputId": "d6e97740-04b5-4493-c5ce-a8ad962e69c2"
      },
      "execution_count": 22,
      "outputs": [
        {
          "output_type": "stream",
          "name": "stdout",
          "text": [
            "Model: \"sequential\"\n",
            "_________________________________________________________________\n",
            " Layer (type)                Output Shape              Param #   \n",
            "=================================================================\n",
            " embedding (Embedding)       (None, 73, 300)           6288000   \n",
            "                                                                 \n",
            " bidirectional (Bidirection  (None, 73, 200)           320800    \n",
            " al)                                                             \n",
            "                                                                 \n",
            " bidirectional_1 (Bidirecti  (None, 73, 200)           240800    \n",
            " onal)                                                           \n",
            "                                                                 \n",
            " time_distributed (TimeDist  (None, 73, 9)             1809      \n",
            " ributed)                                                        \n",
            "                                                                 \n",
            "=================================================================\n",
            "Total params: 6851409 (26.14 MB)\n",
            "Trainable params: 6851409 (26.14 MB)\n",
            "Non-trainable params: 0 (0.00 Byte)\n",
            "_________________________________________________________________\n"
          ]
        }
      ]
    },
    {
      "cell_type": "code",
      "source": [
        "model.fit(X_data,Y_data)"
      ],
      "metadata": {
        "colab": {
          "base_uri": "https://localhost:8080/"
        },
        "id": "G-2rVzfBu_gv",
        "outputId": "80e37127-d625-4c93-f66f-a25937ed2f7d"
      },
      "execution_count": 23,
      "outputs": [
        {
          "output_type": "stream",
          "name": "stdout",
          "text": [
            "439/439 [==============================] - 256s 564ms/step - loss: 0.1322 - acc: 0.9657\n"
          ]
        },
        {
          "output_type": "execute_result",
          "data": {
            "text/plain": [
              "<keras.src.callbacks.History at 0x7a9d1c8e51e0>"
            ]
          },
          "metadata": {},
          "execution_count": 23
        }
      ]
    },
    {
      "cell_type": "code",
      "source": [
        "sent = ' '.join(new_test_sentences[9])\n",
        "words = sent.lower().split()\n",
        "v = keras.preprocessing.sequence.pad_sequences([[word2id[x] for x in words]],padding='post',maxlen=maxlen)\n",
        "res = model(v)[0]\n",
        "r = np.argmax(res.numpy(),axis=1)\n",
        "for i,w in zip(r,words):\n",
        "    print(f\"{w} -> {id2tag[i]}\")"
      ],
      "metadata": {
        "colab": {
          "base_uri": "https://localhost:8080/"
        },
        "id": "Zkebso0JxkcH",
        "outputId": "4e8a93cb-f1d4-463c-e527-40c3a2d01ebd"
      },
      "execution_count": 24,
      "outputs": [
        {
          "output_type": "stream",
          "name": "stdout",
          "text": [
            "two -> O\n",
            "goals -> O\n",
            "defensive -> O\n",
            "errors -> O\n",
            "last -> O\n",
            "six -> O\n",
            "minutes -> O\n",
            "allowed -> O\n",
            "japan -> B-LOC\n",
            "come -> O\n",
            "behind -> O\n",
            "collect -> O\n",
            "three -> O\n",
            "points -> O\n",
            "opening -> O\n",
            "meeting -> O\n",
            "syria -> B-LOC\n"
          ]
        }
      ]
    },
    {
      "cell_type": "code",
      "source": [
        "from tqdm import tqdm\n",
        "\n",
        "final_true_labels = list()\n",
        "final_predicted_labels = list()\n",
        "\n",
        "for i in tqdm(range(len(new_test_sentences))):\n",
        "    try:\n",
        "        sent = ' '.join(new_test_sentences[i])\n",
        "        words = sent.lower().split()\n",
        "        v = keras.preprocessing.sequence.pad_sequences([[word2id[x] for x in words]],padding='post',maxlen=maxlen)\n",
        "        res = model(v)[0]\n",
        "        r = np.argmax(res.numpy(),axis=1)\n",
        "        true_labels = [label_names[k] for k in new_test_labels[i]]\n",
        "        predicted_labels = list()\n",
        "        for i,w in zip(r,words):\n",
        "            predicted_labels.append(id2tag[i])\n",
        "        final_true_labels += [label_names.index(k) for k in true_labels]\n",
        "        final_predicted_labels += [label_names.index(k) for k in predicted_labels]\n",
        "    except:\n",
        "        pass"
      ],
      "metadata": {
        "colab": {
          "base_uri": "https://localhost:8080/"
        },
        "id": "7KDXfPObCAH8",
        "outputId": "b479da99-f5bc-4882-8c5c-0c385163b885"
      },
      "execution_count": 25,
      "outputs": [
        {
          "output_type": "stream",
          "name": "stderr",
          "text": [
            "100%|██████████| 3453/3453 [11:13<00:00,  5.13it/s]\n"
          ]
        }
      ]
    },
    {
      "cell_type": "code",
      "source": [
        "true_labels = final_true_labels\n",
        "predicted_labels = final_predicted_labels\n",
        "class_names = label_names\n",
        "\n",
        "print(\"F1 Macro:\", f1_macro(true_labels, predicted_labels))\n",
        "print(\"F1 Micro:\", f1_micro(true_labels, predicted_labels))\n",
        "print(\"Accuracy:\", accuracy(true_labels, predicted_labels))\n",
        "print(\"Precision:\", precision(true_labels, predicted_labels))\n",
        "print(\"Recall:\", recall(true_labels, predicted_labels))\n",
        "\n",
        "plot_confusion_matrix(true_labels, predicted_labels, class_names)"
      ],
      "metadata": {
        "colab": {
          "base_uri": "https://localhost:8080/",
          "height": 782
        },
        "id": "-gN7Zuc_ImcE",
        "outputId": "e2aa13c4-152d-489c-f9d6-1e23e43061ac"
      },
      "execution_count": 26,
      "outputs": [
        {
          "output_type": "stream",
          "name": "stdout",
          "text": [
            "F1 Macro: 0.4813800885343568\n",
            "F1 Micro: 0.8981030504998718\n",
            "Accuracy: 0.8981030504998718\n",
            "Precision: 0.5469466561963895\n",
            "Recall: 0.4677141174758838\n"
          ]
        },
        {
          "output_type": "stream",
          "name": "stderr",
          "text": [
            "/usr/local/lib/python3.10/dist-packages/sklearn/metrics/_classification.py:1344: UndefinedMetricWarning: Precision is ill-defined and being set to 0.0 in labels with no predicted samples. Use `zero_division` parameter to control this behavior.\n",
            "  _warn_prf(average, modifier, msg_start, len(result))\n"
          ]
        },
        {
          "output_type": "display_data",
          "data": {
            "text/plain": [
              "<Figure size 1000x700 with 2 Axes>"
            ],
            "image/png": "[encoded data removed]"
          },
          "metadata": {}
        }
      ]
    },
    {
      "cell_type": "markdown",
      "source": [
        "movie names"
      ],
      "metadata": {
        "id": "AufZakxBbV_O"
      }
    },
    {
      "cell_type": "code",
      "source": [
        "movie_names = [\n",
        "    (\"Captain America\", \"O B-LOC\"),\n",
        "    (\"The Last King of Scotland\", \"O O O O B-LOC\"),\n",
        "    (\"Madagascar\", \"B-LOC\"),\n",
        "    (\"The Lion King\", \"O O O\"),\n",
        "    (\"Good Morning China\", \"O O B-LOC\"),\n",
        "    (\"The Philadelphia Story\", \"O B-LOC O\"),\n",
        "    (\"Midnight in Paris\", \"O O B-LOC\"),\n",
        "    (\"John Jones\", \"B-PER I-PER\"),\n",
        "    (\"The Prince of Egypt\", \"O O O B-LOC\"),\n",
        "    (\"The Wolf of Wall Street\", \"O O O B-LOC I-LOC\")\n",
        "]"
      ],
      "metadata": {
        "id": "8YsDFi_ObYX2"
      },
      "execution_count": 93,
      "outputs": []
    },
    {
      "cell_type": "code",
      "source": [
        "for name in movie_names:\n",
        "    sent = name[0]\n",
        "    words = sent.lower().split()\n",
        "    v = keras.preprocessing.sequence.pad_sequences([[word2id[x] for x in words]],padding='post',maxlen=maxlen)\n",
        "    res = model(v)[0]\n",
        "    r = np.argmax(res.numpy(),axis=1)\n",
        "    for i,w in zip(r,words):\n",
        "        print(f\"{w} -> {id2tag[i]}\")\n",
        "    print(name[1])\n",
        "    print(\"-\" * 30)"
      ],
      "metadata": {
        "colab": {
          "base_uri": "https://localhost:8080/"
        },
        "id": "v97WAk0FbXvO",
        "outputId": "14561b80-1aa0-49fd-d9c3-95a7a465f190"
      },
      "execution_count": 94,
      "outputs": [
        {
          "output_type": "stream",
          "name": "stdout",
          "text": [
            "captain -> O\n",
            "america -> B-ORG\n",
            "O B-LOC\n",
            "------------------------------\n",
            "the -> O\n",
            "last -> O\n",
            "king -> O\n",
            "of -> O\n",
            "scotland -> B-LOC\n",
            "O O O O B-LOC\n",
            "------------------------------\n",
            "madagascar -> B-ORG\n",
            "B-LOC\n",
            "------------------------------\n",
            "the -> O\n",
            "lion -> O\n",
            "king -> O\n",
            "O O O\n",
            "------------------------------\n",
            "good -> O\n",
            "morning -> O\n",
            "china -> B-ORG\n",
            "O O B-LOC\n",
            "------------------------------\n",
            "the -> O\n",
            "philadelphia -> B-ORG\n",
            "story -> O\n",
            "O B-LOC O\n",
            "------------------------------\n",
            "midnight -> O\n",
            "in -> O\n",
            "paris -> B-LOC\n",
            "O O B-LOC\n",
            "------------------------------\n",
            "john -> B-LOC\n",
            "jones -> I-PER\n",
            "B-PER I-PER\n",
            "------------------------------\n",
            "the -> O\n",
            "prince -> B-LOC\n",
            "of -> O\n",
            "egypt -> B-LOC\n",
            "O O O B-LOC\n",
            "------------------------------\n",
            "the -> O\n",
            "wolf -> B-PER\n",
            "of -> O\n",
            "wall -> B-LOC\n",
            "street -> O\n",
            "O O O B-LOC I-LOC\n",
            "------------------------------\n"
          ]
        }
      ]
    },
    {
      "cell_type": "markdown",
      "source": [
        "# **Token Classification Persian Data Preparation**"
      ],
      "metadata": {
        "id": "GR5HNJ9QvoHI"
      }
    },
    {
      "cell_type": "code",
      "source": [
        "!unzip arman.zip"
      ],
      "metadata": {
        "id": "L_b58EckvvRK"
      },
      "execution_count": null,
      "outputs": []
    },
    {
      "cell_type": "markdown",
      "source": [
        "don't forget to test word classification on 10 persian and 10 english film names"
      ],
      "metadata": {
        "id": "BgeYCEt_va26"
      }
    },
    {
      "cell_type": "code",
      "source": [
        "def read_tokens_and_labels(tokens_file_path, labels_file_path):\n",
        "    sentences = []\n",
        "    labels = []\n",
        "\n",
        "    with open(tokens_file_path, 'r', encoding='utf-8', errors='replace') as tokens_file, \\\n",
        "         open(labels_file_path, 'r', encoding='utf-8', errors='replace') as labels_file:\n",
        "\n",
        "        token_lines = tokens_file.readlines()\n",
        "        label_lines = labels_file.readlines()\n",
        "\n",
        "        assert len(token_lines) == len(label_lines), \"Files must have the same number of lines.\"\n",
        "\n",
        "        for token_line, label_line in zip(token_lines, label_lines):\n",
        "            tokens = token_line.strip().split()\n",
        "            labels_ = label_line.strip().split()\n",
        "\n",
        "            assert len(tokens) == len(labels_), \"Each line must have the same number of tokens and labels.\"\n",
        "\n",
        "            sentences.append(tokens)\n",
        "            labels.append(labels_)\n",
        "\n",
        "    flat_tokens = [token for sentence in sentences for token in sentence]\n",
        "    flat_labels = [label for label_list in labels for label in label_list]\n",
        "\n",
        "    df = pd.DataFrame({'Token': flat_tokens, 'Label': flat_labels})\n",
        "\n",
        "    return df, sentences, labels\n",
        "\n",
        "\n",
        "tokens_file_path = 'arman-tokens.txt'\n",
        "labels_file_path = 'arman-labels.txt'\n",
        "df, sentences, labels = read_tokens_and_labels(tokens_file_path, labels_file_path)"
      ],
      "metadata": {
        "id": "MUQJs_j2rmUQ"
      },
      "execution_count": 98,
      "outputs": []
    },
    {
      "cell_type": "code",
      "source": [
        "df.head(20)"
      ],
      "metadata": {
        "colab": {
          "base_uri": "https://localhost:8080/",
          "height": 676
        },
        "id": "3mTq-IWXOdAz",
        "outputId": "4389621f-033c-40c7-efd0-b98dae0b29c1"
      },
      "execution_count": 99,
      "outputs": [
        {
          "output_type": "execute_result",
          "data": {
            "text/plain": [
              "        Token  Label\n",
              "0        افقی      O\n",
              "1           :      O\n",
              "2           0      O\n",
              "3           ـ      O\n",
              "4          از      O\n",
              "5       عوامل      O\n",
              "6       دوران      O\n",
              "7       پهلوی      O\n",
              "8           و      O\n",
              "9   نخست‌وزیر      O\n",
              "10      ایران  B-loc\n",
              "11         در      O\n",
              "12     سالهای      O\n",
              "13    ابتدائی      O\n",
              "14        دهه      O\n",
              "15        چهل      O\n",
              "16    خورشیدی      O\n",
              "17         كه      O\n",
              "18        جلد      O\n",
              "19        سوم      O"
            ],
            "text/html": [
              "\n",
              "  <div id=\"df-96ef0fbe-5b9e-47ff-97a6-cd9f59931268\" class=\"colab-df-container\">\n",
              "    <div>\n",
              "<style scoped>\n",
              "    .dataframe tbody tr th:only-of-type {\n",
              "        vertical-align: middle;\n",
              "    }\n",
              "\n",
              "    .dataframe tbody tr th {\n",
              "        vertical-align: top;\n",
              "    }\n",
              "\n",
              "    .dataframe thead th {\n",
              "        text-align: right;\n",
              "    }\n",
              "</style>\n",
              "<table border=\"1\" class=\"dataframe\">\n",
              "  <thead>\n",
              "    <tr style=\"text-align: right;\">\n",
              "      <th></th>\n",
              "      <th>Token</th>\n",
              "      <th>Label</th>\n",
              "    </tr>\n",
              "  </thead>\n",
              "  <tbody>\n",
              "    <tr>\n",
              "      <th>0</th>\n",
              "      <td>افقی</td>\n",
              "      <td>O</td>\n",
              "    </tr>\n",
              "    <tr>\n",
              "      <th>1</th>\n",
              "      <td>:</td>\n",
              "      <td>O</td>\n",
              "    </tr>\n",
              "    <tr>\n",
              "      <th>2</th>\n",
              "      <td>0</td>\n",
              "      <td>O</td>\n",
              "    </tr>\n",
              "    <tr>\n",
              "      <th>3</th>\n",
              "      <td>ـ</td>\n",
              "      <td>O</td>\n",
              "    </tr>\n",
              "    <tr>\n",
              "      <th>4</th>\n",
              "      <td>از</td>\n",
              "      <td>O</td>\n",
              "    </tr>\n",
              "    <tr>\n",
              "      <th>5</th>\n",
              "      <td>عوامل</td>\n",
              "      <td>O</td>\n",
              "    </tr>\n",
              "    <tr>\n",
              "      <th>6</th>\n",
              "      <td>دوران</td>\n",
              "      <td>O</td>\n",
              "    </tr>\n",
              "    <tr>\n",
              "      <th>7</th>\n",
              "      <td>پهلوی</td>\n",
              "      <td>O</td>\n",
              "    </tr>\n",
              "    <tr>\n",
              "      <th>8</th>\n",
              "      <td>و</td>\n",
              "      <td>O</td>\n",
              "    </tr>\n",
              "    <tr>\n",
              "      <th>9</th>\n",
              "      <td>نخست‌وزیر</td>\n",
              "      <td>O</td>\n",
              "    </tr>\n",
              "    <tr>\n",
              "      <th>10</th>\n",
              "      <td>ایران</td>\n",
              "      <td>B-loc</td>\n",
              "    </tr>\n",
              "    <tr>\n",
              "      <th>11</th>\n",
              "      <td>در</td>\n",
              "      <td>O</td>\n",
              "    </tr>\n",
              "    <tr>\n",
              "      <th>12</th>\n",
              "      <td>سالهای</td>\n",
              "      <td>O</td>\n",
              "    </tr>\n",
              "    <tr>\n",
              "      <th>13</th>\n",
              "      <td>ابتدائی</td>\n",
              "      <td>O</td>\n",
              "    </tr>\n",
              "    <tr>\n",
              "      <th>14</th>\n",
              "      <td>دهه</td>\n",
              "      <td>O</td>\n",
              "    </tr>\n",
              "    <tr>\n",
              "      <th>15</th>\n",
              "      <td>چهل</td>\n",
              "      <td>O</td>\n",
              "    </tr>\n",
              "    <tr>\n",
              "      <th>16</th>\n",
              "      <td>خورشیدی</td>\n",
              "      <td>O</td>\n",
              "    </tr>\n",
              "    <tr>\n",
              "      <th>17</th>\n",
              "      <td>كه</td>\n",
              "      <td>O</td>\n",
              "    </tr>\n",
              "    <tr>\n",
              "      <th>18</th>\n",
              "      <td>جلد</td>\n",
              "      <td>O</td>\n",
              "    </tr>\n",
              "    <tr>\n",
              "      <th>19</th>\n",
              "      <td>سوم</td>\n",
              "      <td>O</td>\n",
              "    </tr>\n",
              "  </tbody>\n",
              "</table>\n",
              "</div>\n",
              "    <div class=\"colab-df-buttons\">\n",
              "\n",
              "  <div class=\"colab-df-container\">\n",
              "    <button class=\"colab-df-convert\" onclick=\"convertToInteractive('df-96ef0fbe-5b9e-47ff-97a6-cd9f59931268')\"\n",
              "            title=\"Convert this dataframe to an interactive table.\"\n",
              "            style=\"display:none;\">\n",
              "\n",
              "  <svg xmlns=\"http://www.w3.org/2000/svg\" height=\"24px\" viewBox=\"0 -960 960 960\">\n",
              "    <path d=\"M120-120v-720h720v720H120Zm60-500h600v-160H180v160Zm220 220h160v-160H400v160Zm0 220h160v-160H400v160ZM180-400h160v-160H180v160Zm440 0h160v-160H620v160ZM180-180h160v-160H180v160Zm440 0h160v-160H620v160Z\"/>\n",
              "  </svg>\n",
              "    </button>\n",
              "\n",
              "  <style>\n",
              "    .colab-df-container {\n",
              "      display:flex;\n",
              "      gap: 12px;\n",
              "    }\n",
              "\n",
              "    .colab-df-convert {\n",
              "      background-color: #E8F0FE;\n",
              "      border: none;\n",
              "      border-radius: 50%;\n",
              "      cursor: pointer;\n",
              "      display: none;\n",
              "      fill: #1967D2;\n",
              "      height: 32px;\n",
              "      padding: 0 0 0 0;\n",
              "      width: 32px;\n",
              "    }\n",
              "\n",
              "    .colab-df-convert:hover {\n",
              "      background-color: #E2EBFA;\n",
              "      box-shadow: 0px 1px 2px rgba(60, 64, 67, 0.3), 0px 1px 3px 1px rgba(60, 64, 67, 0.15);\n",
              "      fill: #174EA6;\n",
              "    }\n",
              "\n",
              "    .colab-df-buttons div {\n",
              "      margin-bottom: 4px;\n",
              "    }\n",
              "\n",
              "    [theme=dark] .colab-df-convert {\n",
              "      background-color: #3B4455;\n",
              "      fill: #D2E3FC;\n",
              "    }\n",
              "\n",
              "    [theme=dark] .colab-df-convert:hover {\n",
              "      background-color: #434B5C;\n",
              "      box-shadow: 0px 1px 3px 1px rgba(0, 0, 0, 0.15);\n",
              "      filter: drop-shadow(0px 1px 2px rgba(0, 0, 0, 0.3));\n",
              "      fill: #FFFFFF;\n",
              "    }\n",
              "  </style>\n",
              "\n",
              "    <script>\n",
              "      const buttonEl =\n",
              "        document.querySelector('#df-96ef0fbe-5b9e-47ff-97a6-cd9f59931268 button.colab-df-convert');\n",
              "      buttonEl.style.display =\n",
              "        google.colab.kernel.accessAllowed ? 'block' : 'none';\n",
              "\n",
              "      async function convertToInteractive(key) {\n",
              "        const element = document.querySelector('#df-96ef0fbe-5b9e-47ff-97a6-cd9f59931268');\n",
              "        const dataTable =\n",
              "          await google.colab.kernel.invokeFunction('convertToInteractive',\n",
              "                                                    [key], {});\n",
              "        if (!dataTable) return;\n",
              "\n",
              "        const docLinkHtml = 'Like what you see? Visit the ' +\n",
              "          '<a target=\"_blank\" href=https://colab.research.google.com/notebooks/data_table.ipynb>data table notebook</a>'\n",
              "          + ' to learn more about interactive tables.';\n",
              "        element.innerHTML = '';\n",
              "        dataTable['output_type'] = 'display_data';\n",
              "        await google.colab.output.renderOutput(dataTable, element);\n",
              "        const docLink = document.createElement('div');\n",
              "        docLink.innerHTML = docLinkHtml;\n",
              "        element.appendChild(docLink);\n",
              "      }\n",
              "    </script>\n",
              "  </div>\n",
              "\n",
              "\n",
              "<div id=\"df-7dc216f1-fd2b-467d-90df-e3242479200c\">\n",
              "  <button class=\"colab-df-quickchart\" onclick=\"quickchart('df-7dc216f1-fd2b-467d-90df-e3242479200c')\"\n",
              "            title=\"Suggest charts\"\n",
              "            style=\"display:none;\">\n",
              "\n",
              "<svg xmlns=\"http://www.w3.org/2000/svg\" height=\"24px\"viewBox=\"0 0 24 24\"\n",
              "     width=\"24px\">\n",
              "    <g>\n",
              "        <path d=\"M19 3H5c-1.1 0-2 .9-2 2v14c0 1.1.9 2 2 2h14c1.1 0 2-.9 2-2V5c0-1.1-.9-2-2-2zM9 17H7v-7h2v7zm4 0h-2V7h2v10zm4 0h-2v-4h2v4z\"/>\n",
              "    </g>\n",
              "</svg>\n",
              "  </button>\n",
              "\n",
              "<style>\n",
              "  .colab-df-quickchart {\n",
              "      --bg-color: #E8F0FE;\n",
              "      --fill-color: #1967D2;\n",
              "      --hover-bg-color: #E2EBFA;\n",
              "      --hover-fill-color: #174EA6;\n",
              "      --disabled-fill-color: #AAA;\n",
              "      --disabled-bg-color: #DDD;\n",
              "  }\n",
              "\n",
              "  [theme=dark] .colab-df-quickchart {\n",
              "      --bg-color: #3B4455;\n",
              "      --fill-color: #D2E3FC;\n",
              "      --hover-bg-color: #434B5C;\n",
              "      --hover-fill-color: #FFFFFF;\n",
              "      --disabled-bg-color: #3B4455;\n",
              "      --disabled-fill-color: #666;\n",
              "  }\n",
              "\n",
              "  .colab-df-quickchart {\n",
              "    background-color: var(--bg-color);\n",
              "    border: none;\n",
              "    border-radius: 50%;\n",
              "    cursor: pointer;\n",
              "    display: none;\n",
              "    fill: var(--fill-color);\n",
              "    height: 32px;\n",
              "    padding: 0;\n",
              "    width: 32px;\n",
              "  }\n",
              "\n",
              "  .colab-df-quickchart:hover {\n",
              "    background-color: var(--hover-bg-color);\n",
              "    box-shadow: 0 1px 2px rgba(60, 64, 67, 0.3), 0 1px 3px 1px rgba(60, 64, 67, 0.15);\n",
              "    fill: var(--button-hover-fill-color);\n",
              "  }\n",
              "\n",
              "  .colab-df-quickchart-complete:disabled,\n",
              "  .colab-df-quickchart-complete:disabled:hover {\n",
              "    background-color: var(--disabled-bg-color);\n",
              "    fill: var(--disabled-fill-color);\n",
              "    box-shadow: none;\n",
              "  }\n",
              "\n",
              "  .colab-df-spinner {\n",
              "    border: 2px solid var(--fill-color);\n",
              "    border-color: transparent;\n",
              "    border-bottom-color: var(--fill-color);\n",
              "    animation:\n",
              "      spin 1s steps(1) infinite;\n",
              "  }\n",
              "\n",
              "  @keyframes spin {\n",
              "    0% {\n",
              "      border-color: transparent;\n",
              "      border-bottom-color: var(--fill-color);\n",
              "      border-left-color: var(--fill-color);\n",
              "    }\n",
              "    20% {\n",
              "      border-color: transparent;\n",
              "      border-left-color: var(--fill-color);\n",
              "      border-top-color: var(--fill-color);\n",
              "    }\n",
              "    30% {\n",
              "      border-color: transparent;\n",
              "      border-left-color: var(--fill-color);\n",
              "      border-top-color: var(--fill-color);\n",
              "      border-right-color: var(--fill-color);\n",
              "    }\n",
              "    40% {\n",
              "      border-color: transparent;\n",
              "      border-right-color: var(--fill-color);\n",
              "      border-top-color: var(--fill-color);\n",
              "    }\n",
              "    60% {\n",
              "      border-color: transparent;\n",
              "      border-right-color: var(--fill-color);\n",
              "    }\n",
              "    80% {\n",
              "      border-color: transparent;\n",
              "      border-right-color: var(--fill-color);\n",
              "      border-bottom-color: var(--fill-color);\n",
              "    }\n",
              "    90% {\n",
              "      border-color: transparent;\n",
              "      border-bottom-color: var(--fill-color);\n",
              "    }\n",
              "  }\n",
              "</style>\n",
              "\n",
              "  <script>\n",
              "    async function quickchart(key) {\n",
              "      const quickchartButtonEl =\n",
              "        document.querySelector('#' + key + ' button');\n",
              "      quickchartButtonEl.disabled = true;  // To prevent multiple clicks.\n",
              "      quickchartButtonEl.classList.add('colab-df-spinner');\n",
              "      try {\n",
              "        const charts = await google.colab.kernel.invokeFunction(\n",
              "            'suggestCharts', [key], {});\n",
              "      } catch (error) {\n",
              "        console.error('Error during call to suggestCharts:', error);\n",
              "      }\n",
              "      quickchartButtonEl.classList.remove('colab-df-spinner');\n",
              "      quickchartButtonEl.classList.add('colab-df-quickchart-complete');\n",
              "    }\n",
              "    (() => {\n",
              "      let quickchartButtonEl =\n",
              "        document.querySelector('#df-7dc216f1-fd2b-467d-90df-e3242479200c button');\n",
              "      quickchartButtonEl.style.display =\n",
              "        google.colab.kernel.accessAllowed ? 'block' : 'none';\n",
              "    })();\n",
              "  </script>\n",
              "</div>\n",
              "    </div>\n",
              "  </div>\n"
            ],
            "application/vnd.google.colaboratory.intrinsic+json": {
              "type": "dataframe",
              "variable_name": "df"
            }
          },
          "metadata": {},
          "execution_count": 99
        }
      ]
    },
    {
      "cell_type": "code",
      "source": [
        "ner_count = df['Label'].value_counts()\n",
        "print(ner_count)"
      ],
      "metadata": {
        "colab": {
          "base_uri": "https://localhost:8080/"
        },
        "id": "saRiOjcwRYHR",
        "outputId": "13cc5587-548c-4860-eabb-a5bf441f8e2e"
      },
      "execution_count": 100,
      "outputs": [
        {
          "output_type": "stream",
          "name": "stdout",
          "text": [
            "Label\n",
            "O          674907\n",
            "I-org       16509\n",
            "B-org       13599\n",
            "B-loc       10224\n",
            "B-pers       9825\n",
            "I-pers       5820\n",
            "I-event      5817\n",
            "I-fac        2808\n",
            "I-loc        2700\n",
            "I-pro        2217\n",
            "B-pro        2172\n",
            "B-event      1740\n",
            "B-fac        1650\n",
            "Name: count, dtype: int64\n"
          ]
        }
      ]
    },
    {
      "cell_type": "code",
      "source": [
        "all_unique_ne = df['Label'].unique().tolist()\n",
        "ne2id = dict()\n",
        "id2ne = dict()\n",
        "\n",
        "for i, ne in enumerate(all_unique_ne):\n",
        "    ne2id[ne] = i\n",
        "    id2ne[i] = ne"
      ],
      "metadata": {
        "id": "MR-PVH9GYXOJ"
      },
      "execution_count": 101,
      "outputs": []
    },
    {
      "cell_type": "code",
      "source": [
        "import random\n",
        "\n",
        "def split_data(list1, list2, train_ratio=0.8, val_ratio=0.1, test_ratio=0.1, random_seed=42):\n",
        "    if len(list1) != len(list2):\n",
        "        raise ValueError(\"Both lists must have the same length\")\n",
        "\n",
        "    if random_seed is not None:\n",
        "        random.seed(random_seed)\n",
        "\n",
        "    indices = list(range(len(list1)))\n",
        "    random.shuffle(indices)\n",
        "\n",
        "    train_size = int(len(list1) * train_ratio)\n",
        "    val_size = int(len(list1) * val_ratio)\n",
        "\n",
        "    train_indices = indices[:train_size]\n",
        "    val_indices = indices[train_size:train_size + val_size]\n",
        "    test_indices = indices[train_size + val_size:]\n",
        "\n",
        "    list1_train = [list1[i] for i in train_indices]\n",
        "    list1_val = [list1[i] for i in val_indices]\n",
        "    list1_test = [list1[i] for i in test_indices]\n",
        "\n",
        "    list2_train = [list2[i] for i in train_indices]\n",
        "    list2_val = [list2[i] for i in val_indices]\n",
        "    list2_test = [list2[i] for i in test_indices]\n",
        "\n",
        "    return list1_train, list1_val, list1_test, list2_train, list2_val, list2_test\n",
        "\n",
        "sentences_train, sentences_valid, sentences_test, labels_train, labels_valid, labels_test = split_data(sentences, labels, train_ratio=0.8, val_ratio=0.1, test_ratio=0.1, random_seed=42)"
      ],
      "metadata": {
        "id": "xNI2iVGdUWkp"
      },
      "execution_count": 102,
      "outputs": []
    },
    {
      "cell_type": "code",
      "source": [
        "counter_dict = {}\n",
        "stop_words = ['و', 'در', 'به', 'از', 'كه', 'مي', 'اين', 'است', 'را', 'با', 'هاي', 'براي', 'آن', 'يك', 'شود', 'شده', 'خود', 'ها', 'كرد', 'شد', 'اي', 'تا', 'كند', 'بر', 'بود', 'گفت', 'نيز', 'وي', 'هم', 'كنند', 'دارد', 'ما', 'كرده', 'يا', 'اما', 'بايد', 'دو', 'اند', 'هر', 'خواهد', 'او', 'مورد', 'آنها', 'باشد', 'ديگر', 'مردم', 'نمي', 'بين', 'پيش', 'پس', 'اگر', 'همه', 'صورت', 'يكي', 'هستند', 'بي', 'من', 'دهد', 'هزار', 'نيست', 'استفاده', 'داد', 'داشته', 'راه', 'داشت', 'چه', 'همچنين', 'كردند', 'داده', 'بوده', 'دارند', 'همين', 'ميليون', 'سوي', 'شوند', 'بيشتر', 'بسيار', 'روي', 'گرفته', 'هايي', 'تواند', 'اول', 'نام', 'هيچ', 'چند', 'جديد', 'بيش', 'شدن', 'كردن', 'كنيم', 'نشان', 'حتي', 'اينكه', 'ولی', 'توسط', 'چنين', 'برخي', 'نه', 'ديروز', 'دوم', 'درباره', 'بعد', 'مختلف', 'گيرد', 'شما', 'گفته', 'آنان', 'بار', 'طور', 'گرفت', 'دهند', 'گذاري', 'بسياري', 'طي', 'بودند', 'ميليارد', 'بدون', 'تمام', 'كل', 'تر  براساس', 'شدند', 'ترين', 'امروز', 'باشند', 'ندارد', 'چون', 'قابل', 'گويد', 'ديگري', 'همان', 'خواهند', 'قبل', 'آمده', 'اكنون', 'تحت', 'طريق', 'گيري', 'جاي', 'هنوز', 'چرا', 'البته', 'كنيد', 'سازي', 'سوم', 'كنم', 'بلكه', 'زير', 'توانند', 'ضمن', 'فقط', 'بودن', 'حق', 'آيد', 'وقتي', 'اش', 'يابد', 'نخستين', 'مقابل', 'خدمات', 'امسال', 'تاكنون', 'مانند', 'تازه', 'آورد', 'فكر', 'آنچه', 'نخست', 'نشده', 'شايد', 'چهار', 'جريان', 'پنج', 'ساخته', 'زيرا', 'نزديك', 'برداري', 'كسي', 'ريزي', 'رفت', 'گردد', 'مثل', 'آمد', 'ام', 'بهترين', 'دانست', 'كمتر', 'دادن', 'تمامي', 'جلوگيري', 'بيشتري', 'ايم', 'ناشي', 'چيزي', 'آنكه', 'بالا', 'بنابراين', 'ايشان', 'بعضي', 'دادند', 'داشتند', 'برخوردار', 'نخواهد', 'هنگام', 'نبايد', 'غير', 'نبود', 'ديده', 'وگو', 'داريم', 'چگونه', 'بندي', 'خواست', 'فوق', 'ده', 'نوعي', 'هستيم', 'ديگران', 'همچنان', 'سراسر', 'ندارند', 'گروهي', 'سعي', 'روزهاي', 'آنجا', 'يكديگر', 'كردم', 'بيست', 'بروز', 'سپس', 'رفته', 'آورده', 'نمايد', 'باشيم', 'گويند', 'زياد', 'خويش', 'همواره', 'گذاشته', 'شش  نداشته', 'شناسي', 'خواهيم', 'آباد', 'داشتن', 'نظير', 'همچون', 'باره', 'نكرده', 'شان', 'سابق', 'هفت', 'دانند', 'جايي', 'بی', 'جز', 'زیرِ', 'رویِ', 'سریِ', 'تویِ', 'جلویِ', 'پیشِ', 'عقبِ', 'بالایِ', 'خارجِ', 'وسطِ', 'بیرونِ', 'سویِ', 'کنارِ', 'پاعینِ', 'نزدِ', 'نزدیکِ', 'دنبالِ', 'حدودِ', 'برابرِ', 'طبقِ', 'مانندِ', 'ضدِّ', 'هنگامِ', 'برایِ', 'مثلِ', 'بارة', 'اثرِ', 'تولِ', 'علّتِ', 'سمتِ', 'عنوانِ', 'قصدِ', 'روب', 'جدا', 'کی', 'که', 'چیست', 'هست', 'کجا', 'کجاست', 'کَی', 'چطور', 'کدام', 'آیا', 'مگر', 'چندین', 'یک', 'چیزی', 'دیگر', 'کسی', 'بعری', 'هیچ', 'چیز', 'جا', 'کس', 'هرگز', 'یا', 'تنها', 'بلکه', 'خیاه', 'بله', 'بلی', 'آره', 'آری', 'مرسی', 'البتّه', 'لطفاً', 'ّه', 'انکه', 'وقتیکه', 'همین', 'پیش', 'مدّتی', 'هنگامی', 'مان', 'تان']\n",
        "\n",
        "def ner_statistics(sentences_list, label_list):\n",
        "    global counter_dict, stop_words\n",
        "    for i in range(len(label_list)):\n",
        "        current_sentence = sentences_list[i]\n",
        "        current_label_list = label_list[i]\n",
        "        for j in range(len(current_label_list)):\n",
        "            current_token = current_sentence[j]\n",
        "            current_label = current_label_list[j]\n",
        "            if current_token not in stop_words and current_token not in string.punctuation:\n",
        "                if current_label not in counter_dict.keys():\n",
        "                    counter_dict[current_label] = 0\n",
        "                counter_dict[current_label] += 1\n",
        "\n",
        "ner_statistics(sentences_train, labels_train)\n",
        "ner_statistics(sentences_valid, labels_valid)\n",
        "ner_statistics(sentences_test, labels_test)\n",
        "print(counter_dict)"
      ],
      "metadata": {
        "colab": {
          "base_uri": "https://localhost:8080/"
        },
        "id": "KDMt79eTR7mt",
        "outputId": "03cf6f1d-5c21-474b-e3ff-1f7c27564e04"
      },
      "execution_count": 103,
      "outputs": [
        {
          "output_type": "stream",
          "name": "stdout",
          "text": [
            "{'O': 420375, 'B-loc': 10221, 'B-org': 13572, 'I-org': 15420, 'B-pers': 9825, 'I-pers': 5742, 'B-pro': 2121, 'B-event': 1740, 'I-event': 5508, 'I-loc': 2613, 'B-fac': 1650, 'I-fac': 2739, 'I-pro': 1971}\n"
          ]
        }
      ]
    },
    {
      "cell_type": "code",
      "source": [
        "stop_words = ['و', 'در', 'به', 'از', 'كه', 'مي', 'اين', 'است', 'را', 'با', 'هاي', 'براي', 'آن', 'يك', 'شود', 'شده', 'خود', 'ها', 'كرد', 'شد', 'اي', 'تا', 'كند', 'بر', 'بود', 'گفت', 'نيز', 'وي', 'هم', 'كنند', 'دارد', 'ما', 'كرده', 'يا', 'اما', 'بايد', 'دو', 'اند', 'هر', 'خواهد', 'او', 'مورد', 'آنها', 'باشد', 'ديگر', 'مردم', 'نمي', 'بين', 'پيش', 'پس', 'اگر', 'همه', 'صورت', 'يكي', 'هستند', 'بي', 'من', 'دهد', 'هزار', 'نيست', 'استفاده', 'داد', 'داشته', 'راه', 'داشت', 'چه', 'همچنين', 'كردند', 'داده', 'بوده', 'دارند', 'همين', 'ميليون', 'سوي', 'شوند', 'بيشتر', 'بسيار', 'روي', 'گرفته', 'هايي', 'تواند', 'اول', 'نام', 'هيچ', 'چند', 'جديد', 'بيش', 'شدن', 'كردن', 'كنيم', 'نشان', 'حتي', 'اينكه', 'ولی', 'توسط', 'چنين', 'برخي', 'نه', 'ديروز', 'دوم', 'درباره', 'بعد', 'مختلف', 'گيرد', 'شما', 'گفته', 'آنان', 'بار', 'طور', 'گرفت', 'دهند', 'گذاري', 'بسياري', 'طي', 'بودند', 'ميليارد', 'بدون', 'تمام', 'كل', 'تر  براساس', 'شدند', 'ترين', 'امروز', 'باشند', 'ندارد', 'چون', 'قابل', 'گويد', 'ديگري', 'همان', 'خواهند', 'قبل', 'آمده', 'اكنون', 'تحت', 'طريق', 'گيري', 'جاي', 'هنوز', 'چرا', 'البته', 'كنيد', 'سازي', 'سوم', 'كنم', 'بلكه', 'زير', 'توانند', 'ضمن', 'فقط', 'بودن', 'حق', 'آيد', 'وقتي', 'اش', 'يابد', 'نخستين', 'مقابل', 'خدمات', 'امسال', 'تاكنون', 'مانند', 'تازه', 'آورد', 'فكر', 'آنچه', 'نخست', 'نشده', 'شايد', 'چهار', 'جريان', 'پنج', 'ساخته', 'زيرا', 'نزديك', 'برداري', 'كسي', 'ريزي', 'رفت', 'گردد', 'مثل', 'آمد', 'ام', 'بهترين', 'دانست', 'كمتر', 'دادن', 'تمامي', 'جلوگيري', 'بيشتري', 'ايم', 'ناشي', 'چيزي', 'آنكه', 'بالا', 'بنابراين', 'ايشان', 'بعضي', 'دادند', 'داشتند', 'برخوردار', 'نخواهد', 'هنگام', 'نبايد', 'غير', 'نبود', 'ديده', 'وگو', 'داريم', 'چگونه', 'بندي', 'خواست', 'فوق', 'ده', 'نوعي', 'هستيم', 'ديگران', 'همچنان', 'سراسر', 'ندارند', 'گروهي', 'سعي', 'روزهاي', 'آنجا', 'يكديگر', 'كردم', 'بيست', 'بروز', 'سپس', 'رفته', 'آورده', 'نمايد', 'باشيم', 'گويند', 'زياد', 'خويش', 'همواره', 'گذاشته', 'شش  نداشته', 'شناسي', 'خواهيم', 'آباد', 'داشتن', 'نظير', 'همچون', 'باره', 'نكرده', 'شان', 'سابق', 'هفت', 'دانند', 'جايي', 'بی', 'جز', 'زیرِ', 'رویِ', 'سریِ', 'تویِ', 'جلویِ', 'پیشِ', 'عقبِ', 'بالایِ', 'خارجِ', 'وسطِ', 'بیرونِ', 'سویِ', 'کنارِ', 'پاعینِ', 'نزدِ', 'نزدیکِ', 'دنبالِ', 'حدودِ', 'برابرِ', 'طبقِ', 'مانندِ', 'ضدِّ', 'هنگامِ', 'برایِ', 'مثلِ', 'بارة', 'اثرِ', 'تولِ', 'علّتِ', 'سمتِ', 'عنوانِ', 'قصدِ', 'روب', 'جدا', 'کی', 'که', 'چیست', 'هست', 'کجا', 'کجاست', 'کَی', 'چطور', 'کدام', 'آیا', 'مگر', 'چندین', 'یک', 'چیزی', 'دیگر', 'کسی', 'بعری', 'هیچ', 'چیز', 'جا', 'کس', 'هرگز', 'یا', 'تنها', 'بلکه', 'خیاه', 'بله', 'بلی', 'آره', 'آری', 'مرسی', 'البتّه', 'لطفاً', 'ّه', 'انکه', 'وقتیکه', 'همین', 'پیش', 'مدّتی', 'هنگامی', 'مان', 'تان']\n",
        "\n",
        "def delete_stopwords_and_punctuations(sentences_list, label_list):\n",
        "    global stop_words\n",
        "    new_sentence_list = list()\n",
        "    new_label_list = list()\n",
        "    for i in range(len(label_list)):\n",
        "        current_sentence = sentences_list[i]\n",
        "        current_label_list = label_list[i]\n",
        "        new_current_sentence = list()\n",
        "        new_current_label_list = list()\n",
        "        for j in range(len(current_label_list)):\n",
        "            current_token = current_sentence[j]\n",
        "            current_label = current_label_list[j]\n",
        "            if current_token not in stop_words and current_token not in string.punctuation:\n",
        "                new_current_sentence.append(current_token.lower())\n",
        "                new_current_label_list.append(current_label)\n",
        "        new_sentence_list.append(new_current_sentence)\n",
        "        new_label_list.append(new_current_label_list)\n",
        "    return new_sentence_list, new_label_list\n",
        "\n",
        "new_train_sentences, new_train_labels = delete_stopwords_and_punctuations(sentences_train, labels_train)\n",
        "new_valid_sentences, new_valid_labels = delete_stopwords_and_punctuations(sentences_valid, labels_valid)\n",
        "new_test_sentences, new_test_labels = delete_stopwords_and_punctuations(sentences_test, labels_test)"
      ],
      "metadata": {
        "id": "0ntMFRsjWhd5"
      },
      "execution_count": 104,
      "outputs": []
    },
    {
      "cell_type": "markdown",
      "source": [
        "# **Persian Token Classification**"
      ],
      "metadata": {
        "id": "-77DZdd9XPxp"
      }
    },
    {
      "cell_type": "code",
      "source": [
        "import pandas as pd\n",
        "from tensorflow import keras\n",
        "import numpy as np"
      ],
      "metadata": {
        "id": "9zWhEXHtXPxy"
      },
      "execution_count": 105,
      "outputs": []
    },
    {
      "cell_type": "code",
      "source": [
        "sentences = [item for sublist in new_train_sentences for item in sublist]\n",
        "labels = [item for sublist in new_train_labels for item in sublist]\n",
        "\n",
        "sentence_markers = []\n",
        "sentence_counter = 1\n",
        "for sublist in new_train_sentences:\n",
        "    if len(sublist) != len([f\"Sentence: {sentence_counter}\"] + [np.nan] * (len(sublist) - 1)):\n",
        "        continue\n",
        "    sentence_markers.extend([f\"Sentence: {sentence_counter}\"] + [np.nan] * (len(sublist) - 1))\n",
        "    sentence_counter += 1\n",
        "\n",
        "df = pd.DataFrame({\n",
        "    'Sentence #': sentence_markers,\n",
        "    'Word': sentences,\n",
        "    'POS': [np.nan] * len(sentences),\n",
        "    'Tag': labels\n",
        "})\n",
        "\n",
        "print(df)"
      ],
      "metadata": {
        "colab": {
          "base_uri": "https://localhost:8080/"
        },
        "outputId": "c6de3aaa-7e27-4114-ede7-340db7c1199b",
        "id": "XEjNcmVVXPxz"
      },
      "execution_count": 106,
      "outputs": [
        {
          "output_type": "stream",
          "name": "stdout",
          "text": [
            "         Sentence #        Word  POS      Tag\n",
            "0       Sentence: 1    بنابراین  NaN        O\n",
            "1               NaN       رابطه  NaN        O\n",
            "2               NaN      روحانی  NaN        O\n",
            "3               NaN       رابطه  NaN        O\n",
            "4               NaN     دیالوگی  NaN        O\n",
            "...             ...         ...  ...      ...\n",
            "395184          NaN        رئال  NaN    B-org\n",
            "395185          NaN     سوپرجام  NaN  B-event\n",
            "395186          NaN       اروپا  NaN  I-event\n",
            "395187          NaN  گالاتاسرای  NaN    B-org\n",
            "395188          NaN         دست  NaN        O\n",
            "\n",
            "[395189 rows x 4 columns]\n"
          ]
        }
      ]
    },
    {
      "cell_type": "code",
      "source": [
        "tags = df.Tag.unique()\n",
        "tags"
      ],
      "metadata": {
        "colab": {
          "base_uri": "https://localhost:8080/"
        },
        "outputId": "10450f1e-d5d6-4e61-8fed-ae70dd50ac54",
        "id": "1tThnjQ1XPxz"
      },
      "execution_count": 107,
      "outputs": [
        {
          "output_type": "execute_result",
          "data": {
            "text/plain": [
              "array(['O', 'B-loc', 'B-org', 'I-org', 'B-pers', 'I-pers', 'B-pro',\n",
              "       'B-event', 'I-event', 'I-loc', 'B-fac', 'I-fac', 'I-pro'],\n",
              "      dtype=object)"
            ]
          },
          "metadata": {},
          "execution_count": 107
        }
      ]
    },
    {
      "cell_type": "code",
      "source": [
        "id2tag = dict(enumerate(tags))\n",
        "tag2id = { v : k for k,v in id2tag.items() }\n",
        "\n",
        "id2tag[0]"
      ],
      "metadata": {
        "colab": {
          "base_uri": "https://localhost:8080/",
          "height": 36
        },
        "outputId": "eeb6fcab-1c0c-4ea5-cb96-e59f9061761d",
        "id": "xFlFT7ZvXPxz"
      },
      "execution_count": 108,
      "outputs": [
        {
          "output_type": "execute_result",
          "data": {
            "text/plain": [
              "'O'"
            ],
            "application/vnd.google.colaboratory.intrinsic+json": {
              "type": "string"
            }
          },
          "metadata": {},
          "execution_count": 108
        }
      ]
    },
    {
      "cell_type": "code",
      "source": [
        "vocab = set(df['Word'].apply(lambda x: x.lower()))\n",
        "id2word = { i+1 : v for i,v in enumerate(vocab) }\n",
        "id2word[0] = '<UNK>'\n",
        "vocab.add('<UNK>')\n",
        "word2id = { v : k for k,v in id2word.items() }"
      ],
      "metadata": {
        "id": "D7iZg_glXPx0"
      },
      "execution_count": 109,
      "outputs": []
    },
    {
      "cell_type": "code",
      "source": [
        "X,Y = [],[]\n",
        "s,t = [],[]\n",
        "for i,row in df[['Sentence #','Word','Tag']].iterrows():\n",
        "    if pd.isna(row['Sentence #']):\n",
        "        s.append(row['Word'])\n",
        "        t.append(row['Tag'])\n",
        "    else:\n",
        "        if len(s)>0:\n",
        "            X.append(s)\n",
        "            Y.append(t)\n",
        "        s,t = [row['Word']],[row['Tag']]\n",
        "X.append(s)\n",
        "Y.append(t)"
      ],
      "metadata": {
        "id": "bWm9-u2NXPx0"
      },
      "execution_count": 110,
      "outputs": []
    },
    {
      "cell_type": "code",
      "source": [
        "def vectorize(seq):\n",
        "    return [word2id[x.lower()] for x in seq]\n",
        "\n",
        "def tagify(seq):\n",
        "    return [tag2id[x] for x in seq]\n",
        "\n",
        "Xv = list(map(vectorize,X))\n",
        "Yv = list(map(tagify,Y))\n",
        "\n",
        "Xv[0], Yv[0]"
      ],
      "metadata": {
        "colab": {
          "base_uri": "https://localhost:8080/"
        },
        "outputId": "ebc1e827-80ca-45f6-af46-431b3bf670e8",
        "id": "7mygrdwtXPx0"
      },
      "execution_count": 111,
      "outputs": [
        {
          "output_type": "execute_result",
          "data": {
            "text/plain": [
              "([2516, 15220, 7563, 15220, 13875, 15549], [0, 0, 0, 0, 0, 0])"
            ]
          },
          "metadata": {},
          "execution_count": 111
        }
      ]
    },
    {
      "cell_type": "code",
      "source": [
        "X_data = keras.preprocessing.sequence.pad_sequences(Xv,padding='post')\n",
        "Y_data = keras.preprocessing.sequence.pad_sequences(Yv,padding='post')"
      ],
      "metadata": {
        "id": "ZdCiLi5NXPx0"
      },
      "execution_count": 112,
      "outputs": []
    },
    {
      "cell_type": "code",
      "source": [
        "maxlen = X_data.shape[1]\n",
        "vocab_size = len(vocab)\n",
        "num_tags = len(tags)\n",
        "model = keras.models.Sequential([\n",
        "    keras.layers.Embedding(vocab_size, 300, input_length=maxlen),\n",
        "    keras.layers.Bidirectional(keras.layers.LSTM(units=100, activation='tanh', return_sequences=True)),\n",
        "    keras.layers.Bidirectional(keras.layers.LSTM(units=100, activation='tanh', return_sequences=True)),\n",
        "    keras.layers.TimeDistributed(keras.layers.Dense(num_tags, activation='softmax'))\n",
        "])\n",
        "model.compile(loss='sparse_categorical_crossentropy',optimizer='adam',metrics=['acc'])\n",
        "model.summary()"
      ],
      "metadata": {
        "colab": {
          "base_uri": "https://localhost:8080/"
        },
        "outputId": "20926fce-2814-48be-bfb7-87aca211b8e9",
        "id": "-t1xQ9LwXPx0"
      },
      "execution_count": 113,
      "outputs": [
        {
          "output_type": "stream",
          "name": "stdout",
          "text": [
            "Model: \"sequential_1\"\n",
            "_________________________________________________________________\n",
            " Layer (type)                Output Shape              Param #   \n",
            "=================================================================\n",
            " embedding_1 (Embedding)     (None, 187, 300)          5389500   \n",
            "                                                                 \n",
            " bidirectional_2 (Bidirecti  (None, 187, 200)          320800    \n",
            " onal)                                                           \n",
            "                                                                 \n",
            " bidirectional_3 (Bidirecti  (None, 187, 200)          240800    \n",
            " onal)                                                           \n",
            "                                                                 \n",
            " time_distributed_1 (TimeDi  (None, 187, 13)           2613      \n",
            " stributed)                                                      \n",
            "                                                                 \n",
            "=================================================================\n",
            "Total params: 5953713 (22.71 MB)\n",
            "Trainable params: 5953713 (22.71 MB)\n",
            "Non-trainable params: 0 (0.00 Byte)\n",
            "_________________________________________________________________\n"
          ]
        }
      ]
    },
    {
      "cell_type": "code",
      "source": [
        "model.fit(X_data,Y_data)"
      ],
      "metadata": {
        "colab": {
          "base_uri": "https://localhost:8080/"
        },
        "outputId": "61818382-8082-48ec-a051-9afb231256b3",
        "id": "a94F1m6OXPx1"
      },
      "execution_count": 114,
      "outputs": [
        {
          "output_type": "stream",
          "name": "stdout",
          "text": [
            "576/576 [==============================] - 760s 1s/step - loss: 0.0771 - acc: 0.9838\n"
          ]
        },
        {
          "output_type": "execute_result",
          "data": {
            "text/plain": [
              "<keras.src.callbacks.History at 0x7a9d1d2b7250>"
            ]
          },
          "metadata": {},
          "execution_count": 114
        }
      ]
    },
    {
      "cell_type": "code",
      "source": [
        "sent = ' '.join(new_test_sentences[40])\n",
        "words = sent.lower().split()\n",
        "v = keras.preprocessing.sequence.pad_sequences([[word2id[x] for x in words]],padding='post',maxlen=maxlen)\n",
        "res = model(v)[0]\n",
        "r = np.argmax(res.numpy(),axis=1)\n",
        "for i,w in zip(r,words):\n",
        "    print(f\"{w} -> {id2tag[i]}\")"
      ],
      "metadata": {
        "colab": {
          "base_uri": "https://localhost:8080/"
        },
        "outputId": "85a93ec7-aa50-44df-b4ed-7282e3cfb9a4",
        "id": "_fn8DEXOXPx1"
      },
      "execution_count": 115,
      "outputs": [
        {
          "output_type": "stream",
          "name": "stdout",
          "text": [
            "آیت‌الله -> O\n",
            "یوسف -> B-pers\n",
            "صانعی -> I-pers\n",
            "اعلام -> O\n",
            "کردند -> O\n",
            "دولت -> O\n",
            "آقای -> O\n",
            "خاتمی -> B-pers\n",
            "زیادی -> O\n",
            "زمینه‌های -> O\n",
            "اقتصادی -> O\n",
            "سیاسی -> O\n",
            "انجام -> O\n"
          ]
        }
      ]
    },
    {
      "cell_type": "code",
      "source": [
        "from tqdm import tqdm\n",
        "\n",
        "final_true_labels = list()\n",
        "final_predicted_labels = list()\n",
        "\n",
        "for i in tqdm(range(len(new_test_sentences))):\n",
        "    try:\n",
        "        sent = ' '.join(new_test_sentences[i])\n",
        "        words = sent.lower().split()\n",
        "        v = keras.preprocessing.sequence.pad_sequences([[word2id[x] for x in words]],padding='post',maxlen=maxlen)\n",
        "        res = model(v)[0]\n",
        "        r = np.argmax(res.numpy(),axis=1)\n",
        "        true_labels = new_test_labels[i]\n",
        "        predicted_labels = list()\n",
        "        for i,w in zip(r,words):\n",
        "            predicted_labels.append(id2tag[i])\n",
        "        final_true_labels += [tag2id[k] for k in true_labels]\n",
        "        final_predicted_labels += [tag2id[k] for k in predicted_labels]\n",
        "    except:\n",
        "        pass"
      ],
      "metadata": {
        "colab": {
          "base_uri": "https://localhost:8080/"
        },
        "outputId": "6eca8be1-1d80-4b9a-defa-7026c7059aa4",
        "id": "9zR-N3g-XPx1"
      },
      "execution_count": null,
      "outputs": [
        {
          "output_type": "stream",
          "name": "stderr",
          "text": [
            "100%|██████████| 2305/2305 [50:38<00:00,  1.32s/it]\n"
          ]
        }
      ]
    },
    {
      "cell_type": "code",
      "source": [
        "true_labels = final_true_labels\n",
        "predicted_labels = final_predicted_labels\n",
        "class_names = list()\n",
        "for i in range(len(id2tag)):\n",
        "    class_names.append(id2tag[i])\n",
        "\n",
        "print(\"F1 Macro:\", f1_macro(true_labels, predicted_labels))\n",
        "print(\"F1 Micro:\", f1_micro(true_labels, predicted_labels))\n",
        "print(\"Accuracy:\", accuracy(true_labels, predicted_labels))\n",
        "print(\"Precision:\", precision(true_labels, predicted_labels))\n",
        "print(\"Recall:\", recall(true_labels, predicted_labels))\n",
        "\n",
        "plot_confusion_matrix(true_labels, predicted_labels, class_names)"
      ],
      "metadata": {
        "colab": {
          "base_uri": "https://localhost:8080/",
          "height": 822
        },
        "outputId": "7dd0ffad-ec5c-4a84-d40c-aeb1a55288aa",
        "id": "4djQx4SjXPx1"
      },
      "execution_count": null,
      "outputs": [
        {
          "output_type": "stream",
          "name": "stdout",
          "text": [
            "F1 Macro: 0.2861490237534387\n",
            "F1 Micro: 0.9003020527256662\n",
            "Accuracy: 0.9003020527256662\n",
            "Precision: 0.3205330154341237\n",
            "Recall: 0.2941872188674185\n"
          ]
        },
        {
          "output_type": "stream",
          "name": "stderr",
          "text": [
            "/usr/local/lib/python3.10/dist-packages/sklearn/metrics/_classification.py:1344: UndefinedMetricWarning: Precision is ill-defined and being set to 0.0 in labels with no predicted samples. Use `zero_division` parameter to control this behavior.\n",
            "  _warn_prf(average, modifier, msg_start, len(result))\n"
          ]
        },
        {
          "output_type": "display_data",
          "data": {
            "text/plain": [
              "<Figure size 1000x700 with 2 Axes>"
            ],
            "image/png": "[encoded data removed]"
          },
          "metadata": {}
        }
      ]
    },
    {
      "cell_type": "code",
      "source": [
        "movie_titles = [\n",
        "    (\"قصه شیراز\", \"O B-LOC\"),\n",
        "    (\"خانه روی آب\", \"O O O\"),\n",
        "    (\"سفر تهران\", \"O B-LOC\"),\n",
        "    (\"پسر ایرانی\", \"O B-LOC\"),\n",
        "    (\"ملاقات شهید چمران\", \"O O B-PER\"),\n",
        "    (\"داستان شرکت سایپا\", \"O B-ORG I-ORG\"),\n",
        "    (\"رضا محمدی\", \"B-PER I-PER\"),\n",
        "    (\"زندگی عاشقانه\", \"O O\"),\n",
        "    (\"اصفهان زیبا\", \"B-LOC O\"),\n",
        "    (\"جنگ ایران عراق\", \"O B-ORG I-ORG\")\n",
        "]"
      ],
      "metadata": {
        "id": "OmLEmOn0nWvs"
      },
      "execution_count": 180,
      "outputs": []
    },
    {
      "cell_type": "code",
      "source": [
        "for movie in movie_titles:\n",
        "    sent = movie[0]\n",
        "    words = sent.lower().split()\n",
        "    v = keras.preprocessing.sequence.pad_sequences([[word2id[x] for x in words]],padding='post',maxlen=maxlen)\n",
        "    res = model(v)[0]\n",
        "    r = np.argmax(res.numpy(),axis=1)\n",
        "    for i,w in zip(r,words):\n",
        "        print(f\"{w} -> {id2tag[i]}\")\n",
        "    print(movie[1])\n",
        "    print(\"-\" * 30)"
      ],
      "metadata": {
        "colab": {
          "base_uri": "https://localhost:8080/"
        },
        "id": "HuOVOSMhnW6A",
        "outputId": "dc2fc6a6-3565-420c-8d69-ef67fcdd537e"
      },
      "execution_count": 181,
      "outputs": [
        {
          "output_type": "stream",
          "name": "stdout",
          "text": [
            "قصه -> O\n",
            "شیراز -> B-loc\n",
            "O B-LOC\n",
            "------------------------------\n",
            "خانه -> O\n",
            "روی -> O\n",
            "آب -> O\n",
            "O O O\n",
            "------------------------------\n",
            "سفر -> O\n",
            "تهران -> B-loc\n",
            "O B-LOC\n",
            "------------------------------\n",
            "پسر -> O\n",
            "ایرانی -> B-loc\n",
            "O B-LOC\n",
            "------------------------------\n",
            "ملاقات -> O\n",
            "شهید -> O\n",
            "چمران -> O\n",
            "O O B-PER\n",
            "------------------------------\n",
            "داستان -> O\n",
            "شرکت -> B-org\n",
            "سایپا -> I-org\n",
            "O B-ORG I-ORG\n",
            "------------------------------\n",
            "رضا -> B-pers\n",
            "محمدی -> O\n",
            "B-PER I-PER\n",
            "------------------------------\n",
            "زندگی -> O\n",
            "عاشقانه -> O\n",
            "O O\n",
            "------------------------------\n",
            "اصفهان -> B-loc\n",
            "زیبا -> O\n",
            "B-LOC O\n",
            "------------------------------\n",
            "جنگ -> O\n",
            "ایران -> B-org\n",
            "عراق -> I-org\n",
            "O B-ORG I-ORG\n",
            "------------------------------\n"
          ]
        }
      ]
    },
    {
      "cell_type": "code",
      "source": [],
      "metadata": {
        "id": "qykPEzA_pV10"
      },
      "execution_count": null,
      "outputs": []
    }
  ]
}